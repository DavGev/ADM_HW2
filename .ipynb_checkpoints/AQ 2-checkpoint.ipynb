{
 "cells": [
  {
   "cell_type": "markdown",
   "id": "fcc627ac",
   "metadata": {},
   "source": [
    "# AQ 2"
   ]
  },
  {
   "cell_type": "code",
   "execution_count": 1,
   "id": "85d29eb1",
   "metadata": {},
   "outputs": [],
   "source": [
    "import numpy as np"
   ]
  },
  {
   "cell_type": "markdown",
   "id": "83e0c84b",
   "metadata": {},
   "source": [
    "## Recursion and Dynamic Programming\n",
    "\n",
    "$F(1) = 1$\n",
    "\n",
    "$F(2) = \\max \\{ 1 \\cdot F(1), \\quad 2 \\}$\n",
    "\n",
    "$F(3) = \\max \\{ 1 \\cdot F(2), \\quad 2 \\cdot F(1), \\quad 3 \\}$\n",
    "\n",
    "$...$\n",
    "\n",
    "$F(N) = \\max \\{ 1 \\cdot F(N-1), \\quad 2 \\cdot F(N-2), \\quad ... \\quad N \\}$"
   ]
  },
  {
   "cell_type": "code",
   "execution_count": 38,
   "id": "6511b016",
   "metadata": {},
   "outputs": [
    {
     "name": "stdout",
     "output_type": "stream",
     "text": [
      "[   1    1    2    3    4    6    9   12   18   27   36   54   81  108\n",
      "  162  243  324  486  729  972 1458 2187 2916 4374 6561 8748]\n"
     ]
    }
   ],
   "source": [
    "def dynamic(N):\n",
    "    \n",
    "    arr = np.array([1])\n",
    "\n",
    "    for n in range(N):\n",
    "        F = np.max(arr * (np.arange(arr.size, 0, -1)))\n",
    "        arr = np.append(arr, F)\n",
    "        \n",
    "    return arr\n",
    "\n",
    "print(dynamic(25))"
   ]
  },
  {
   "cell_type": "markdown",
   "id": "fa3af57b",
   "metadata": {},
   "source": [
    "## Guess Based on Math\n",
    "\n",
    "$\\sqrt[n]{a_1 a_2 ... a_n} \\le \\frac{a_1 + a_2 + ... +a_n}{n} = \\frac{N}{n}$\n",
    "\n",
    "$F(N) \\approx \\sup((N / n)^n) = ... = e^{N/e}  \\Rightarrow \\frac{N}{n} = e \\approx 3$\n",
    "\n",
    "a good guess will be to have as much 3s as posible"
   ]
  },
  {
   "cell_type": "code",
   "execution_count": 39,
   "id": "2011dafa",
   "metadata": {},
   "outputs": [
    {
     "name": "stdout",
     "output_type": "stream",
     "text": [
      "[   1    1    2    3    4    6    9   12   18   27   36   54   81  108\n",
      "  162  243  324  486  729  972 1458 2187 2916 4374 6561 8748]\n"
     ]
    }
   ],
   "source": [
    "def guess(N):\n",
    "    \n",
    "    if N == 1:\n",
    "        return 1\n",
    "    \n",
    "    elif N % 3 == 0:\n",
    "        return 3 ** (N // 3)\n",
    "    \n",
    "    elif N % 3 == 1:\n",
    "        return 3 ** ((N-4) // 3) * 4\n",
    "    \n",
    "    elif N % 3 == 2:\n",
    "        return 3 **((N-2) // 3) * 2\n",
    "    \n",
    "    \n",
    "print(np.array([guess(n) for n in range(26)]))"
   ]
  },
  {
   "cell_type": "markdown",
   "id": "d09bdccd",
   "metadata": {},
   "source": [
    "## Wow! didn't expact"
   ]
  }
 ],
 "metadata": {
  "kernelspec": {
   "display_name": "Python 3 (ipykernel)",
   "language": "python",
   "name": "python3"
  },
  "language_info": {
   "codemirror_mode": {
    "name": "ipython",
    "version": 3
   },
   "file_extension": ".py",
   "mimetype": "text/x-python",
   "name": "python",
   "nbconvert_exporter": "python",
   "pygments_lexer": "ipython3",
   "version": "3.10.4"
  }
 },
 "nbformat": 4,
 "nbformat_minor": 5
}
