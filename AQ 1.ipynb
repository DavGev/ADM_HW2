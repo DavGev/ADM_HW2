{
 "cells": [
  {
   "cell_type": "markdown",
   "id": "eed37582",
   "metadata": {},
   "source": [
    "###### This is the original code in R\n",
    "```R\n",
    "Input: \n",
    "    N : an integer \n",
    "    List : array of characters of length N without repetition\n",
    "    \n",
    "function f1(sequence, end): \n",
    "    For i=0 To end:\n",
    "        OUTPUT sequence[i]\n",
    "    EndFor\n",
    "    Output \"\\n\"\n",
    "    \n",
    "function f2(sequence, start, end): \n",
    "    If start = end: \n",
    "        f1(sequence, end)\n",
    "    Else\n",
    "        For i=start To end: \n",
    "            temp <-- sequence[start]\n",
    "            sequence[start] <-- sequence[i]\n",
    "            sequence[i] <-- temp\n",
    "            f2(sequence, start+1, end)\n",
    "            temp <-- sequence[start]\n",
    "            sequence[start] <-- sequence[i]\n",
    "            sequence[i] <-- temp\n",
    "f2(List, 0, N)\n",
    "```\n",
    "###### Let's rewright it in python"
   ]
  },
  {
   "cell_type": "code",
   "execution_count": 1,
   "id": "961105c9",
   "metadata": {},
   "outputs": [],
   "source": [
    "def f1(sequence, end):\n",
    "    print(sequence[:end])\n",
    "    \n",
    "    \n",
    "def f2(sequence, start, end):\n",
    "    if start == end:\n",
    "        f1(sequence, end)\n",
    "    else:\n",
    "        for i in range(start, end):\n",
    "            sequence[start], sequence[i] = sequence[i], sequence[start]\n",
    "            f2(sequence, start+1, end)\n",
    "            sequence[start], sequence[i] = sequence[i], sequence[start]"
   ]
  },
  {
   "cell_type": "code",
   "execution_count": 2,
   "id": "39445048",
   "metadata": {},
   "outputs": [
    {
     "name": "stdout",
     "output_type": "stream",
     "text": [
      "['A', 'B', 'C']\n",
      "['A', 'C', 'B']\n",
      "['B', 'A', 'C']\n",
      "['B', 'C', 'A']\n",
      "['C', 'B', 'A']\n",
      "['C', 'A', 'B']\n"
     ]
    }
   ],
   "source": [
    "seq = list('ABC')\n",
    "f2(seq, 0, len(seq))"
   ]
  },
  {
   "cell_type": "markdown",
   "id": "6dda1ec1",
   "metadata": {},
   "source": [
    "This is a recoursive algorithm that prints all the permutations of the sequence. In every loop it brings an element to the first place and permutates the rest. In the exaple above the second loop brings `'B'` to the first place and than applies the same function to the `['A', 'C']` part of the list, i.e. prints its permutations `['A', 'C']` and  `['C', 'A']`.\n",
    "\n",
    "Its running time is $O(N!)$ and it is the optimal algorithm as there are $N!$ permutations for a sequence of lent]gth $N$"
   ]
  },
  {
   "cell_type": "code",
   "execution_count": null,
   "id": "4fa99f6c",
   "metadata": {},
   "outputs": [],
   "source": []
  }
 ],
 "metadata": {
  "kernelspec": {
   "display_name": "Python 3 (ipykernel)",
   "language": "python",
   "name": "python3"
  },
  "language_info": {
   "codemirror_mode": {
    "name": "ipython",
    "version": 3
   },
   "file_extension": ".py",
   "mimetype": "text/x-python",
   "name": "python",
   "nbconvert_exporter": "python",
   "pygments_lexer": "ipython3",
   "version": "3.10.4"
  }
 },
 "nbformat": 4,
 "nbformat_minor": 5
}
