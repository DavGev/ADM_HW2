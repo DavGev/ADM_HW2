{
 "cells": [
  {
   "cell_type": "markdown",
   "id": "fcc627ac",
   "metadata": {},
   "source": [
    "# AQ 2"
   ]
  },
  {
   "cell_type": "code",
   "execution_count": 1,
   "id": "85d29eb1",
   "metadata": {},
   "outputs": [],
   "source": [
    "import numpy as np"
   ]
  },
  {
   "cell_type": "markdown",
   "id": "83e0c84b",
   "metadata": {},
   "source": [
    "## Recursion and Dynamic Programming\n",
    "\n",
    "$F(1) = 1$\n",
    "\n",
    "$F(2) = \\max \\{ 1 \\cdot F(1), \\quad 2 \\}$\n",
    "\n",
    "$F(3) = \\max \\{ 1 \\cdot F(2), \\quad 2 \\cdot F(1), \\quad 3 \\}$\n",
    "\n",
    "$...$\n",
    "\n",
    "$F(N) = \\max \\{ 1 \\cdot F(N-1), \\quad 2 \\cdot F(N-2), \\quad ... \\quad N \\}$"
   ]
  },
  {
   "cell_type": "code",
   "execution_count": 22,
   "id": "6511b016",
   "metadata": {},
   "outputs": [
    {
     "name": "stdout",
     "output_type": "stream",
     "text": [
      "[   1    1    2    3    4    6    9   12   18   27   36   54   81  108\n",
      "  162  243  324  486  729  972 1458 2187 2916 4374 6561 8748]\n"
     ]
    }
   ],
   "source": [
    "def Dynamic(N):\n",
    "    \n",
    "    arr = np.array([1])\n",
    "\n",
    "    for n in range(N):\n",
    "        F = np.max(np.arange(1, n+2) * arr[::-1])\n",
    "        arr = np.append(arr, F)\n",
    "        \n",
    "    return arr\n",
    "\n",
    "print(Dynamic(25))"
   ]
  },
  {
   "cell_type": "markdown",
   "id": "fa3af57b",
   "metadata": {},
   "source": [
    "## Guess Based on Math\n",
    "\n",
    "$$ a_1 + a_2 + ... +a_n = N $$\n",
    "\n",
    "$$ \\sqrt[n]{a_1 a_2 ... a_n} \\le \\frac{a_1 + a_2 + ... +a_n}{n} = \\frac{N}{n} $$\n",
    "\n",
    "$$ \\sqrt[n]{a_1 a_2 ... a_n} = \\frac{N}{n} \\quad \\Leftrightarrow \\quad a_1 = a_2 = ... = a_n = \\frac{N}{n} $$\n",
    "\n",
    "To estimate $n$ we can take the $ x \\in \\mathbb{R} $ where $ \\left ( \\frac{N}{x} \\right) ^ x $ reaches its maximum\n",
    "\n",
    "$$ \\frac{d}{dx} \\left( \\frac{N}{x} \\right) ^ x = \\frac{d}{dx} e ^ {x \\ln N - x \\ln x} = \\left( \\frac{N}{x} \\right) ^ x\n",
    "\\left( \\ln N - \\ln x - 1 \\right) = 0 $$\n",
    "\n",
    "$$ \\Rightarrow \\frac{N}{x} = e \\approx 3 $$\n",
    "\n",
    "So a good guess will be to have as much 3s as posible"
   ]
  },
  {
   "cell_type": "code",
   "execution_count": 23,
   "id": "2011dafa",
   "metadata": {},
   "outputs": [
    {
     "name": "stdout",
     "output_type": "stream",
     "text": [
      "[   1    1    2    3    4    6    9   12   18   27   36   54   81  108\n",
      "  162  243  324  486  729  972 1458 2187 2916 4374 6561 8748]\n"
     ]
    }
   ],
   "source": [
    "def guess(N):\n",
    "    \n",
    "    if N == 1:\n",
    "        return 1\n",
    "    \n",
    "    elif N % 3 == 0:\n",
    "        return 3 ** (N // 3)\n",
    "    \n",
    "    elif N % 3 == 1:\n",
    "        return 3 ** ((N-4) // 3) * 4\n",
    "    \n",
    "    elif N % 3 == 2:\n",
    "        return 3 **((N-2) // 3) * 2\n",
    "    \n",
    "    \n",
    "def Guess(N):\n",
    "    return np.array([guess(n) for n in range(N+1)])\n",
    "    \n",
    "    \n",
    "print(Guess(25))"
   ]
  },
  {
   "cell_type": "markdown",
   "id": "d09bdccd",
   "metadata": {},
   "source": [
    "Both algirithms gave the same answers for 25.\n",
    "\n",
    "Let's check where thay crash!"
   ]
  },
  {
   "cell_type": "code",
   "execution_count": 31,
   "id": "1ddb2ceb",
   "metadata": {},
   "outputs": [
    {
     "name": "stdout",
     "output_type": "stream",
     "text": [
      "[1.00000000e+00 1.00000000e+00 1.00000000e+00 1.00000000e+00\n",
      " 1.00000000e+00 1.00000000e+00 1.00000000e+00 1.00000000e+00\n",
      " 1.00000000e+00 1.00000000e+00 1.00000000e+00 1.00000000e+00\n",
      " 1.00000000e+00 1.00000000e+00 1.00000000e+00 1.00000000e+00\n",
      " 1.00000000e+00 1.00000000e+00 1.00000000e+00 1.00000000e+00\n",
      " 1.00000000e+00 1.00000000e+00 1.00000000e+00 1.00000000e+00\n",
      " 1.00000000e+00 1.00000000e+00 1.00000000e+00 1.00000000e+00\n",
      " 1.00000000e+00 1.00000000e+00 1.00000000e+00 1.00000000e+00\n",
      " 1.00000000e+00 1.00000000e+00 1.00000000e+00 1.00000000e+00\n",
      " 1.00000000e+00 1.00000000e+00 1.00000000e+00 1.00000000e+00\n",
      " 1.00000000e+00 1.00000000e+00 1.00000000e+00 1.00000000e+00\n",
      " 1.00000000e+00 1.00000000e+00 1.00000000e+00 1.00000000e+00\n",
      " 1.00000000e+00 1.00000000e+00 1.00000000e+00 1.00000000e+00\n",
      " 1.00000000e+00 1.00000000e+00 1.00000000e+00 1.00000000e+00\n",
      " 1.00000000e+00 1.00000000e+00 1.00000000e+00 1.12500000e+00\n",
      " 1.68750000e+00 2.25000000e+00 3.37500000e+00 5.06250000e+00\n",
      " 6.75000000e+00 1.01250000e+01 1.51875000e+01 2.02500000e+01\n",
      " 3.03750000e+01 4.55625000e+01 6.07500000e+01 9.11250000e+01\n",
      " 1.36687500e+02 1.82250000e+02 2.73375000e+02 4.10062500e+02\n",
      " 5.31764339e+02 7.97646508e+02 1.19646976e+03 1.59529302e+03\n",
      " 2.39293952e+03 3.58940929e+03 4.78587905e+03 7.17881857e+03\n",
      " 1.07682279e+04 1.43576371e+04 2.15364557e+04 3.23046836e+04\n",
      " 4.30729114e+04 6.46093671e+04 9.69140507e+04 1.29218734e+05\n",
      " 1.93828101e+05 2.90742152e+05 3.87656203e+05 5.81484304e+05\n",
      " 8.72226456e+05 1.16296861e+06 1.74445291e+06 2.61667937e+06]\n",
      "59\n"
     ]
    }
   ],
   "source": [
    "print(Guess(99)/Dynamic(99))\n",
    "print((Guess(99)/Dynamic(99) == 1).sum())"
   ]
  },
  {
   "cell_type": "code",
   "execution_count": 33,
   "id": "b182434c",
   "metadata": {},
   "outputs": [
    {
     "name": "stdout",
     "output_type": "stream",
     "text": [
      "3486784401\n"
     ]
    }
   ],
   "source": [
    "print(guess(59))"
   ]
  },
  {
   "cell_type": "code",
   "execution_count": 49,
   "id": "444bd3e7",
   "metadata": {},
   "outputs": [],
   "source": [
    "def Dynamic(N):\n",
    "    \n",
    "    arr = np.array([1], dtype=np.float64)\n",
    "\n",
    "    for n in range(N):\n",
    "        F = np.max(np.arange(1, n+2) * arr[::-1])\n",
    "        arr = np.append(arr, F)\n",
    "        \n",
    "    return arr"
   ]
  },
  {
   "cell_type": "code",
   "execution_count": 50,
   "id": "00821885",
   "metadata": {},
   "outputs": [
    {
     "name": "stdout",
     "output_type": "stream",
     "text": [
      "538\n"
     ]
    }
   ],
   "source": [
    "print((Guess(1000)/Dynamic(1000) == 1).sum())"
   ]
  },
  {
   "cell_type": "markdown",
   "id": "610b3450",
   "metadata": {},
   "source": [
    "So the problems occure because the numbers are too large"
   ]
  },
  {
   "cell_type": "code",
   "execution_count": null,
   "id": "20826789",
   "metadata": {},
   "outputs": [],
   "source": []
  }
 ],
 "metadata": {
  "kernelspec": {
   "display_name": "Python 3 (ipykernel)",
   "language": "python",
   "name": "python3"
  },
  "language_info": {
   "codemirror_mode": {
    "name": "ipython",
    "version": 3
   },
   "file_extension": ".py",
   "mimetype": "text/x-python",
   "name": "python",
   "nbconvert_exporter": "python",
   "pygments_lexer": "ipython3",
   "version": "3.10.4"
  }
 },
 "nbformat": 4,
 "nbformat_minor": 5
}
