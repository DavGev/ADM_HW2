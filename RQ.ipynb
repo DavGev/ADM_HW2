{
  "cells": [
    {
      "cell_type": "markdown",
      "id": "ff2d2a51",
      "metadata": {
        "id": "ff2d2a51"
      },
      "source": [
        "# RQ1"
      ]
    },
    {
      "cell_type": "code",
      "execution_count": 3,
      "id": "374053b2",
      "metadata": {
        "id": "374053b2"
      },
      "outputs": [],
      "source": [
        "import pandas as pd\n",
        "import seaborn as sns\n",
        "import matplotlib.pyplot as plt"
      ]
    },
    {
      "cell_type": "code",
      "execution_count": null,
      "id": "843b8677",
      "metadata": {
        "id": "843b8677"
      },
      "outputs": [],
      "source": [
        "data_profiles = pd.read_csv('~/instagram_profiles.zip', delimiter='\\t')"
      ]
    },
    {
      "cell_type": "markdown",
      "id": "39b00154",
      "metadata": {
        "id": "39b00154"
      },
      "source": [
        "We import the libraries we need and the instagram profile dataframe"
      ]
    },
    {
      "cell_type": "code",
      "execution_count": null,
      "id": "a035f42f",
      "metadata": {
        "id": "a035f42f",
        "outputId": "58e32016-8c5f-4d77-f816-2bd3ec0f42d9"
      },
      "outputs": [
        {
          "data": {
            "text/plain": [
              "pandas.core.frame.DataFrame"
            ]
          },
          "execution_count": 21,
          "metadata": {},
          "output_type": "execute_result"
        }
      ],
      "source": [
        "type(data_profiles)"
      ]
    },
    {
      "cell_type": "code",
      "execution_count": null,
      "id": "634c4e5a",
      "metadata": {
        "id": "634c4e5a",
        "outputId": "300b7e76-e1bd-4780-9db3-c37da3722cd6"
      },
      "outputs": [
        {
          "data": {
            "text/html": [
              "<div>\n",
              "<style scoped>\n",
              "    .dataframe tbody tr th:only-of-type {\n",
              "        vertical-align: middle;\n",
              "    }\n",
              "\n",
              "    .dataframe tbody tr th {\n",
              "        vertical-align: top;\n",
              "    }\n",
              "\n",
              "    .dataframe thead th {\n",
              "        text-align: right;\n",
              "    }\n",
              "</style>\n",
              "<table border=\"1\" class=\"dataframe\">\n",
              "  <thead>\n",
              "    <tr style=\"text-align: right;\">\n",
              "      <th></th>\n",
              "      <th>sid</th>\n",
              "      <th>profile_id</th>\n",
              "      <th>profile_name</th>\n",
              "      <th>firstname_lastname</th>\n",
              "      <th>description</th>\n",
              "      <th>following</th>\n",
              "      <th>followers</th>\n",
              "      <th>n_posts</th>\n",
              "      <th>url</th>\n",
              "      <th>cts</th>\n",
              "      <th>is_business_account</th>\n",
              "    </tr>\n",
              "  </thead>\n",
              "  <tbody>\n",
              "    <tr>\n",
              "      <th>0</th>\n",
              "      <td>4184446</td>\n",
              "      <td>4.721050e+09</td>\n",
              "      <td>jphillip033</td>\n",
              "      <td>John Pierce</td>\n",
              "      <td>\"Document Everything Always\"</td>\n",
              "      <td>250.0</td>\n",
              "      <td>146.0</td>\n",
              "      <td>170.0</td>\n",
              "      <td>NaN</td>\n",
              "      <td>2019-08-01 14:38:55.394 -0400</td>\n",
              "      <td>False</td>\n",
              "    </tr>\n",
              "    <tr>\n",
              "      <th>1</th>\n",
              "      <td>4184457</td>\n",
              "      <td>5.905830e+08</td>\n",
              "      <td>mama_haas</td>\n",
              "      <td>Deanna</td>\n",
              "      <td>Trying to enjoy the simple things in life. Kni...</td>\n",
              "      <td>534.0</td>\n",
              "      <td>1145.0</td>\n",
              "      <td>2878.0</td>\n",
              "      <td>www.etsy.com/shop/MamaHaas69</td>\n",
              "      <td>2019-08-01 14:39:36.526 -0400</td>\n",
              "      <td>False</td>\n",
              "    </tr>\n",
              "    <tr>\n",
              "      <th>2</th>\n",
              "      <td>4184460</td>\n",
              "      <td>1.074147e+09</td>\n",
              "      <td>yellowlightbreen</td>\n",
              "      <td>Eliza Gray</td>\n",
              "      <td>Maine is for Lovers</td>\n",
              "      <td>469.0</td>\n",
              "      <td>324.0</td>\n",
              "      <td>431.0</td>\n",
              "      <td>elizajanegray.com</td>\n",
              "      <td>2019-08-01 14:39:54.407 -0400</td>\n",
              "      <td>False</td>\n",
              "    </tr>\n",
              "    <tr>\n",
              "      <th>3</th>\n",
              "      <td>4184461</td>\n",
              "      <td>1.472039e+09</td>\n",
              "      <td>tec1025</td>\n",
              "      <td>Thomas Clark</td>\n",
              "      <td>NaN</td>\n",
              "      <td>NaN</td>\n",
              "      <td>NaN</td>\n",
              "      <td>NaN</td>\n",
              "      <td>NaN</td>\n",
              "      <td>2019-08-01 14:40:06.472 -0400</td>\n",
              "      <td>NaN</td>\n",
              "    </tr>\n",
              "    <tr>\n",
              "      <th>4</th>\n",
              "      <td>4184462</td>\n",
              "      <td>3.531421e+09</td>\n",
              "      <td>luckyfluff</td>\n",
              "      <td>NaN</td>\n",
              "      <td>NaN</td>\n",
              "      <td>NaN</td>\n",
              "      <td>NaN</td>\n",
              "      <td>NaN</td>\n",
              "      <td>NaN</td>\n",
              "      <td>2019-08-01 14:40:07.806 -0400</td>\n",
              "      <td>NaN</td>\n",
              "    </tr>\n",
              "  </tbody>\n",
              "</table>\n",
              "</div>"
            ],
            "text/plain": [
              "       sid    profile_id      profile_name firstname_lastname  \\\n",
              "0  4184446  4.721050e+09       jphillip033        John Pierce   \n",
              "1  4184457  5.905830e+08         mama_haas             Deanna   \n",
              "2  4184460  1.074147e+09  yellowlightbreen         Eliza Gray   \n",
              "3  4184461  1.472039e+09           tec1025       Thomas Clark   \n",
              "4  4184462  3.531421e+09        luckyfluff                NaN   \n",
              "\n",
              "                                         description  following  followers  \\\n",
              "0                       \"Document Everything Always\"      250.0      146.0   \n",
              "1  Trying to enjoy the simple things in life. Kni...      534.0     1145.0   \n",
              "2                                Maine is for Lovers      469.0      324.0   \n",
              "3                                                NaN        NaN        NaN   \n",
              "4                                                NaN        NaN        NaN   \n",
              "\n",
              "   n_posts                           url                            cts  \\\n",
              "0    170.0                           NaN  2019-08-01 14:38:55.394 -0400   \n",
              "1   2878.0  www.etsy.com/shop/MamaHaas69  2019-08-01 14:39:36.526 -0400   \n",
              "2    431.0             elizajanegray.com  2019-08-01 14:39:54.407 -0400   \n",
              "3      NaN                           NaN  2019-08-01 14:40:06.472 -0400   \n",
              "4      NaN                           NaN  2019-08-01 14:40:07.806 -0400   \n",
              "\n",
              "  is_business_account  \n",
              "0               False  \n",
              "1               False  \n",
              "2               False  \n",
              "3                 NaN  \n",
              "4                 NaN  "
            ]
          },
          "execution_count": 22,
          "metadata": {},
          "output_type": "execute_result"
        }
      ],
      "source": [
        "data_profiles.head()"
      ]
    },
    {
      "cell_type": "markdown",
      "id": "97e10bf7",
      "metadata": {
        "id": "97e10bf7"
      },
      "source": [
        "We can see the first and the last rows of the dataframe"
      ]
    },
    {
      "cell_type": "code",
      "execution_count": null,
      "id": "d83e7cd3",
      "metadata": {
        "id": "d83e7cd3",
        "outputId": "cf6b48bc-abeb-42ec-c5a6-ffe87dc05b66"
      },
      "outputs": [
        {
          "data": {
            "text/html": [
              "<div>\n",
              "<style scoped>\n",
              "    .dataframe tbody tr th:only-of-type {\n",
              "        vertical-align: middle;\n",
              "    }\n",
              "\n",
              "    .dataframe tbody tr th {\n",
              "        vertical-align: top;\n",
              "    }\n",
              "\n",
              "    .dataframe thead th {\n",
              "        text-align: right;\n",
              "    }\n",
              "</style>\n",
              "<table border=\"1\" class=\"dataframe\">\n",
              "  <thead>\n",
              "    <tr style=\"text-align: right;\">\n",
              "      <th></th>\n",
              "      <th>sid</th>\n",
              "      <th>profile_id</th>\n",
              "      <th>profile_name</th>\n",
              "      <th>firstname_lastname</th>\n",
              "      <th>description</th>\n",
              "      <th>following</th>\n",
              "      <th>followers</th>\n",
              "      <th>n_posts</th>\n",
              "      <th>url</th>\n",
              "      <th>cts</th>\n",
              "      <th>is_business_account</th>\n",
              "    </tr>\n",
              "  </thead>\n",
              "  <tbody>\n",
              "    <tr>\n",
              "      <th>4509581</th>\n",
              "      <td>4184467</td>\n",
              "      <td>1.418322e+09</td>\n",
              "      <td>karenarkesteyn</td>\n",
              "      <td>Karen Arkesteyn</td>\n",
              "      <td>🙏🏻</td>\n",
              "      <td>468.0</td>\n",
              "      <td>481.0</td>\n",
              "      <td>497.0</td>\n",
              "      <td>NaN</td>\n",
              "      <td>2019-08-01 14:40:26.554 -0400</td>\n",
              "      <td>False</td>\n",
              "    </tr>\n",
              "    <tr>\n",
              "      <th>4509582</th>\n",
              "      <td>4184469</td>\n",
              "      <td>1.340704e+07</td>\n",
              "      <td>jornvlaeminck</td>\n",
              "      <td>Jorn Vlaeminck</td>\n",
              "      <td>NaN</td>\n",
              "      <td>NaN</td>\n",
              "      <td>NaN</td>\n",
              "      <td>NaN</td>\n",
              "      <td>NaN</td>\n",
              "      <td>2019-08-01 14:40:41.628 -0400</td>\n",
              "      <td>NaN</td>\n",
              "    </tr>\n",
              "    <tr>\n",
              "      <th>4509583</th>\n",
              "      <td>4184470</td>\n",
              "      <td>6.007354e+09</td>\n",
              "      <td>s_degol</td>\n",
              "      <td>Sanne Degol</td>\n",
              "      <td>NaN</td>\n",
              "      <td>NaN</td>\n",
              "      <td>NaN</td>\n",
              "      <td>NaN</td>\n",
              "      <td>NaN</td>\n",
              "      <td>2019-08-01 14:40:42.983 -0400</td>\n",
              "      <td>NaN</td>\n",
              "    </tr>\n",
              "    <tr>\n",
              "      <th>4509584</th>\n",
              "      <td>4184473</td>\n",
              "      <td>2.338990e+07</td>\n",
              "      <td>anwilms</td>\n",
              "      <td>An Wilms</td>\n",
              "      <td>Fashion - travel - photography ... that's me!👗...</td>\n",
              "      <td>504.0</td>\n",
              "      <td>153.0</td>\n",
              "      <td>183.0</td>\n",
              "      <td>NaN</td>\n",
              "      <td>2019-08-01 14:40:49.982 -0400</td>\n",
              "      <td>False</td>\n",
              "    </tr>\n",
              "    <tr>\n",
              "      <th>4509585</th>\n",
              "      <td>4184511</td>\n",
              "      <td>2.088094e+09</td>\n",
              "      <td>arnaubassols_</td>\n",
              "      <td>Arnau Bassols Noguer</td>\n",
              "      <td>NaN</td>\n",
              "      <td>NaN</td>\n",
              "      <td>NaN</td>\n",
              "      <td>NaN</td>\n",
              "      <td>NaN</td>\n",
              "      <td>2019-08-01 14:42:30.055 -0400</td>\n",
              "      <td>NaN</td>\n",
              "    </tr>\n",
              "  </tbody>\n",
              "</table>\n",
              "</div>"
            ],
            "text/plain": [
              "             sid    profile_id    profile_name    firstname_lastname  \\\n",
              "4509581  4184467  1.418322e+09  karenarkesteyn       Karen Arkesteyn   \n",
              "4509582  4184469  1.340704e+07   jornvlaeminck        Jorn Vlaeminck   \n",
              "4509583  4184470  6.007354e+09         s_degol           Sanne Degol   \n",
              "4509584  4184473  2.338990e+07         anwilms              An Wilms   \n",
              "4509585  4184511  2.088094e+09   arnaubassols_  Arnau Bassols Noguer   \n",
              "\n",
              "                                               description  following  \\\n",
              "4509581                                                 🙏🏻      468.0   \n",
              "4509582                                                NaN        NaN   \n",
              "4509583                                                NaN        NaN   \n",
              "4509584  Fashion - travel - photography ... that's me!👗...      504.0   \n",
              "4509585                                                NaN        NaN   \n",
              "\n",
              "         followers  n_posts  url                            cts  \\\n",
              "4509581      481.0    497.0  NaN  2019-08-01 14:40:26.554 -0400   \n",
              "4509582        NaN      NaN  NaN  2019-08-01 14:40:41.628 -0400   \n",
              "4509583        NaN      NaN  NaN  2019-08-01 14:40:42.983 -0400   \n",
              "4509584      153.0    183.0  NaN  2019-08-01 14:40:49.982 -0400   \n",
              "4509585        NaN      NaN  NaN  2019-08-01 14:42:30.055 -0400   \n",
              "\n",
              "        is_business_account  \n",
              "4509581               False  \n",
              "4509582                 NaN  \n",
              "4509583                 NaN  \n",
              "4509584               False  \n",
              "4509585                 NaN  "
            ]
          },
          "execution_count": 8,
          "metadata": {},
          "output_type": "execute_result"
        }
      ],
      "source": [
        "data_profiles.tail()"
      ]
    },
    {
      "cell_type": "code",
      "execution_count": null,
      "id": "d48bfa32",
      "metadata": {
        "id": "d48bfa32",
        "outputId": "6e26a223-063e-4288-ebb6-9598ed7c0317"
      },
      "outputs": [
        {
          "data": {
            "text/plain": [
              "(4509586, 11)"
            ]
          },
          "execution_count": 3,
          "metadata": {},
          "output_type": "execute_result"
        }
      ],
      "source": [
        "data_profiles.shape"
      ]
    },
    {
      "cell_type": "markdown",
      "id": "0318662d",
      "metadata": {
        "id": "0318662d"
      },
      "source": [
        "We analize the dataframe structure: it has 4509586 units and it analyzes 11 variables"
      ]
    },
    {
      "cell_type": "code",
      "execution_count": null,
      "id": "8b1383a8",
      "metadata": {
        "id": "8b1383a8",
        "outputId": "cc3cc8d2-23bd-46b5-8ba7-3078ffdac679"
      },
      "outputs": [
        {
          "name": "stdout",
          "output_type": "stream",
          "text": [
            "<class 'pandas.core.frame.DataFrame'>\n",
            "RangeIndex: 4509586 entries, 0 to 4509585\n",
            "Data columns (total 11 columns):\n",
            " #   Column               Dtype  \n",
            "---  ------               -----  \n",
            " 0   sid                  int64  \n",
            " 1   profile_id           float64\n",
            " 2   profile_name         object \n",
            " 3   firstname_lastname   object \n",
            " 4   description          object \n",
            " 5   following            float64\n",
            " 6   followers            float64\n",
            " 7   n_posts              float64\n",
            " 8   url                  object \n",
            " 9   cts                  object \n",
            " 10  is_business_account  object \n",
            "dtypes: float64(4), int64(1), object(6)\n",
            "memory usage: 378.5+ MB\n"
          ]
        }
      ],
      "source": [
        "data_profiles.info()"
      ]
    },
    {
      "cell_type": "markdown",
      "id": "d3549bd9",
      "metadata": {
        "id": "d3549bd9"
      },
      "source": [
        "We can see the type of each variable"
      ]
    },
    {
      "cell_type": "code",
      "execution_count": null,
      "id": "4c142a24",
      "metadata": {
        "id": "4c142a24",
        "outputId": "bdfb4594-a88b-46a7-fd33-79d246c6394c"
      },
      "outputs": [
        {
          "data": {
            "text/html": [
              "<div>\n",
              "<style scoped>\n",
              "    .dataframe tbody tr th:only-of-type {\n",
              "        vertical-align: middle;\n",
              "    }\n",
              "\n",
              "    .dataframe tbody tr th {\n",
              "        vertical-align: top;\n",
              "    }\n",
              "\n",
              "    .dataframe thead th {\n",
              "        text-align: right;\n",
              "    }\n",
              "</style>\n",
              "<table border=\"1\" class=\"dataframe\">\n",
              "  <thead>\n",
              "    <tr style=\"text-align: right;\">\n",
              "      <th></th>\n",
              "      <th>sid</th>\n",
              "      <th>profile_id</th>\n",
              "      <th>following</th>\n",
              "      <th>followers</th>\n",
              "      <th>n_posts</th>\n",
              "    </tr>\n",
              "  </thead>\n",
              "  <tbody>\n",
              "    <tr>\n",
              "      <th>count</th>\n",
              "      <td>4.509586e+06</td>\n",
              "      <td>4.477139e+06</td>\n",
              "      <td>3.452771e+06</td>\n",
              "      <td>3.452771e+06</td>\n",
              "      <td>3.452771e+06</td>\n",
              "    </tr>\n",
              "    <tr>\n",
              "      <th>mean</th>\n",
              "      <td>2.255992e+06</td>\n",
              "      <td>3.083302e+09</td>\n",
              "      <td>1.405641e+03</td>\n",
              "      <td>4.739899e+03</td>\n",
              "      <td>4.095414e+02</td>\n",
              "    </tr>\n",
              "    <tr>\n",
              "      <th>std</th>\n",
              "      <td>1.301807e+06</td>\n",
              "      <td>4.266575e+10</td>\n",
              "      <td>8.113473e+03</td>\n",
              "      <td>1.939087e+05</td>\n",
              "      <td>1.041940e+03</td>\n",
              "    </tr>\n",
              "    <tr>\n",
              "      <th>min</th>\n",
              "      <td>1.186000e+03</td>\n",
              "      <td>4.000000e+00</td>\n",
              "      <td>0.000000e+00</td>\n",
              "      <td>0.000000e+00</td>\n",
              "      <td>0.000000e+00</td>\n",
              "    </tr>\n",
              "    <tr>\n",
              "      <th>25%</th>\n",
              "      <td>1.128596e+06</td>\n",
              "      <td>2.735177e+08</td>\n",
              "      <td>3.560000e+02</td>\n",
              "      <td>1.590000e+02</td>\n",
              "      <td>2.200000e+01</td>\n",
              "    </tr>\n",
              "    <tr>\n",
              "      <th>50%</th>\n",
              "      <td>2.255992e+06</td>\n",
              "      <td>1.649248e+09</td>\n",
              "      <td>7.540000e+02</td>\n",
              "      <td>4.060000e+02</td>\n",
              "      <td>1.200000e+02</td>\n",
              "    </tr>\n",
              "    <tr>\n",
              "      <th>75%</th>\n",
              "      <td>3.383389e+06</td>\n",
              "      <td>5.514691e+09</td>\n",
              "      <td>1.573000e+03</td>\n",
              "      <td>9.740000e+02</td>\n",
              "      <td>4.200000e+02</td>\n",
              "    </tr>\n",
              "    <tr>\n",
              "      <th>max</th>\n",
              "      <td>4.510785e+06</td>\n",
              "      <td>9.001013e+13</td>\n",
              "      <td>4.191080e+06</td>\n",
              "      <td>2.854576e+08</td>\n",
              "      <td>1.837300e+05</td>\n",
              "    </tr>\n",
              "  </tbody>\n",
              "</table>\n",
              "</div>"
            ],
            "text/plain": [
              "                sid    profile_id     following     followers       n_posts\n",
              "count  4.509586e+06  4.477139e+06  3.452771e+06  3.452771e+06  3.452771e+06\n",
              "mean   2.255992e+06  3.083302e+09  1.405641e+03  4.739899e+03  4.095414e+02\n",
              "std    1.301807e+06  4.266575e+10  8.113473e+03  1.939087e+05  1.041940e+03\n",
              "min    1.186000e+03  4.000000e+00  0.000000e+00  0.000000e+00  0.000000e+00\n",
              "25%    1.128596e+06  2.735177e+08  3.560000e+02  1.590000e+02  2.200000e+01\n",
              "50%    2.255992e+06  1.649248e+09  7.540000e+02  4.060000e+02  1.200000e+02\n",
              "75%    3.383389e+06  5.514691e+09  1.573000e+03  9.740000e+02  4.200000e+02\n",
              "max    4.510785e+06  9.001013e+13  4.191080e+06  2.854576e+08  1.837300e+05"
            ]
          },
          "execution_count": 25,
          "metadata": {},
          "output_type": "execute_result"
        }
      ],
      "source": [
        "data_profiles.describe()"
      ]
    },
    {
      "cell_type": "markdown",
      "id": "56b4d555",
      "metadata": {
        "id": "56b4d555"
      },
      "source": [
        "We can observe some useful statistics for the quantitative variables like the mean, the standard deviation and the quantiles. An interesting feature is that the number of followers are on average bigger than the number of following, but if we observe the median we obtain the reverse result. It could be explain by the fact that median is more resistant than mean"
      ]
    },
    {
      "cell_type": "code",
      "execution_count": null,
      "id": "83a7dbc7",
      "metadata": {
        "id": "83a7dbc7",
        "outputId": "0e104512-2d5f-4250-f0b5-8c23335daebb"
      },
      "outputs": [
        {
          "data": {
            "text/plain": [
              "sid                          0\n",
              "profile_id               32447\n",
              "profile_name                 0\n",
              "firstname_lastname      288465\n",
              "description            2055996\n",
              "following              1056815\n",
              "followers              1056815\n",
              "n_posts                1056815\n",
              "url                    3639312\n",
              "cts                     438488\n",
              "is_business_account    1064263\n",
              "dtype: int64"
            ]
          },
          "execution_count": 28,
          "metadata": {},
          "output_type": "execute_result"
        }
      ],
      "source": [
        "data_profiles.isnull().sum()"
      ]
    },
    {
      "cell_type": "markdown",
      "id": "6f68648b",
      "metadata": {
        "id": "6f68648b"
      },
      "source": [
        "We can observe how many null values each column has"
      ]
    },
    {
      "cell_type": "code",
      "execution_count": null,
      "id": "efbc37fe",
      "metadata": {
        "id": "efbc37fe",
        "outputId": "6ae8d310-4968-40f1-d053-0bcdb034ca82"
      },
      "outputs": [
        {
          "name": "stdout",
          "output_type": "stream",
          "text": [
            "False    2590069\n",
            "True      855254\n",
            "Name: is_business_account, dtype: int64\n",
            "False    0.751764\n",
            "True     0.248236\n",
            "Name: is_business_account, dtype: float64\n",
            "0.0         197877\n",
            "1.0          72946\n",
            "2.0          53633\n",
            "3.0          50100\n",
            "4.0          41342\n",
            "             ...  \n",
            "9475.0           1\n",
            "33040.0          1\n",
            "112723.0         1\n",
            "17933.0          1\n",
            "10559.0          1\n",
            "Name: n_posts, Length: 13139, dtype: int64\n"
          ]
        }
      ],
      "source": [
        "print(data_profiles[\"is_business_account\"].value_counts())\n",
        "print(data_profiles[\"is_business_account\"].value_counts(normalize=True))\n",
        "print(data_profiles[\"n_posts\"].value_counts())"
      ]
    },
    {
      "cell_type": "markdown",
      "id": "7bba6d0e",
      "metadata": {
        "id": "7bba6d0e"
      },
      "source": [
        "We can see the frequency distribution of \"is_business_account\" and \"n_posts\" variables"
      ]
    },
    {
      "cell_type": "code",
      "execution_count": null,
      "id": "1a12fe4b",
      "metadata": {
        "id": "1a12fe4b",
        "outputId": "4c0bede1-fa14-41bf-81b3-ca6551a73e58"
      },
      "outputs": [
        {
          "data": {
            "text/plain": [
              "<AxesSubplot:xlabel='is_business_account', ylabel='count'>"
            ]
          },
          "execution_count": 12,
          "metadata": {},
          "output_type": "execute_result"
        },
        {
          "data": {
            "image/png": "[encoded data removed]",
            "text/plain": [
              "<Figure size 432x288 with 1 Axes>"
            ]
          },
          "metadata": {
            "needs_background": "light"
          },
          "output_type": "display_data"
        }
      ],
      "source": [
        "sns.countplot(x=\"is_business_account\", data=data_profiles)"
      ]
    },
    {
      "cell_type": "markdown",
      "id": "c8368fc9",
      "metadata": {
        "id": "c8368fc9"
      },
      "source": [
        "We can see that the biggest number of accounts aren't business account. At the same time there are 855254 in 450958 (about 25%) that are business account"
      ]
    },
    {
      "cell_type": "code",
      "execution_count": null,
      "id": "4e2d2c11",
      "metadata": {
        "id": "4e2d2c11",
        "outputId": "4334c785-053d-432b-f5db-caf388a92e91"
      },
      "outputs": [
        {
          "name": "stdout",
          "output_type": "stream",
          "text": [
            "7500.0       8859\n",
            "0.0          5060\n",
            "7499.0       4333\n",
            "7501.0       3799\n",
            "7498.0       3305\n",
            "             ... \n",
            "7779.0          1\n",
            "918726.0        1\n",
            "832468.0        1\n",
            "1333334.0       1\n",
            "7952.0          1\n",
            "Name: following, Length: 7980, dtype: int64\n",
            "0.0         22115\n",
            "1.0          9071\n",
            "50.0         6557\n",
            "49.0         6465\n",
            "51.0         6382\n",
            "            ...  \n",
            "39896.0         1\n",
            "117237.0        1\n",
            "152125.0        1\n",
            "55822.0         1\n",
            "93956.0         1\n",
            "Name: followers, Length: 68935, dtype: int64\n"
          ]
        }
      ],
      "source": [
        "print(data_profiles[\"following\"].value_counts())\n",
        "print(data_profiles[\"followers\"].value_counts())"
      ]
    },
    {
      "cell_type": "markdown",
      "id": "e5cec6c9",
      "metadata": {
        "id": "e5cec6c9"
      },
      "source": [
        "We can see the frequency distribution of \"following\" and \"followers\""
      ]
    },
    {
      "cell_type": "code",
      "execution_count": null,
      "id": "de8a5a51",
      "metadata": {
        "id": "de8a5a51",
        "outputId": "5b3dcb4b-1438-4c28-c549-2f2fd71e2d5f"
      },
      "outputs": [
        {
          "data": {
            "text/plain": [
              "<AxesSubplot:ylabel='Frequency'>"
            ]
          },
          "execution_count": 17,
          "metadata": {},
          "output_type": "execute_result"
        },
        {
          "data": {
            "image/png": "[encoded data removed]",
            "text/plain": [
              "<Figure size 432x288 with 1 Axes>"
            ]
          },
          "metadata": {
            "needs_background": "light"
          },
          "output_type": "display_data"
        }
      ],
      "source": [
        "data_profiles.followers.plot(kind=\"hist\")"
      ]
    },
    {
      "cell_type": "code",
      "execution_count": null,
      "id": "7f810685",
      "metadata": {
        "id": "7f810685",
        "outputId": "7d38c6d8-4de9-47a2-d973-46635bfae418"
      },
      "outputs": [
        {
          "data": {
            "text/plain": [
              "<AxesSubplot:title={'center':'Histogram of followers'}, ylabel='Frequency'>"
            ]
          },
          "execution_count": 5,
          "metadata": {},
          "output_type": "execute_result"
        },
        {
          "data": {
            "image/png": "[encoded data removed]",
            "text/plain": [
              "<Figure size 432x288 with 1 Axes>"
            ]
          },
          "metadata": {
            "needs_background": "light"
          },
          "output_type": "display_data"
        }
      ],
      "source": [
        "data_profiles.followers.plot.hist(range=[0,5000], edgecolor='black', color='lightgreen', legend=True, title='Histogram of followers')"
      ]
    },
    {
      "cell_type": "code",
      "execution_count": null,
      "id": "bd558809",
      "metadata": {
        "id": "bd558809",
        "outputId": "ca12400f-804a-4910-a452-4ab5122740c1"
      },
      "outputs": [
        {
          "data": {
            "text/plain": [
              "<AxesSubplot:title={'center':'Histogram of following'}, ylabel='Frequency'>"
            ]
          },
          "execution_count": 9,
          "metadata": {},
          "output_type": "execute_result"
        },
        {
          "data": {
            "image/png": "[encoded data removed]",
            "text/plain": [
              "<Figure size 432x288 with 1 Axes>"
            ]
          },
          "metadata": {
            "needs_background": "light"
          },
          "output_type": "display_data"
        }
      ],
      "source": [
        "data_profiles.following.plot.hist(range=[0,5000], edgecolor='black', color='orangered', legend=True, title='Histogram of following')"
      ]
    },
    {
      "cell_type": "markdown",
      "id": "af2c0985",
      "metadata": {
        "id": "af2c0985"
      },
      "source": [
        "From the first histogram we can see that all the observations are collocated in the first bin, probably beacuse of the outliers, so we can remove the bigger values to see if we obtain a better distribution. In fact, we can see from the other two histograms that the units are better distributed. We can also observe that people have between 0 and 1000 followers or following in the most of the cases"
      ]
    },
    {
      "cell_type": "code",
      "execution_count": null,
      "id": "9e491e61",
      "metadata": {
        "id": "9e491e61",
        "outputId": "8a553d35-ef42-4d7b-aa7a-368a3d2bbdb9"
      },
      "outputs": [
        {
          "data": {
            "text/plain": [
              "<AxesSubplot:title={'center':'Histogram of following'}, ylabel='Frequency'>"
            ]
          },
          "execution_count": 13,
          "metadata": {},
          "output_type": "execute_result"
        },
        {
          "data": {
            "image/png": "[encoded data removed]",
            "text/plain": [
              "<Figure size 432x288 with 1 Axes>"
            ]
          },
          "metadata": {
            "needs_background": "light"
          },
          "output_type": "display_data"
        }
      ],
      "source": [
        "data_profiles.n_posts.plot.hist(range=[0,500], edgecolor='black', color='lightblue', legend=True, title='Histogram of following')"
      ]
    },
    {
      "cell_type": "markdown",
      "id": "b01dc94a",
      "metadata": {
        "id": "b01dc94a"
      },
      "source": [
        "From this histogram we can see that people have an account with about 100 posts in the most of the cases. "
      ]
    },
    {
      "cell_type": "code",
      "execution_count": null,
      "id": "d74511d0",
      "metadata": {
        "id": "d74511d0",
        "outputId": "18f9a2f1-8b6c-4bfa-cc8d-f80a89040aa0"
      },
      "outputs": [
        {
          "data": {
            "text/plain": [
              "sid                          0\n",
              "profile_id               32447\n",
              "profile_name                 0\n",
              "firstname_lastname      288465\n",
              "description            2055996\n",
              "following              1056815\n",
              "followers              1056815\n",
              "n_posts                1056815\n",
              "url                    3639312\n",
              "cts                     438488\n",
              "is_business_account    1064263\n",
              "dtype: int64"
            ]
          },
          "execution_count": 12,
          "metadata": {},
          "output_type": "execute_result"
        }
      ],
      "source": [
        "data_profiles.isnull().sum()"
      ]
    },
    {
      "cell_type": "markdown",
      "id": "0995840a",
      "metadata": {
        "id": "0995840a"
      },
      "source": [
        "We can see the number and the percentages of null values for each varible "
      ]
    },
    {
      "cell_type": "code",
      "execution_count": null,
      "id": "32c83585",
      "metadata": {
        "id": "32c83585",
        "outputId": "426f683c-5845-4f18-8103-dfc0f4661cb0"
      },
      "outputs": [
        {
          "name": "stdout",
          "output_type": "stream",
          "text": [
            "profile_id : 0.72%\n",
            "firstname_lastname : 6.40%\n",
            "description : 45.59%\n",
            "following : 23.43%\n",
            "followers : 23.43%\n",
            "n_posts : 23.43%\n",
            "url : 80.70%\n",
            "cts : 9.72%\n",
            "is_business_account : 23.60%\n"
          ]
        }
      ],
      "source": [
        "for column in data_profiles.columns:\n",
        "    if data_profiles[column].isnull().sum() > 0:\n",
        "        print(column, ': {:.2%}'.format(data_profiles[column].isnull().sum() /\n",
        "                                               data_profiles[column].shape[0]))"
      ]
    },
    {
      "cell_type": "code",
      "execution_count": null,
      "id": "0a63cfa2",
      "metadata": {
        "id": "0a63cfa2"
      },
      "outputs": [],
      "source": [
        "data_profiles_2=data_profiles.copy()"
      ]
    },
    {
      "cell_type": "markdown",
      "id": "a44564d8",
      "metadata": {
        "id": "a44564d8"
      },
      "source": [
        "We now create a copy of the dataset so that we can modify it without change the original one"
      ]
    },
    {
      "cell_type": "code",
      "execution_count": null,
      "id": "6424ee17",
      "metadata": {
        "id": "6424ee17"
      },
      "outputs": [],
      "source": [
        "data_profiles_2.firstname_lastname.fillna('', inplace=True)\n",
        "data_profiles_2.description.fillna('', inplace=True)\n",
        "data_profiles_2.url.fillna('', inplace=True)\n",
        "data_profiles_2.cts.fillna('', inplace=True)\n",
        "data_profiles_2.is_business_account.fillna(False, inplace=True)"
      ]
    },
    {
      "cell_type": "code",
      "execution_count": null,
      "id": "eb55d6f1",
      "metadata": {
        "id": "eb55d6f1",
        "outputId": "2ecf0192-39fc-422e-d880-e25b40f3d4b9"
      },
      "outputs": [
        {
          "data": {
            "text/plain": [
              "sid                          0\n",
              "profile_id               32447\n",
              "profile_name                 0\n",
              "firstname_lastname           0\n",
              "description                  0\n",
              "following              1056815\n",
              "followers              1056815\n",
              "n_posts                1056815\n",
              "url                          0\n",
              "cts                          0\n",
              "is_business_account          0\n",
              "dtype: int64"
            ]
          },
          "execution_count": 5,
          "metadata": {},
          "output_type": "execute_result"
        }
      ],
      "source": [
        "data_profiles_2.isnull().sum()"
      ]
    },
    {
      "cell_type": "code",
      "execution_count": null,
      "id": "9f44a034",
      "metadata": {
        "id": "9f44a034"
      },
      "outputs": [],
      "source": [
        "data_profiles_2.following.fillna(data_profiles_2['following'].median(), inplace=True)\n",
        "data_profiles_2.followers.fillna(data_profiles_2['followers'].median(), inplace=True)\n",
        "data_profiles_2.n_posts.fillna(data_profiles_2['n_posts'].median(), inplace=True)\n",
        "data_profiles_2.profile_id.fillna(-1, inplace=True)"
      ]
    },
    {
      "cell_type": "code",
      "execution_count": null,
      "id": "ace86795",
      "metadata": {
        "id": "ace86795",
        "outputId": "d5dcaf1a-4ef8-405e-825c-0ab239e0cec9"
      },
      "outputs": [
        {
          "data": {
            "text/plain": [
              "sid                    0\n",
              "profile_id             0\n",
              "profile_name           0\n",
              "firstname_lastname     0\n",
              "description            0\n",
              "following              0\n",
              "followers              0\n",
              "n_posts                0\n",
              "url                    0\n",
              "cts                    0\n",
              "is_business_account    0\n",
              "dtype: int64"
            ]
          },
          "execution_count": 7,
          "metadata": {},
          "output_type": "execute_result"
        }
      ],
      "source": [
        "data_profiles_2.isnull().sum()"
      ]
    },
    {
      "cell_type": "markdown",
      "id": "fe9e7d4b",
      "metadata": {
        "id": "fe9e7d4b"
      },
      "source": [
        "We want to have a dataframe without null values, so we have to decide how to replace them. \n",
        "The qualitative variables have been replaced with empty strings while the quantitative variables have been replaced with the median, in this way the statistics can still be significant. Only for the profile id variable we decided to replace the null values with the value -1. This is because we can recognize each account from the profile_name, which is unique, so it wouldn't make sense to remove the raws with null profile_id values"
      ]
    },
    {
      "cell_type": "code",
      "execution_count": null,
      "id": "1da36275",
      "metadata": {
        "id": "1da36275"
      },
      "outputs": [],
      "source": [
        "def find_outliers_IQR(df):\n",
        "\n",
        "   q1=df.quantile(0.25)\n",
        "\n",
        "   q3=df.quantile(0.75)\n",
        "\n",
        "   IQR=q3-q1\n",
        "\n",
        "   outliers = df[((df<(q1-1.5*IQR)) | (df>(q3+1.5*IQR)))]\n",
        "\n",
        "   return outliers"
      ]
    },
    {
      "cell_type": "code",
      "execution_count": null,
      "id": "d9822d19",
      "metadata": {
        "id": "d9822d19",
        "outputId": "e442c681-997b-444c-afbe-72fe6e874bcf"
      },
      "outputs": [
        {
          "name": "stdout",
          "output_type": "stream",
          "text": [
            "number of outliers of following variable: 370009\n",
            "max outlier value of following variable: 4191080.0\n",
            "min outlier value of following variable: 3399.0\n"
          ]
        },
        {
          "data": {
            "text/plain": [
              "<AxesSubplot:>"
            ]
          },
          "execution_count": 9,
          "metadata": {},
          "output_type": "execute_result"
        },
        {
          "data": {
            "image/png": "[encoded data removed]",
            "text/plain": [
              "<Figure size 432x288 with 1 Axes>"
            ]
          },
          "metadata": {
            "needs_background": "light"
          },
          "output_type": "display_data"
        }
      ],
      "source": [
        "out_following=find_outliers_IQR(data_profiles['following'])\n",
        "print('number of outliers of following variable: '+ str(len(out_following)))\n",
        "print('max outlier value of following variable: '+ str(out_following.max()))\n",
        "print('min outlier value of following variable: '+ str(out_following.min()))\n",
        "\n",
        "data_profiles.boxplot(column=['following'])"
      ]
    },
    {
      "cell_type": "code",
      "execution_count": null,
      "id": "65f89ca7",
      "metadata": {
        "id": "65f89ca7",
        "outputId": "60efbab5-4985-4d9e-deac-c99bf2f5390d"
      },
      "outputs": [
        {
          "name": "stdout",
          "output_type": "stream",
          "text": [
            "number of outliers of followers variable: 385054\n",
            "max outlier value of followers variable: 285457645.0\n",
            "min outlier value of followers variable: 2197.0\n"
          ]
        },
        {
          "data": {
            "text/plain": [
              "<AxesSubplot:>"
            ]
          },
          "execution_count": 10,
          "metadata": {},
          "output_type": "execute_result"
        },
        {
          "data": {
            "image/png": "[encoded data removed]",
            "text/plain": [
              "<Figure size 432x288 with 1 Axes>"
            ]
          },
          "metadata": {
            "needs_background": "light"
          },
          "output_type": "display_data"
        }
      ],
      "source": [
        "out_followers=find_outliers_IQR(data_profiles['followers'])\n",
        "print('number of outliers of followers variable: '+ str(len(out_followers)))\n",
        "print('max outlier value of followers variable: '+ str(out_followers.max()))\n",
        "print('min outlier value of followers variable: '+ str(out_followers.min()))\n",
        "\n",
        "data_profiles.boxplot(column=['followers'])"
      ]
    },
    {
      "cell_type": "code",
      "execution_count": null,
      "id": "8e63ea2c",
      "metadata": {
        "id": "8e63ea2c",
        "outputId": "ea9091ee-b821-4ef3-ce21-0ee1da9563ee"
      },
      "outputs": [
        {
          "name": "stdout",
          "output_type": "stream",
          "text": [
            "number of outliers of n_posts variable: 349151\n",
            "max outlier value of n_posts variable: 183730.0\n",
            "min outlier value of n_posts variable: 1018.0\n"
          ]
        },
        {
          "data": {
            "text/plain": [
              "<AxesSubplot:>"
            ]
          },
          "execution_count": 11,
          "metadata": {},
          "output_type": "execute_result"
        },
        {
          "data": {
            "image/png": "[encoded data removed]",
            "text/plain": [
              "<Figure size 432x288 with 1 Axes>"
            ]
          },
          "metadata": {
            "needs_background": "light"
          },
          "output_type": "display_data"
        }
      ],
      "source": [
        "out_posts=find_outliers_IQR(data_profiles['n_posts'])\n",
        "print('number of outliers of n_posts variable: '+ str(len(out_posts)))\n",
        "print('max outlier value of n_posts variable: '+ str(out_posts.max()))\n",
        "print('min outlier value of n_posts variable: '+ str(out_posts.min()))\n",
        "\n",
        "data_profiles.boxplot(column=['n_posts'])"
      ]
    },
    {
      "cell_type": "markdown",
      "id": "1978e6b0",
      "metadata": {
        "id": "1978e6b0"
      },
      "source": [
        "Boxplots shows us some of the main features of the distributions, like the median, the quantiles and the outliers. In our case we can see that all the quantitative variables have lots of outliers, so we have to decide if delete them. We are talking about instagram posts, so we decided to not remove them beacause it could be cases of users whit lots of posts publicated and with lots of comments and likes"
      ]
    },
    {
      "cell_type": "code",
      "execution_count": null,
      "id": "f421292c",
      "metadata": {
        "id": "f421292c",
        "outputId": "b77f9f9f-5b09-435f-9d4f-5b6fde16a427"
      },
      "outputs": [
        {
          "data": {
            "text/plain": [
              "<AxesSubplot:xlabel='following', ylabel='followers'>"
            ]
          },
          "execution_count": 12,
          "metadata": {},
          "output_type": "execute_result"
        },
        {
          "data": {
            "image/png": "[encoded data removed]",
            "text/plain": [
              "<Figure size 432x288 with 1 Axes>"
            ]
          },
          "metadata": {
            "needs_background": "light"
          },
          "output_type": "display_data"
        }
      ],
      "source": [
        "data_profiles_2.plot(x='following', y='followers', kind='scatter')"
      ]
    },
    {
      "cell_type": "markdown",
      "id": "7df6bda5",
      "metadata": {
        "id": "7df6bda5"
      },
      "source": [
        "From this scatterplot we can observe that generally speaking users have more following than followers and this confirms what we have seen previously with the median values of the two variables"
      ]
    },
    {
      "cell_type": "code",
      "execution_count": null,
      "id": "c2d51213",
      "metadata": {
        "id": "c2d51213"
      },
      "outputs": [],
      "source": [
        "import pandas as pd\n",
        "data_locations = pd.read_csv('~/instagram_locations.zip', delimiter='\\t')"
      ]
    },
    {
      "cell_type": "code",
      "execution_count": null,
      "id": "c7c89ad8",
      "metadata": {
        "id": "c7c89ad8",
        "outputId": "be0e3b0e-f154-4c64-c232-b2a85244f386"
      },
      "outputs": [
        {
          "data": {
            "text/html": [
              "<div>\n",
              "<style scoped>\n",
              "    .dataframe tbody tr th:only-of-type {\n",
              "        vertical-align: middle;\n",
              "    }\n",
              "\n",
              "    .dataframe tbody tr th {\n",
              "        vertical-align: top;\n",
              "    }\n",
              "\n",
              "    .dataframe thead th {\n",
              "        text-align: right;\n",
              "    }\n",
              "</style>\n",
              "<table border=\"1\" class=\"dataframe\">\n",
              "  <thead>\n",
              "    <tr style=\"text-align: right;\">\n",
              "      <th></th>\n",
              "      <th>sid</th>\n",
              "      <th>id</th>\n",
              "      <th>name</th>\n",
              "      <th>street</th>\n",
              "      <th>zip</th>\n",
              "      <th>city</th>\n",
              "      <th>region</th>\n",
              "      <th>cd</th>\n",
              "      <th>phone</th>\n",
              "      <th>aj_exact_city_match</th>\n",
              "      <th>...</th>\n",
              "      <th>dir_city_name</th>\n",
              "      <th>dir_city_slug</th>\n",
              "      <th>dir_country_id</th>\n",
              "      <th>dir_country_name</th>\n",
              "      <th>lat</th>\n",
              "      <th>lng</th>\n",
              "      <th>primary_alias_on_fb</th>\n",
              "      <th>slug</th>\n",
              "      <th>website</th>\n",
              "      <th>cts</th>\n",
              "    </tr>\n",
              "  </thead>\n",
              "  <tbody>\n",
              "    <tr>\n",
              "      <th>0</th>\n",
              "      <td>719981</td>\n",
              "      <td>110296492939207</td>\n",
              "      <td>Playa de Daimuz - Valencia, España</td>\n",
              "      <td>NaN</td>\n",
              "      <td>NaN</td>\n",
              "      <td>NaN</td>\n",
              "      <td>NaN</td>\n",
              "      <td>NaN</td>\n",
              "      <td>NaN</td>\n",
              "      <td>False</td>\n",
              "      <td>...</td>\n",
              "      <td>NaN</td>\n",
              "      <td>NaN</td>\n",
              "      <td>NaN</td>\n",
              "      <td>NaN</td>\n",
              "      <td>-0.139475</td>\n",
              "      <td>38.974391</td>\n",
              "      <td>daimuzplaya</td>\n",
              "      <td>playa-de-daimuz-valencia-espana</td>\n",
              "      <td>https://es.wikipedia.org/wiki/Daimuz</td>\n",
              "      <td>2019-05-29 01:21:29.987</td>\n",
              "    </tr>\n",
              "    <tr>\n",
              "      <th>1</th>\n",
              "      <td>719983</td>\n",
              "      <td>274391278</td>\n",
              "      <td>Nová Vieska</td>\n",
              "      <td>NaN</td>\n",
              "      <td>NaN</td>\n",
              "      <td>Nová Vieska</td>\n",
              "      <td>NaN</td>\n",
              "      <td>SK</td>\n",
              "      <td>NaN</td>\n",
              "      <td>True</td>\n",
              "      <td>...</td>\n",
              "      <td>Kis-Újfalu</td>\n",
              "      <td>kis-ujfalu</td>\n",
              "      <td>SK</td>\n",
              "      <td>Slovakia</td>\n",
              "      <td>18.466667</td>\n",
              "      <td>47.866667</td>\n",
              "      <td>NaN</td>\n",
              "      <td>nova-vieska</td>\n",
              "      <td>NaN</td>\n",
              "      <td>2019-05-29 01:21:38.037</td>\n",
              "    </tr>\n",
              "    <tr>\n",
              "      <th>2</th>\n",
              "      <td>719985</td>\n",
              "      <td>148885595789195</td>\n",
              "      <td>Everest Today</td>\n",
              "      <td>Himalayas</td>\n",
              "      <td>+977</td>\n",
              "      <td>Kathmandu, Nepal</td>\n",
              "      <td>NaN</td>\n",
              "      <td>NP</td>\n",
              "      <td>NaN</td>\n",
              "      <td>False</td>\n",
              "      <td>...</td>\n",
              "      <td>Pasupati</td>\n",
              "      <td>pasupati</td>\n",
              "      <td>NP</td>\n",
              "      <td>Nepal</td>\n",
              "      <td>85.330150</td>\n",
              "      <td>27.701960</td>\n",
              "      <td>EverestToday</td>\n",
              "      <td>everest-today</td>\n",
              "      <td>NaN</td>\n",
              "      <td>2019-05-29 01:21:46.295</td>\n",
              "    </tr>\n",
              "    <tr>\n",
              "      <th>3</th>\n",
              "      <td>719987</td>\n",
              "      <td>263258277</td>\n",
              "      <td>BULAC - Bibliothèque universitaire des langues...</td>\n",
              "      <td>65, rue des Grands-Moulins</td>\n",
              "      <td>75013</td>\n",
              "      <td>Paris, France</td>\n",
              "      <td>NaN</td>\n",
              "      <td>FR</td>\n",
              "      <td>01 81 69 18 00</td>\n",
              "      <td>False</td>\n",
              "      <td>...</td>\n",
              "      <td>13ème Arrondissement Paris</td>\n",
              "      <td>13eme-arrondissement-paris</td>\n",
              "      <td>FR</td>\n",
              "      <td>France</td>\n",
              "      <td>2.375995</td>\n",
              "      <td>48.827240</td>\n",
              "      <td>BULAC.Paris</td>\n",
              "      <td>bulac-bibliotheque-universitaire-des-langues-e...</td>\n",
              "      <td>www.bulac.fr</td>\n",
              "      <td>2019-05-29 01:21:54.355</td>\n",
              "    </tr>\n",
              "    <tr>\n",
              "      <th>4</th>\n",
              "      <td>326443</td>\n",
              "      <td>406147529857708</td>\n",
              "      <td>ABC Cable Networks Group</td>\n",
              "      <td>3800 W Alameda Ave</td>\n",
              "      <td>91505</td>\n",
              "      <td>Burbank, California</td>\n",
              "      <td>NaN</td>\n",
              "      <td>US</td>\n",
              "      <td>(818) 569-7500</td>\n",
              "      <td>False</td>\n",
              "      <td>...</td>\n",
              "      <td>NaN</td>\n",
              "      <td>NaN</td>\n",
              "      <td>NaN</td>\n",
              "      <td>NaN</td>\n",
              "      <td>-118.341864</td>\n",
              "      <td>34.153265</td>\n",
              "      <td>NaN</td>\n",
              "      <td>abc-cable-networks-group</td>\n",
              "      <td>NaN</td>\n",
              "      <td>2019-04-02 15:22:55.703</td>\n",
              "    </tr>\n",
              "  </tbody>\n",
              "</table>\n",
              "<p>5 rows × 23 columns</p>\n",
              "</div>"
            ],
            "text/plain": [
              "      sid               id                                               name  \\\n",
              "0  719981  110296492939207                 Playa de Daimuz - Valencia, España   \n",
              "1  719983        274391278                                        Nová Vieska   \n",
              "2  719985  148885595789195                                      Everest Today   \n",
              "3  719987        263258277  BULAC - Bibliothèque universitaire des langues...   \n",
              "4  326443  406147529857708                           ABC Cable Networks Group   \n",
              "\n",
              "                       street    zip                 city region   cd  \\\n",
              "0                         NaN    NaN                  NaN    NaN  NaN   \n",
              "1                         NaN    NaN          Nová Vieska    NaN   SK   \n",
              "2                   Himalayas   +977     Kathmandu, Nepal    NaN   NP   \n",
              "3  65, rue des Grands-Moulins  75013        Paris, France    NaN   FR   \n",
              "4          3800 W Alameda Ave  91505  Burbank, California    NaN   US   \n",
              "\n",
              "            phone aj_exact_city_match  ...               dir_city_name  \\\n",
              "0             NaN               False  ...                         NaN   \n",
              "1             NaN                True  ...                  Kis-Újfalu   \n",
              "2             NaN               False  ...                    Pasupati   \n",
              "3  01 81 69 18 00               False  ...  13ème Arrondissement Paris   \n",
              "4  (818) 569-7500               False  ...                         NaN   \n",
              "\n",
              "                dir_city_slug dir_country_id dir_country_name         lat  \\\n",
              "0                         NaN            NaN              NaN   -0.139475   \n",
              "1                  kis-ujfalu             SK         Slovakia   18.466667   \n",
              "2                    pasupati             NP            Nepal   85.330150   \n",
              "3  13eme-arrondissement-paris             FR           France    2.375995   \n",
              "4                         NaN            NaN              NaN -118.341864   \n",
              "\n",
              "         lng primary_alias_on_fb  \\\n",
              "0  38.974391         daimuzplaya   \n",
              "1  47.866667                 NaN   \n",
              "2  27.701960        EverestToday   \n",
              "3  48.827240         BULAC.Paris   \n",
              "4  34.153265                 NaN   \n",
              "\n",
              "                                                slug  \\\n",
              "0                    playa-de-daimuz-valencia-espana   \n",
              "1                                        nova-vieska   \n",
              "2                                      everest-today   \n",
              "3  bulac-bibliotheque-universitaire-des-langues-e...   \n",
              "4                           abc-cable-networks-group   \n",
              "\n",
              "                                website                      cts  \n",
              "0  https://es.wikipedia.org/wiki/Daimuz  2019-05-29 01:21:29.987  \n",
              "1                                   NaN  2019-05-29 01:21:38.037  \n",
              "2                                   NaN  2019-05-29 01:21:46.295  \n",
              "3                          www.bulac.fr  2019-05-29 01:21:54.355  \n",
              "4                                   NaN  2019-04-02 15:22:55.703  \n",
              "\n",
              "[5 rows x 23 columns]"
            ]
          },
          "execution_count": 3,
          "metadata": {},
          "output_type": "execute_result"
        }
      ],
      "source": [
        "data_locations.head()"
      ]
    },
    {
      "cell_type": "code",
      "execution_count": null,
      "id": "6519ff8f",
      "metadata": {
        "id": "6519ff8f",
        "outputId": "3d19d80c-c471-440d-ac25-bc74a4c19295"
      },
      "outputs": [
        {
          "data": {
            "text/html": [
              "<div>\n",
              "<style scoped>\n",
              "    .dataframe tbody tr th:only-of-type {\n",
              "        vertical-align: middle;\n",
              "    }\n",
              "\n",
              "    .dataframe tbody tr th {\n",
              "        vertical-align: top;\n",
              "    }\n",
              "\n",
              "    .dataframe thead th {\n",
              "        text-align: right;\n",
              "    }\n",
              "</style>\n",
              "<table border=\"1\" class=\"dataframe\">\n",
              "  <thead>\n",
              "    <tr style=\"text-align: right;\">\n",
              "      <th></th>\n",
              "      <th>sid</th>\n",
              "      <th>id</th>\n",
              "      <th>name</th>\n",
              "      <th>street</th>\n",
              "      <th>zip</th>\n",
              "      <th>city</th>\n",
              "      <th>region</th>\n",
              "      <th>cd</th>\n",
              "      <th>phone</th>\n",
              "      <th>aj_exact_city_match</th>\n",
              "      <th>...</th>\n",
              "      <th>dir_city_name</th>\n",
              "      <th>dir_city_slug</th>\n",
              "      <th>dir_country_id</th>\n",
              "      <th>dir_country_name</th>\n",
              "      <th>lat</th>\n",
              "      <th>lng</th>\n",
              "      <th>primary_alias_on_fb</th>\n",
              "      <th>slug</th>\n",
              "      <th>website</th>\n",
              "      <th>cts</th>\n",
              "    </tr>\n",
              "  </thead>\n",
              "  <tbody>\n",
              "    <tr>\n",
              "      <th>1022653</th>\n",
              "      <td>719973</td>\n",
              "      <td>873926439475785</td>\n",
              "      <td>Baby Season</td>\n",
              "      <td>Suarez de Figueroa # 380</td>\n",
              "      <td>NaN</td>\n",
              "      <td>Santa Cruz de la Sierra, Bolivia</td>\n",
              "      <td>NaN</td>\n",
              "      <td>BO</td>\n",
              "      <td>69118383</td>\n",
              "      <td>False</td>\n",
              "      <td>...</td>\n",
              "      <td>Santa Cruz de la Sierra</td>\n",
              "      <td>santa-cruz-de-la-sierra</td>\n",
              "      <td>BO</td>\n",
              "      <td>Bolivia</td>\n",
              "      <td>-63.185307</td>\n",
              "      <td>-17.786130</td>\n",
              "      <td>babyseason.srl</td>\n",
              "      <td>baby-season</td>\n",
              "      <td>NaN</td>\n",
              "      <td>2019-05-29 01:20:57.078</td>\n",
              "    </tr>\n",
              "    <tr>\n",
              "      <th>1022654</th>\n",
              "      <td>719975</td>\n",
              "      <td>390707529</td>\n",
              "      <td>Cueva Carvajal</td>\n",
              "      <td>NaN</td>\n",
              "      <td>NaN</td>\n",
              "      <td>NaN</td>\n",
              "      <td>NaN</td>\n",
              "      <td>NaN</td>\n",
              "      <td>+52 81 2089 7776</td>\n",
              "      <td>NaN</td>\n",
              "      <td>...</td>\n",
              "      <td>NaN</td>\n",
              "      <td>NaN</td>\n",
              "      <td>NaN</td>\n",
              "      <td>NaN</td>\n",
              "      <td>-100.359619</td>\n",
              "      <td>25.653550</td>\n",
              "      <td>CuevaCarvajalBrewPub</td>\n",
              "      <td>cueva-carvajal</td>\n",
              "      <td>http://www.cuevacarvajal.mx</td>\n",
              "      <td>2019-05-29 01:21:04.434</td>\n",
              "    </tr>\n",
              "    <tr>\n",
              "      <th>1022655</th>\n",
              "      <td>719977</td>\n",
              "      <td>1205466612894741</td>\n",
              "      <td>The Cheesecake Factory</td>\n",
              "      <td>304 Orland Square Dr</td>\n",
              "      <td>60462</td>\n",
              "      <td>Orland Park, Illinois</td>\n",
              "      <td>NaN</td>\n",
              "      <td>US</td>\n",
              "      <td>(708) 873-3747</td>\n",
              "      <td>False</td>\n",
              "      <td>...</td>\n",
              "      <td>Manor Homes</td>\n",
              "      <td>manor-homes</td>\n",
              "      <td>US</td>\n",
              "      <td>United States</td>\n",
              "      <td>-87.843649</td>\n",
              "      <td>41.618551</td>\n",
              "      <td>NaN</td>\n",
              "      <td>the-cheesecake-factory</td>\n",
              "      <td>http://locations.thecheesecakefactory.com/il/o...</td>\n",
              "      <td>2019-05-29 01:21:13.404</td>\n",
              "    </tr>\n",
              "    <tr>\n",
              "      <th>1022656</th>\n",
              "      <td>719979</td>\n",
              "      <td>286794844</td>\n",
              "      <td>Plimmer Towers</td>\n",
              "      <td>2 Gilmer Terrace</td>\n",
              "      <td>NaN</td>\n",
              "      <td>Wellington, New Zealand</td>\n",
              "      <td>NaN</td>\n",
              "      <td>NZ</td>\n",
              "      <td>NaN</td>\n",
              "      <td>False</td>\n",
              "      <td>...</td>\n",
              "      <td>NaN</td>\n",
              "      <td>NaN</td>\n",
              "      <td>NaN</td>\n",
              "      <td>NaN</td>\n",
              "      <td>174.775000</td>\n",
              "      <td>-41.285800</td>\n",
              "      <td>NaN</td>\n",
              "      <td>plimmer-towers</td>\n",
              "      <td>NaN</td>\n",
              "      <td>2019-05-29 01:21:21.628</td>\n",
              "    </tr>\n",
              "    <tr>\n",
              "      <th>1022657</th>\n",
              "      <td>720678</td>\n",
              "      <td>554330673</td>\n",
              "      <td>Старые Бирюли</td>\n",
              "      <td>Северная улица</td>\n",
              "      <td>NaN</td>\n",
              "      <td>NaN</td>\n",
              "      <td>NaN</td>\n",
              "      <td>NaN</td>\n",
              "      <td>NaN</td>\n",
              "      <td>False</td>\n",
              "      <td>...</td>\n",
              "      <td>NaN</td>\n",
              "      <td>NaN</td>\n",
              "      <td>NaN</td>\n",
              "      <td>NaN</td>\n",
              "      <td>49.444430</td>\n",
              "      <td>55.979180</td>\n",
              "      <td>NaN</td>\n",
              "      <td>NaN</td>\n",
              "      <td>NaN</td>\n",
              "      <td>2019-05-29 02:07:00.772</td>\n",
              "    </tr>\n",
              "  </tbody>\n",
              "</table>\n",
              "<p>5 rows × 23 columns</p>\n",
              "</div>"
            ],
            "text/plain": [
              "            sid                id                    name  \\\n",
              "1022653  719973   873926439475785             Baby Season   \n",
              "1022654  719975         390707529          Cueva Carvajal   \n",
              "1022655  719977  1205466612894741  The Cheesecake Factory   \n",
              "1022656  719979         286794844          Plimmer Towers   \n",
              "1022657  720678         554330673           Старые Бирюли   \n",
              "\n",
              "                           street    zip                              city  \\\n",
              "1022653  Suarez de Figueroa # 380    NaN  Santa Cruz de la Sierra, Bolivia   \n",
              "1022654                       NaN    NaN                               NaN   \n",
              "1022655      304 Orland Square Dr  60462             Orland Park, Illinois   \n",
              "1022656          2 Gilmer Terrace    NaN           Wellington, New Zealand   \n",
              "1022657            Северная улица    NaN                               NaN   \n",
              "\n",
              "        region   cd             phone aj_exact_city_match  ...  \\\n",
              "1022653    NaN   BO          69118383               False  ...   \n",
              "1022654    NaN  NaN  +52 81 2089 7776                 NaN  ...   \n",
              "1022655    NaN   US    (708) 873-3747               False  ...   \n",
              "1022656    NaN   NZ               NaN               False  ...   \n",
              "1022657    NaN  NaN               NaN               False  ...   \n",
              "\n",
              "                   dir_city_name            dir_city_slug dir_country_id  \\\n",
              "1022653  Santa Cruz de la Sierra  santa-cruz-de-la-sierra             BO   \n",
              "1022654                      NaN                      NaN            NaN   \n",
              "1022655              Manor Homes              manor-homes             US   \n",
              "1022656                      NaN                      NaN            NaN   \n",
              "1022657                      NaN                      NaN            NaN   \n",
              "\n",
              "        dir_country_name         lat        lng   primary_alias_on_fb  \\\n",
              "1022653          Bolivia  -63.185307 -17.786130        babyseason.srl   \n",
              "1022654              NaN -100.359619  25.653550  CuevaCarvajalBrewPub   \n",
              "1022655    United States  -87.843649  41.618551                   NaN   \n",
              "1022656              NaN  174.775000 -41.285800                   NaN   \n",
              "1022657              NaN   49.444430  55.979180                   NaN   \n",
              "\n",
              "                           slug  \\\n",
              "1022653             baby-season   \n",
              "1022654          cueva-carvajal   \n",
              "1022655  the-cheesecake-factory   \n",
              "1022656          plimmer-towers   \n",
              "1022657                     NaN   \n",
              "\n",
              "                                                   website  \\\n",
              "1022653                                                NaN   \n",
              "1022654                        http://www.cuevacarvajal.mx   \n",
              "1022655  http://locations.thecheesecakefactory.com/il/o...   \n",
              "1022656                                                NaN   \n",
              "1022657                                                NaN   \n",
              "\n",
              "                             cts  \n",
              "1022653  2019-05-29 01:20:57.078  \n",
              "1022654  2019-05-29 01:21:04.434  \n",
              "1022655  2019-05-29 01:21:13.404  \n",
              "1022656  2019-05-29 01:21:21.628  \n",
              "1022657  2019-05-29 02:07:00.772  \n",
              "\n",
              "[5 rows x 23 columns]"
            ]
          },
          "execution_count": 15,
          "metadata": {},
          "output_type": "execute_result"
        }
      ],
      "source": [
        "data_locations.tail()"
      ]
    },
    {
      "cell_type": "code",
      "execution_count": null,
      "id": "4a6bcb69",
      "metadata": {
        "id": "4a6bcb69",
        "outputId": "ea54a6d0-60f4-447c-c947-754a8a361642"
      },
      "outputs": [
        {
          "data": {
            "text/plain": [
              "(1022658, 23)"
            ]
          },
          "execution_count": 16,
          "metadata": {},
          "output_type": "execute_result"
        }
      ],
      "source": [
        "data_locations.shape"
      ]
    },
    {
      "cell_type": "code",
      "execution_count": null,
      "id": "0b7dc790",
      "metadata": {
        "id": "0b7dc790",
        "outputId": "29834306-7208-43a4-f80c-4f7c6de67572"
      },
      "outputs": [
        {
          "name": "stdout",
          "output_type": "stream",
          "text": [
            "<class 'pandas.core.frame.DataFrame'>\n",
            "RangeIndex: 1022658 entries, 0 to 1022657\n",
            "Data columns (total 23 columns):\n",
            " #   Column                  Non-Null Count    Dtype  \n",
            "---  ------                  --------------    -----  \n",
            " 0   sid                     1022658 non-null  int64  \n",
            " 1   id                      1022658 non-null  int64  \n",
            " 2   name                    1022658 non-null  object \n",
            " 3   street                  715704 non-null   object \n",
            " 4   zip                     715579 non-null   object \n",
            " 5   city                    937166 non-null   object \n",
            " 6   region                  1760 non-null     object \n",
            " 7   cd                      939010 non-null   object \n",
            " 8   phone                   601688 non-null   object \n",
            " 9   aj_exact_city_match     1000510 non-null  object \n",
            " 10  aj_exact_country_match  1000510 non-null  object \n",
            " 11  blurb                   406705 non-null   object \n",
            " 12  dir_city_id             495698 non-null   object \n",
            " 13  dir_city_name           495698 non-null   object \n",
            " 14  dir_city_slug           495221 non-null   object \n",
            " 15  dir_country_id          495628 non-null   object \n",
            " 16  dir_country_name        495698 non-null   object \n",
            " 17  lat                     1016495 non-null  float64\n",
            " 18  lng                     1016495 non-null  float64\n",
            " 19  primary_alias_on_fb     425531 non-null   object \n",
            " 20  slug                    941668 non-null   object \n",
            " 21  website                 623262 non-null   object \n",
            " 22  cts                     1022658 non-null  object \n",
            "dtypes: float64(2), int64(2), object(19)\n",
            "memory usage: 179.5+ MB\n"
          ]
        }
      ],
      "source": [
        "data_locations.info()"
      ]
    },
    {
      "cell_type": "code",
      "execution_count": null,
      "id": "c97902e4",
      "metadata": {
        "id": "c97902e4",
        "outputId": "7a1a5353-7536-40cf-a7b3-1c53b4155b30"
      },
      "outputs": [
        {
          "data": {
            "text/html": [
              "<div>\n",
              "<style scoped>\n",
              "    .dataframe tbody tr th:only-of-type {\n",
              "        vertical-align: middle;\n",
              "    }\n",
              "\n",
              "    .dataframe tbody tr th {\n",
              "        vertical-align: top;\n",
              "    }\n",
              "\n",
              "    .dataframe thead th {\n",
              "        text-align: right;\n",
              "    }\n",
              "</style>\n",
              "<table border=\"1\" class=\"dataframe\">\n",
              "  <thead>\n",
              "    <tr style=\"text-align: right;\">\n",
              "      <th></th>\n",
              "      <th>sid</th>\n",
              "      <th>id</th>\n",
              "      <th>lat</th>\n",
              "      <th>lng</th>\n",
              "    </tr>\n",
              "  </thead>\n",
              "  <tbody>\n",
              "    <tr>\n",
              "      <th>count</th>\n",
              "      <td>1.022658e+06</td>\n",
              "      <td>1.022658e+06</td>\n",
              "      <td>1.016495e+06</td>\n",
              "      <td>1.016495e+06</td>\n",
              "    </tr>\n",
              "    <tr>\n",
              "      <th>mean</th>\n",
              "      <td>5.274856e+05</td>\n",
              "      <td>3.152851e+14</td>\n",
              "      <td>-1.529215e+01</td>\n",
              "      <td>3.421718e+01</td>\n",
              "    </tr>\n",
              "    <tr>\n",
              "      <th>std</th>\n",
              "      <td>2.994567e+05</td>\n",
              "      <td>5.795031e+14</td>\n",
              "      <td>7.615085e+01</td>\n",
              "      <td>2.201081e+01</td>\n",
              "    </tr>\n",
              "    <tr>\n",
              "      <th>min</th>\n",
              "      <td>1.000000e+00</td>\n",
              "      <td>7.000000e+00</td>\n",
              "      <td>-1.799830e+02</td>\n",
              "      <td>-9.000000e+01</td>\n",
              "    </tr>\n",
              "    <tr>\n",
              "      <th>25%</th>\n",
              "      <td>2.688392e+05</td>\n",
              "      <td>2.522377e+08</td>\n",
              "      <td>-8.015575e+01</td>\n",
              "      <td>2.997555e+01</td>\n",
              "    </tr>\n",
              "    <tr>\n",
              "      <th>50%</th>\n",
              "      <td>5.300405e+05</td>\n",
              "      <td>8.573350e+08</td>\n",
              "      <td>-2.450000e+00</td>\n",
              "      <td>4.067820e+01</td>\n",
              "    </tr>\n",
              "    <tr>\n",
              "      <th>75%</th>\n",
              "      <td>7.866598e+05</td>\n",
              "      <td>3.304662e+14</td>\n",
              "      <td>3.071740e+01</td>\n",
              "      <td>4.884722e+01</td>\n",
              "    </tr>\n",
              "    <tr>\n",
              "      <th>max</th>\n",
              "      <td>1.043657e+06</td>\n",
              "      <td>2.402148e+16</td>\n",
              "      <td>1.799941e+02</td>\n",
              "      <td>8.999870e+01</td>\n",
              "    </tr>\n",
              "  </tbody>\n",
              "</table>\n",
              "</div>"
            ],
            "text/plain": [
              "                sid            id           lat           lng\n",
              "count  1.022658e+06  1.022658e+06  1.016495e+06  1.016495e+06\n",
              "mean   5.274856e+05  3.152851e+14 -1.529215e+01  3.421718e+01\n",
              "std    2.994567e+05  5.795031e+14  7.615085e+01  2.201081e+01\n",
              "min    1.000000e+00  7.000000e+00 -1.799830e+02 -9.000000e+01\n",
              "25%    2.688392e+05  2.522377e+08 -8.015575e+01  2.997555e+01\n",
              "50%    5.300405e+05  8.573350e+08 -2.450000e+00  4.067820e+01\n",
              "75%    7.866598e+05  3.304662e+14  3.071740e+01  4.884722e+01\n",
              "max    1.043657e+06  2.402148e+16  1.799941e+02  8.999870e+01"
            ]
          },
          "execution_count": 18,
          "metadata": {},
          "output_type": "execute_result"
        }
      ],
      "source": [
        "data_locations.describe()"
      ]
    },
    {
      "cell_type": "markdown",
      "id": "f83a8a2d",
      "metadata": {
        "id": "f83a8a2d"
      },
      "source": [
        "The data_locations dataframe has 1022658 units and 23 variables (4 quantitative and 19 qualitative). In the table above are indicated the principal statistics of the quantitative variables like the mean, the median and the quantiles"
      ]
    },
    {
      "cell_type": "code",
      "execution_count": null,
      "id": "aa5cb82d",
      "metadata": {
        "id": "aa5cb82d",
        "outputId": "1ae10514-9c13-4544-a9aa-85c242647c15"
      },
      "outputs": [
        {
          "name": "stdout",
          "output_type": "stream",
          "text": [
            "number of outliers of lat variable: 0\n",
            "max outlier value of lat variable: nan\n",
            "min outlier value of lat variable: nan\n"
          ]
        },
        {
          "data": {
            "text/plain": [
              "<AxesSubplot:>"
            ]
          },
          "execution_count": 49,
          "metadata": {},
          "output_type": "execute_result"
        },
        {
          "data": {
            "image/png": "[encoded data removed]",
            "text/plain": [
              "<Figure size 432x288 with 1 Axes>"
            ]
          },
          "metadata": {
            "needs_background": "light"
          },
          "output_type": "display_data"
        }
      ],
      "source": [
        "out_lat=find_outliers_IQR(data_locations['lat'])\n",
        "print('number of outliers of lat variable: '+ str(len(out_lat)))\n",
        "print('max outlier value of lat variable: '+ str(out_lat.max()))\n",
        "print('min outlier value of lat variable: '+ str(out_lat.min()))\n",
        "\n",
        "data_locations.boxplot(column=['lat'])"
      ]
    },
    {
      "cell_type": "code",
      "execution_count": null,
      "id": "a8d4989b",
      "metadata": {
        "id": "a8d4989b",
        "outputId": "11f6f809-c966-48c7-8acd-9367c7d10d17"
      },
      "outputs": [
        {
          "name": "stdout",
          "output_type": "stream",
          "text": [
            "number of outliers of lat variable: 96259\n",
            "max outlier value of lat variable: 89.998698\n",
            "min outlier value of lat variable: -90.0\n"
          ]
        },
        {
          "data": {
            "text/plain": [
              "<AxesSubplot:>"
            ]
          },
          "execution_count": 21,
          "metadata": {},
          "output_type": "execute_result"
        },
        {
          "data": {
            "image/png": "[encoded data removed]",
            "text/plain": [
              "<Figure size 432x288 with 1 Axes>"
            ]
          },
          "metadata": {
            "needs_background": "light"
          },
          "output_type": "display_data"
        }
      ],
      "source": [
        "out_lng=find_outliers_IQR(data_locations['lng'])\n",
        "print('number of outliers of lng variable: '+ str(len(lng_loc)))\n",
        "print('max outlier value of lng variable: '+ str(out_lng.max()))\n",
        "print('min outlier value of lng variable: '+ str(out_lng.min()))\n",
        "\n",
        "data_locations.boxplot(column=['lng'])"
      ]
    },
    {
      "cell_type": "markdown",
      "id": "df66e059",
      "metadata": {
        "id": "df66e059"
      },
      "source": [
        "Firstly, we can observe, by the y limits, that latitude values and longitude values are inverted. Than we can observe the variables quantiles and the outliers"
      ]
    },
    {
      "cell_type": "code",
      "execution_count": null,
      "id": "1f6af5e4",
      "metadata": {
        "id": "1f6af5e4",
        "outputId": "3b804e75-cdd5-487d-f808-f0849a58eb2a"
      },
      "outputs": [
        {
          "data": {
            "text/plain": [
              "sid                             0\n",
              "id                              0\n",
              "name                            0\n",
              "street                     306954\n",
              "zip                        307079\n",
              "city                        85492\n",
              "region                    1020898\n",
              "cd                          83648\n",
              "phone                      420970\n",
              "aj_exact_city_match         22148\n",
              "aj_exact_country_match      22148\n",
              "blurb                      615953\n",
              "dir_city_id                526960\n",
              "dir_city_name              526960\n",
              "dir_city_slug              527437\n",
              "dir_country_id             527030\n",
              "dir_country_name           526960\n",
              "lat                          6163\n",
              "lng                          6163\n",
              "primary_alias_on_fb        597127\n",
              "slug                        80990\n",
              "website                    399396\n",
              "cts                             0\n",
              "dtype: int64"
            ]
          },
          "execution_count": 5,
          "metadata": {},
          "output_type": "execute_result"
        }
      ],
      "source": [
        "data_locations.isnull().sum()"
      ]
    },
    {
      "cell_type": "code",
      "execution_count": null,
      "id": "d521c6f2",
      "metadata": {
        "id": "d521c6f2",
        "outputId": "c8c3b550-0483-4500-eba5-654d351ecf49"
      },
      "outputs": [
        {
          "name": "stdout",
          "output_type": "stream",
          "text": [
            "street : 30.02%\n",
            "zip : 30.03%\n",
            "city : 8.36%\n",
            "region : 99.83%\n",
            "cd : 8.18%\n",
            "phone : 41.16%\n",
            "aj_exact_city_match : 2.17%\n",
            "aj_exact_country_match : 2.17%\n",
            "blurb : 60.23%\n",
            "dir_city_id : 51.53%\n",
            "dir_city_name : 51.53%\n",
            "dir_city_slug : 51.58%\n",
            "dir_country_id : 51.54%\n",
            "dir_country_name : 51.53%\n",
            "lat : 0.60%\n",
            "lng : 0.60%\n",
            "primary_alias_on_fb : 58.39%\n",
            "slug : 7.92%\n",
            "website : 39.05%\n"
          ]
        }
      ],
      "source": [
        "for column in data_locations.columns:\n",
        "    if data_locations[column].isnull().sum() > 0:\n",
        "        print(column, ': {:.2%}'.format(data_locations[column].isnull().sum() /\n",
        "                                               data_locations[column].shape[0]))"
      ]
    },
    {
      "cell_type": "code",
      "execution_count": null,
      "id": "d092cffb",
      "metadata": {
        "id": "d092cffb"
      },
      "outputs": [],
      "source": [
        "data_loc_2=data_locations.copy()"
      ]
    },
    {
      "cell_type": "code",
      "execution_count": null,
      "id": "3163ac56",
      "metadata": {
        "id": "3163ac56"
      },
      "outputs": [],
      "source": [
        "data_loc_2.street.fillna('', inplace=True)\n",
        "data_loc_2.zip.fillna('', inplace=True)\n",
        "data_loc_2.city.fillna('', inplace=True)\n",
        "data_loc_2.region.fillna('', inplace=True)\n",
        "data_loc_2.cd.fillna('', inplace=True)\n",
        "data_loc_2.phone.fillna('', inplace=True)\n",
        "data_loc_2.aj_exact_city_match.fillna('', inplace=True)\n",
        "data_loc_2.aj_exact_country_match.fillna('', inplace=True)\n",
        "data_loc_2.blurb.fillna('', inplace=True)\n",
        "data_loc_2.dir_city_id.fillna('', inplace=True)\n",
        "data_loc_2.dir_city_name.fillna('', inplace=True)\n",
        "data_loc_2.dir_city_slug.fillna('', inplace=True)\n",
        "data_loc_2.dir_country_id.fillna('', inplace=True)\n",
        "data_loc_2.dir_country_name.fillna('', inplace=True)\n",
        "data_loc_2.primary_alias_on_fb.fillna('', inplace=True)\n",
        "data_loc_2.slug.fillna('', inplace=True)\n",
        "data_loc_2.website.fillna('', inplace=True)\n",
        "data_loc_2.cts.fillna('', inplace=True)"
      ]
    },
    {
      "cell_type": "code",
      "execution_count": null,
      "id": "1ee95039",
      "metadata": {
        "id": "1ee95039",
        "outputId": "03e07e90-f42a-44be-8e9a-7c5e0507c7d2"
      },
      "outputs": [
        {
          "data": {
            "text/plain": [
              "sid                          0\n",
              "id                           0\n",
              "name                         0\n",
              "street                       0\n",
              "zip                          0\n",
              "city                         0\n",
              "region                       0\n",
              "cd                           0\n",
              "phone                        0\n",
              "aj_exact_city_match          0\n",
              "aj_exact_country_match       0\n",
              "blurb                        0\n",
              "dir_city_id                  0\n",
              "dir_city_name                0\n",
              "dir_city_slug                0\n",
              "dir_country_id               0\n",
              "dir_country_name             0\n",
              "lat                       6163\n",
              "lng                       6163\n",
              "primary_alias_on_fb          0\n",
              "slug                         0\n",
              "website                      0\n",
              "cts                          0\n",
              "dtype: int64"
            ]
          },
          "execution_count": 8,
          "metadata": {},
          "output_type": "execute_result"
        }
      ],
      "source": [
        "data_loc_2.isnull().sum()"
      ]
    },
    {
      "cell_type": "code",
      "execution_count": null,
      "id": "54adc3da",
      "metadata": {
        "id": "54adc3da"
      },
      "outputs": [],
      "source": [
        "data_loc_2 = data_loc_2.dropna()\n",
        "data_loc_2 = data_loc_2.reset_index(drop=True)"
      ]
    },
    {
      "cell_type": "code",
      "execution_count": null,
      "id": "90443175",
      "metadata": {
        "id": "90443175",
        "outputId": "fcff4378-f268-4e52-fcb9-d7111bdb3df9"
      },
      "outputs": [
        {
          "data": {
            "text/plain": [
              "sid                       0\n",
              "id                        0\n",
              "name                      0\n",
              "street                    0\n",
              "zip                       0\n",
              "city                      0\n",
              "region                    0\n",
              "cd                        0\n",
              "phone                     0\n",
              "aj_exact_city_match       0\n",
              "aj_exact_country_match    0\n",
              "blurb                     0\n",
              "dir_city_id               0\n",
              "dir_city_name             0\n",
              "dir_city_slug             0\n",
              "dir_country_id            0\n",
              "dir_country_name          0\n",
              "lat                       0\n",
              "lng                       0\n",
              "primary_alias_on_fb       0\n",
              "slug                      0\n",
              "website                   0\n",
              "cts                       0\n",
              "dtype: int64"
            ]
          },
          "execution_count": 14,
          "metadata": {},
          "output_type": "execute_result"
        }
      ],
      "source": [
        "data_loc_2.isnull().sum()"
      ]
    },
    {
      "cell_type": "markdown",
      "id": "c63407b5",
      "metadata": {
        "id": "c63407b5"
      },
      "source": [
        "We decided to replace null values of qualitative variables with empty strings and to remove the raws with null values refering to latitude and longitude variables"
      ]
    },
    {
      "cell_type": "code",
      "execution_count": null,
      "id": "2892808a",
      "metadata": {
        "id": "2892808a",
        "outputId": "522c0e86-8712-4b11-bca5-546bb8669746"
      },
      "outputs": [
        {
          "data": {
            "text/plain": [
              "<AxesSubplot:title={'center':'Histogram of longitude'}, ylabel='Frequency'>"
            ]
          },
          "execution_count": 18,
          "metadata": {},
          "output_type": "execute_result"
        },
        {
          "data": {
            "image/png": "[encoded data removed]",
            "text/plain": [
              "<Figure size 432x288 with 1 Axes>"
            ]
          },
          "metadata": {
            "needs_background": "light"
          },
          "output_type": "display_data"
        }
      ],
      "source": [
        "data_loc_2.lat.plot.hist(title='Histogram of longitude')"
      ]
    },
    {
      "cell_type": "markdown",
      "id": "ae37b6d6",
      "metadata": {
        "id": "ae37b6d6"
      },
      "source": [
        "We have an asymmetric distribution with two peaks that rapresent the longitude of the places most visited to take pictures for an instagram post."
      ]
    },
    {
      "cell_type": "code",
      "execution_count": null,
      "id": "1fcceaa8",
      "metadata": {
        "id": "1fcceaa8",
        "outputId": "aa57f86c-db10-4627-a3fa-95321ba8f91d"
      },
      "outputs": [
        {
          "data": {
            "text/plain": [
              "<AxesSubplot:title={'center':'Histogram of latitude'}, ylabel='Frequency'>"
            ]
          },
          "execution_count": 19,
          "metadata": {},
          "output_type": "execute_result"
        },
        {
          "data": {
            "image/png": "[encoded data removed]",
            "text/plain": [
              "<Figure size 432x288 with 1 Axes>"
            ]
          },
          "metadata": {
            "needs_background": "light"
          },
          "output_type": "display_data"
        }
      ],
      "source": [
        "data_loc_2.lng.plot.hist(title='Histogram of latitude')"
      ]
    },
    {
      "cell_type": "markdown",
      "id": "c5786624",
      "metadata": {
        "id": "c5786624"
      },
      "source": [
        "The distribution is negatevely skewed, in fact most of the values are gathered in the right part of the plot. This means that the most visited places to take pictures for a post have latitude between 40 and 60."
      ]
    },
    {
      "cell_type": "code",
      "execution_count": null,
      "id": "77ef03e9",
      "metadata": {
        "id": "77ef03e9",
        "outputId": "318b9530-f822-4d06-bb10-bb6268204af6"
      },
      "outputs": [
        {
          "name": "stderr",
          "output_type": "stream",
          "text": [
            "7it [14:38, 125.49s/it]\n"
          ]
        }
      ],
      "source": [
        "import pandas as pd\n",
        "from tqdm import tqdm\n",
        "\n",
        "chunks = []\n",
        "for chunk in tqdm(pd.read_csv('~/instagram_posts.zip', delimiter='\\t', chunksize=7000000)):\n",
        "    chunks.append(chunk)"
      ]
    },
    {
      "cell_type": "code",
      "execution_count": null,
      "id": "522be88a",
      "metadata": {
        "id": "522be88a"
      },
      "outputs": [],
      "source": [
        "c1=chunks[0]\n",
        "c2=chunks[1]\n",
        "c3=chunks[2]\n",
        "c4=chunks[3]\n",
        "c5=chunks[4]\n",
        "c6=chunks[5]\n",
        "c7=chunks[6]"
      ]
    },
    {
      "cell_type": "code",
      "execution_count": null,
      "id": "74fe4b62",
      "metadata": {
        "id": "74fe4b62",
        "outputId": "1aeffc92-e701-4a80-9fef-aee18399a775"
      },
      "outputs": [
        {
          "data": {
            "text/html": [
              "<div>\n",
              "<style scoped>\n",
              "    .dataframe tbody tr th:only-of-type {\n",
              "        vertical-align: middle;\n",
              "    }\n",
              "\n",
              "    .dataframe tbody tr th {\n",
              "        vertical-align: top;\n",
              "    }\n",
              "\n",
              "    .dataframe thead th {\n",
              "        text-align: right;\n",
              "    }\n",
              "</style>\n",
              "<table border=\"1\" class=\"dataframe\">\n",
              "  <thead>\n",
              "    <tr style=\"text-align: right;\">\n",
              "      <th></th>\n",
              "      <th>sid</th>\n",
              "      <th>sid_profile</th>\n",
              "      <th>post_id</th>\n",
              "      <th>profile_id</th>\n",
              "      <th>location_id</th>\n",
              "      <th>cts</th>\n",
              "      <th>post_type</th>\n",
              "      <th>description</th>\n",
              "      <th>numbr_likes</th>\n",
              "      <th>number_comments</th>\n",
              "    </tr>\n",
              "  </thead>\n",
              "  <tbody>\n",
              "    <tr>\n",
              "      <th>0</th>\n",
              "      <td>28370919</td>\n",
              "      <td>3496776</td>\n",
              "      <td>BXdjjUlgcgq</td>\n",
              "      <td>2.237948e+09</td>\n",
              "      <td>1.022366e+15</td>\n",
              "      <td>2017-08-06 20:06:57.000</td>\n",
              "      <td>2</td>\n",
              "      <td>Wreckloose! Deevalley bike park laps on the @i...</td>\n",
              "      <td>80</td>\n",
              "      <td>0</td>\n",
              "    </tr>\n",
              "    <tr>\n",
              "      <th>1</th>\n",
              "      <td>28370932</td>\n",
              "      <td>-1</td>\n",
              "      <td>BVg0pbolYBC</td>\n",
              "      <td>5.579335e+09</td>\n",
              "      <td>4.574268e+14</td>\n",
              "      <td>2017-06-19 09:31:16.000</td>\n",
              "      <td>1</td>\n",
              "      <td>🙌🏼 believe in ya dreams 🙌🏼 just like I believe...</td>\n",
              "      <td>25</td>\n",
              "      <td>1</td>\n",
              "    </tr>\n",
              "    <tr>\n",
              "      <th>2</th>\n",
              "      <td>28370933</td>\n",
              "      <td>-1</td>\n",
              "      <td>BRgkjcXFp3Q</td>\n",
              "      <td>3.134296e+08</td>\n",
              "      <td>4.574268e+14</td>\n",
              "      <td>2017-03-11 20:05:03.000</td>\n",
              "      <td>1</td>\n",
              "      <td>#meraviglia #incensi #the #candele #profumo #a...</td>\n",
              "      <td>9</td>\n",
              "      <td>0</td>\n",
              "    </tr>\n",
              "    <tr>\n",
              "      <th>3</th>\n",
              "      <td>28370934</td>\n",
              "      <td>-1</td>\n",
              "      <td>BKTKeNhjEA7</td>\n",
              "      <td>1.837593e+09</td>\n",
              "      <td>4.574268e+14</td>\n",
              "      <td>2016-09-13 16:27:16.000</td>\n",
              "      <td>1</td>\n",
              "      <td>#teatime #scorpion #friends #love #mountains #...</td>\n",
              "      <td>4</td>\n",
              "      <td>0</td>\n",
              "    </tr>\n",
              "    <tr>\n",
              "      <th>4</th>\n",
              "      <td>28370935</td>\n",
              "      <td>-1</td>\n",
              "      <td>8-NQrvoYLX</td>\n",
              "      <td>1.131527e+09</td>\n",
              "      <td>4.574268e+14</td>\n",
              "      <td>2015-10-18 10:19:27.000</td>\n",
              "      <td>1</td>\n",
              "      <td>thE sky gavE mE a #constEllation</td>\n",
              "      <td>8</td>\n",
              "      <td>0</td>\n",
              "    </tr>\n",
              "  </tbody>\n",
              "</table>\n",
              "</div>"
            ],
            "text/plain": [
              "        sid  sid_profile      post_id    profile_id   location_id  \\\n",
              "0  28370919      3496776  BXdjjUlgcgq  2.237948e+09  1.022366e+15   \n",
              "1  28370932           -1  BVg0pbolYBC  5.579335e+09  4.574268e+14   \n",
              "2  28370933           -1  BRgkjcXFp3Q  3.134296e+08  4.574268e+14   \n",
              "3  28370934           -1  BKTKeNhjEA7  1.837593e+09  4.574268e+14   \n",
              "4  28370935           -1   8-NQrvoYLX  1.131527e+09  4.574268e+14   \n",
              "\n",
              "                       cts  post_type  \\\n",
              "0  2017-08-06 20:06:57.000          2   \n",
              "1  2017-06-19 09:31:16.000          1   \n",
              "2  2017-03-11 20:05:03.000          1   \n",
              "3  2016-09-13 16:27:16.000          1   \n",
              "4  2015-10-18 10:19:27.000          1   \n",
              "\n",
              "                                         description  numbr_likes  \\\n",
              "0  Wreckloose! Deevalley bike park laps on the @i...           80   \n",
              "1  🙌🏼 believe in ya dreams 🙌🏼 just like I believe...           25   \n",
              "2  #meraviglia #incensi #the #candele #profumo #a...            9   \n",
              "3  #teatime #scorpion #friends #love #mountains #...            4   \n",
              "4                   thE sky gavE mE a #constEllation            8   \n",
              "\n",
              "   number_comments  \n",
              "0                0  \n",
              "1                1  \n",
              "2                0  \n",
              "3                0  \n",
              "4                0  "
            ]
          },
          "execution_count": 22,
          "metadata": {},
          "output_type": "execute_result"
        }
      ],
      "source": [
        "c1.head()"
      ]
    },
    {
      "cell_type": "code",
      "execution_count": null,
      "id": "fb64a2c2",
      "metadata": {
        "id": "fb64a2c2",
        "outputId": "9ecef020-95b0-4912-885b-678fae244b2d"
      },
      "outputs": [
        {
          "data": {
            "text/html": [
              "<div>\n",
              "<style scoped>\n",
              "    .dataframe tbody tr th:only-of-type {\n",
              "        vertical-align: middle;\n",
              "    }\n",
              "\n",
              "    .dataframe tbody tr th {\n",
              "        vertical-align: top;\n",
              "    }\n",
              "\n",
              "    .dataframe thead th {\n",
              "        text-align: right;\n",
              "    }\n",
              "</style>\n",
              "<table border=\"1\" class=\"dataframe\">\n",
              "  <thead>\n",
              "    <tr style=\"text-align: right;\">\n",
              "      <th></th>\n",
              "      <th>sid</th>\n",
              "      <th>sid_profile</th>\n",
              "      <th>post_id</th>\n",
              "      <th>profile_id</th>\n",
              "      <th>location_id</th>\n",
              "      <th>cts</th>\n",
              "      <th>post_type</th>\n",
              "      <th>description</th>\n",
              "      <th>numbr_likes</th>\n",
              "      <th>number_comments</th>\n",
              "    </tr>\n",
              "  </thead>\n",
              "  <tbody>\n",
              "    <tr>\n",
              "      <th>6999995</th>\n",
              "      <td>35663441</td>\n",
              "      <td>-1</td>\n",
              "      <td>ByK_D9di2qU</td>\n",
              "      <td>3.581190e+08</td>\n",
              "      <td>9163114.0</td>\n",
              "      <td>2019-06-01 17:09:24.000</td>\n",
              "      <td>1</td>\n",
              "      <td>26!</td>\n",
              "      <td>55</td>\n",
              "      <td>8</td>\n",
              "    </tr>\n",
              "    <tr>\n",
              "      <th>6999996</th>\n",
              "      <td>35663442</td>\n",
              "      <td>-1</td>\n",
              "      <td>ByIfEUWCIYz</td>\n",
              "      <td>1.037777e+07</td>\n",
              "      <td>9163114.0</td>\n",
              "      <td>2019-05-31 17:51:21.000</td>\n",
              "      <td>1</td>\n",
              "      <td>NaN</td>\n",
              "      <td>5</td>\n",
              "      <td>0</td>\n",
              "    </tr>\n",
              "    <tr>\n",
              "      <th>6999997</th>\n",
              "      <td>35663443</td>\n",
              "      <td>-1</td>\n",
              "      <td>ByGCNaxoXLM</td>\n",
              "      <td>5.425843e+09</td>\n",
              "      <td>9163114.0</td>\n",
              "      <td>2019-05-30 19:00:42.000</td>\n",
              "      <td>1</td>\n",
              "      <td>#vermouth #tonkabean #kirche</td>\n",
              "      <td>20</td>\n",
              "      <td>0</td>\n",
              "    </tr>\n",
              "    <tr>\n",
              "      <th>6999998</th>\n",
              "      <td>35663444</td>\n",
              "      <td>-1</td>\n",
              "      <td>ByF9T-jorul</td>\n",
              "      <td>8.443139e+09</td>\n",
              "      <td>9163114.0</td>\n",
              "      <td>2019-05-30 18:17:54.000</td>\n",
              "      <td>1</td>\n",
              "      <td>#memories #birthday #notjung #happytime #ihave...</td>\n",
              "      <td>32</td>\n",
              "      <td>0</td>\n",
              "    </tr>\n",
              "    <tr>\n",
              "      <th>6999999</th>\n",
              "      <td>35663491</td>\n",
              "      <td>-1</td>\n",
              "      <td>BvMc7sHneMi</td>\n",
              "      <td>2.264302e+09</td>\n",
              "      <td>1284923.0</td>\n",
              "      <td>2019-03-19 16:15:28.000</td>\n",
              "      <td>1</td>\n",
              "      <td>Waiting to exhale 🦋</td>\n",
              "      <td>8</td>\n",
              "      <td>0</td>\n",
              "    </tr>\n",
              "  </tbody>\n",
              "</table>\n",
              "</div>"
            ],
            "text/plain": [
              "              sid  sid_profile      post_id    profile_id  location_id  \\\n",
              "6999995  35663441           -1  ByK_D9di2qU  3.581190e+08    9163114.0   \n",
              "6999996  35663442           -1  ByIfEUWCIYz  1.037777e+07    9163114.0   \n",
              "6999997  35663443           -1  ByGCNaxoXLM  5.425843e+09    9163114.0   \n",
              "6999998  35663444           -1  ByF9T-jorul  8.443139e+09    9163114.0   \n",
              "6999999  35663491           -1  BvMc7sHneMi  2.264302e+09    1284923.0   \n",
              "\n",
              "                             cts  post_type  \\\n",
              "6999995  2019-06-01 17:09:24.000          1   \n",
              "6999996  2019-05-31 17:51:21.000          1   \n",
              "6999997  2019-05-30 19:00:42.000          1   \n",
              "6999998  2019-05-30 18:17:54.000          1   \n",
              "6999999  2019-03-19 16:15:28.000          1   \n",
              "\n",
              "                                               description  numbr_likes  \\\n",
              "6999995                                                26!           55   \n",
              "6999996                                                NaN            5   \n",
              "6999997                       #vermouth #tonkabean #kirche           20   \n",
              "6999998  #memories #birthday #notjung #happytime #ihave...           32   \n",
              "6999999                                Waiting to exhale 🦋            8   \n",
              "\n",
              "         number_comments  \n",
              "6999995                8  \n",
              "6999996                0  \n",
              "6999997                0  \n",
              "6999998                0  \n",
              "6999999                0  "
            ]
          },
          "execution_count": 23,
          "metadata": {},
          "output_type": "execute_result"
        }
      ],
      "source": [
        "c1.tail()"
      ]
    },
    {
      "cell_type": "code",
      "execution_count": null,
      "id": "62f8af7b",
      "metadata": {
        "id": "62f8af7b",
        "outputId": "13065838-4e8d-4480-b760-0863c1d2a1fa"
      },
      "outputs": [
        {
          "data": {
            "text/html": [
              "<div>\n",
              "<style scoped>\n",
              "    .dataframe tbody tr th:only-of-type {\n",
              "        vertical-align: middle;\n",
              "    }\n",
              "\n",
              "    .dataframe tbody tr th {\n",
              "        vertical-align: top;\n",
              "    }\n",
              "\n",
              "    .dataframe thead th {\n",
              "        text-align: right;\n",
              "    }\n",
              "</style>\n",
              "<table border=\"1\" class=\"dataframe\">\n",
              "  <thead>\n",
              "    <tr style=\"text-align: right;\">\n",
              "      <th></th>\n",
              "      <th>sid</th>\n",
              "      <th>sid_profile</th>\n",
              "      <th>post_id</th>\n",
              "      <th>profile_id</th>\n",
              "      <th>location_id</th>\n",
              "      <th>cts</th>\n",
              "      <th>post_type</th>\n",
              "      <th>description</th>\n",
              "      <th>numbr_likes</th>\n",
              "      <th>number_comments</th>\n",
              "    </tr>\n",
              "  </thead>\n",
              "  <tbody>\n",
              "    <tr>\n",
              "      <th>42000000</th>\n",
              "      <td>27633544</td>\n",
              "      <td>2450940</td>\n",
              "      <td>BxjXT1RgAlt</td>\n",
              "      <td>2.087809e+09</td>\n",
              "      <td>1.018013e+09</td>\n",
              "      <td>2019-05-17 07:51:40.000</td>\n",
              "      <td>1</td>\n",
              "      <td>|Light Kitten Hybrid Lashes|🦋🌱🌸 by Besa .\\n.\\n...</td>\n",
              "      <td>34</td>\n",
              "      <td>0</td>\n",
              "    </tr>\n",
              "    <tr>\n",
              "      <th>42000001</th>\n",
              "      <td>27633545</td>\n",
              "      <td>2450940</td>\n",
              "      <td>BxjM93vA82C</td>\n",
              "      <td>2.087809e+09</td>\n",
              "      <td>1.018013e+09</td>\n",
              "      <td>2019-05-17 06:21:17.000</td>\n",
              "      <td>1</td>\n",
              "      <td>|BASICS| matte sparkly maroon 🔮 .\\n.\\n.\\n.\\n.\\...</td>\n",
              "      <td>53</td>\n",
              "      <td>0</td>\n",
              "    </tr>\n",
              "    <tr>\n",
              "      <th>42000002</th>\n",
              "      <td>27633546</td>\n",
              "      <td>2450940</td>\n",
              "      <td>Bxi9dwSAD9h</td>\n",
              "      <td>2.087809e+09</td>\n",
              "      <td>1.018013e+09</td>\n",
              "      <td>2019-05-17 04:05:49.000</td>\n",
              "      <td>1</td>\n",
              "      <td>EXTRA LONG FRENCH OMBRÉ 🌸🎀 .\\n.\\n.\\n.\\n.\\n#kit...</td>\n",
              "      <td>93</td>\n",
              "      <td>3</td>\n",
              "    </tr>\n",
              "    <tr>\n",
              "      <th>42000003</th>\n",
              "      <td>27633547</td>\n",
              "      <td>2450940</td>\n",
              "      <td>BxhBGAgAVeX</td>\n",
              "      <td>2.087809e+09</td>\n",
              "      <td>1.018013e+09</td>\n",
              "      <td>2019-05-16 09:59:03.000</td>\n",
              "      <td>1</td>\n",
              "      <td>|MEGA LIONESS HYBRIDS + HENNA BROWS| the perfe...</td>\n",
              "      <td>38</td>\n",
              "      <td>0</td>\n",
              "    </tr>\n",
              "    <tr>\n",
              "      <th>42000004</th>\n",
              "      <td>27633548</td>\n",
              "      <td>2450940</td>\n",
              "      <td>BxgaJq2gxLS</td>\n",
              "      <td>2.087809e+09</td>\n",
              "      <td>1.018013e+09</td>\n",
              "      <td>2019-05-16 04:18:46.000</td>\n",
              "      <td>1</td>\n",
              "      <td>|MEGA RUSSIAN VOLUME| 5D-10D hand made fans to...</td>\n",
              "      <td>31</td>\n",
              "      <td>1</td>\n",
              "    </tr>\n",
              "  </tbody>\n",
              "</table>\n",
              "</div>"
            ],
            "text/plain": [
              "               sid  sid_profile      post_id    profile_id   location_id  \\\n",
              "42000000  27633544      2450940  BxjXT1RgAlt  2.087809e+09  1.018013e+09   \n",
              "42000001  27633545      2450940  BxjM93vA82C  2.087809e+09  1.018013e+09   \n",
              "42000002  27633546      2450940  Bxi9dwSAD9h  2.087809e+09  1.018013e+09   \n",
              "42000003  27633547      2450940  BxhBGAgAVeX  2.087809e+09  1.018013e+09   \n",
              "42000004  27633548      2450940  BxgaJq2gxLS  2.087809e+09  1.018013e+09   \n",
              "\n",
              "                              cts  post_type  \\\n",
              "42000000  2019-05-17 07:51:40.000          1   \n",
              "42000001  2019-05-17 06:21:17.000          1   \n",
              "42000002  2019-05-17 04:05:49.000          1   \n",
              "42000003  2019-05-16 09:59:03.000          1   \n",
              "42000004  2019-05-16 04:18:46.000          1   \n",
              "\n",
              "                                                description  numbr_likes  \\\n",
              "42000000  |Light Kitten Hybrid Lashes|🦋🌱🌸 by Besa .\\n.\\n...           34   \n",
              "42000001  |BASICS| matte sparkly maroon 🔮 .\\n.\\n.\\n.\\n.\\...           53   \n",
              "42000002  EXTRA LONG FRENCH OMBRÉ 🌸🎀 .\\n.\\n.\\n.\\n.\\n#kit...           93   \n",
              "42000003  |MEGA LIONESS HYBRIDS + HENNA BROWS| the perfe...           38   \n",
              "42000004  |MEGA RUSSIAN VOLUME| 5D-10D hand made fans to...           31   \n",
              "\n",
              "          number_comments  \n",
              "42000000                0  \n",
              "42000001                0  \n",
              "42000002                3  \n",
              "42000003                0  \n",
              "42000004                1  "
            ]
          },
          "execution_count": 25,
          "metadata": {},
          "output_type": "execute_result"
        }
      ],
      "source": [
        "c7.head()"
      ]
    },
    {
      "cell_type": "code",
      "execution_count": null,
      "id": "2cb24620",
      "metadata": {
        "id": "2cb24620",
        "outputId": "5b6e0810-89b7-4e74-965d-ea0b25af8a61"
      },
      "outputs": [
        {
          "data": {
            "text/html": [
              "<div>\n",
              "<style scoped>\n",
              "    .dataframe tbody tr th:only-of-type {\n",
              "        vertical-align: middle;\n",
              "    }\n",
              "\n",
              "    .dataframe tbody tr th {\n",
              "        vertical-align: top;\n",
              "    }\n",
              "\n",
              "    .dataframe thead th {\n",
              "        text-align: right;\n",
              "    }\n",
              "</style>\n",
              "<table border=\"1\" class=\"dataframe\">\n",
              "  <thead>\n",
              "    <tr style=\"text-align: right;\">\n",
              "      <th></th>\n",
              "      <th>sid</th>\n",
              "      <th>sid_profile</th>\n",
              "      <th>post_id</th>\n",
              "      <th>profile_id</th>\n",
              "      <th>location_id</th>\n",
              "      <th>cts</th>\n",
              "      <th>post_type</th>\n",
              "      <th>description</th>\n",
              "      <th>numbr_likes</th>\n",
              "      <th>number_comments</th>\n",
              "    </tr>\n",
              "  </thead>\n",
              "  <tbody>\n",
              "    <tr>\n",
              "      <th>42710192</th>\n",
              "      <td>28370925</td>\n",
              "      <td>-1</td>\n",
              "      <td>BcpWMWGBfxh</td>\n",
              "      <td>5.556457e+09</td>\n",
              "      <td>4.574268e+14</td>\n",
              "      <td>2017-12-13 15:38:04.000</td>\n",
              "      <td>1</td>\n",
              "      <td>Mm not bad but not so pretty😕\\n#puthtroop#puth...</td>\n",
              "      <td>74</td>\n",
              "      <td>0</td>\n",
              "    </tr>\n",
              "    <tr>\n",
              "      <th>42710193</th>\n",
              "      <td>28370926</td>\n",
              "      <td>-1</td>\n",
              "      <td>Ba6LZWwlCl8</td>\n",
              "      <td>3.371865e+08</td>\n",
              "      <td>4.574268e+14</td>\n",
              "      <td>2017-10-31 11:28:01.000</td>\n",
              "      <td>1</td>\n",
              "      <td>🌸🌺</td>\n",
              "      <td>49</td>\n",
              "      <td>0</td>\n",
              "    </tr>\n",
              "    <tr>\n",
              "      <th>42710194</th>\n",
              "      <td>28370929</td>\n",
              "      <td>-1</td>\n",
              "      <td>BPN0kM1hYUw</td>\n",
              "      <td>3.289886e+09</td>\n",
              "      <td>4.574268e+14</td>\n",
              "      <td>2017-01-13 20:16:37.000</td>\n",
              "      <td>1</td>\n",
              "      <td>#pasanlosaños #creweedrepresent  #SlgFamily</td>\n",
              "      <td>18</td>\n",
              "      <td>0</td>\n",
              "    </tr>\n",
              "    <tr>\n",
              "      <th>42710195</th>\n",
              "      <td>28370997</td>\n",
              "      <td>-1</td>\n",
              "      <td>BxsZ8nDBr-L</td>\n",
              "      <td>8.536366e+09</td>\n",
              "      <td>4.267235e+06</td>\n",
              "      <td>2019-05-20 20:07:52.000</td>\n",
              "      <td>1</td>\n",
              "      <td>Estão se divertindo?</td>\n",
              "      <td>27</td>\n",
              "      <td>1</td>\n",
              "    </tr>\n",
              "    <tr>\n",
              "      <th>42710196</th>\n",
              "      <td>28370928</td>\n",
              "      <td>3972555</td>\n",
              "      <td>BgNJ4EzHQwQ</td>\n",
              "      <td>2.219100e+09</td>\n",
              "      <td>4.574268e+14</td>\n",
              "      <td>2018-03-12 02:57:17.000</td>\n",
              "      <td>1</td>\n",
              "      <td>Para que só aparecer se você pode brilhar?! 🐶✨...</td>\n",
              "      <td>1824</td>\n",
              "      <td>49</td>\n",
              "    </tr>\n",
              "  </tbody>\n",
              "</table>\n",
              "</div>"
            ],
            "text/plain": [
              "               sid  sid_profile      post_id    profile_id   location_id  \\\n",
              "42710192  28370925           -1  BcpWMWGBfxh  5.556457e+09  4.574268e+14   \n",
              "42710193  28370926           -1  Ba6LZWwlCl8  3.371865e+08  4.574268e+14   \n",
              "42710194  28370929           -1  BPN0kM1hYUw  3.289886e+09  4.574268e+14   \n",
              "42710195  28370997           -1  BxsZ8nDBr-L  8.536366e+09  4.267235e+06   \n",
              "42710196  28370928      3972555  BgNJ4EzHQwQ  2.219100e+09  4.574268e+14   \n",
              "\n",
              "                              cts  post_type  \\\n",
              "42710192  2017-12-13 15:38:04.000          1   \n",
              "42710193  2017-10-31 11:28:01.000          1   \n",
              "42710194  2017-01-13 20:16:37.000          1   \n",
              "42710195  2019-05-20 20:07:52.000          1   \n",
              "42710196  2018-03-12 02:57:17.000          1   \n",
              "\n",
              "                                                description  numbr_likes  \\\n",
              "42710192  Mm not bad but not so pretty😕\\n#puthtroop#puth...           74   \n",
              "42710193                                                 🌸🌺           49   \n",
              "42710194        #pasanlosaños #creweedrepresent  #SlgFamily           18   \n",
              "42710195                               Estão se divertindo?           27   \n",
              "42710196  Para que só aparecer se você pode brilhar?! 🐶✨...         1824   \n",
              "\n",
              "          number_comments  \n",
              "42710192                0  \n",
              "42710193                0  \n",
              "42710194                0  \n",
              "42710195                1  \n",
              "42710196               49  "
            ]
          },
          "execution_count": 26,
          "metadata": {},
          "output_type": "execute_result"
        }
      ],
      "source": [
        "c7.tail()"
      ]
    },
    {
      "cell_type": "code",
      "execution_count": null,
      "id": "02179da2",
      "metadata": {
        "id": "02179da2",
        "outputId": "8b7b0c60-a2ba-44f5-e5df-98db46846bd9"
      },
      "outputs": [
        {
          "name": "stdout",
          "output_type": "stream",
          "text": [
            "<class 'pandas.core.frame.DataFrame'>\n",
            "RangeIndex: 7000000 entries, 0 to 6999999\n",
            "Data columns (total 10 columns):\n",
            " #   Column           Dtype  \n",
            "---  ------           -----  \n",
            " 0   sid              int64  \n",
            " 1   sid_profile      int64  \n",
            " 2   post_id          object \n",
            " 3   profile_id       float64\n",
            " 4   location_id      float64\n",
            " 5   cts              object \n",
            " 6   post_type        int64  \n",
            " 7   description      object \n",
            " 8   numbr_likes      int64  \n",
            " 9   number_comments  int64  \n",
            "dtypes: float64(2), int64(5), object(3)\n",
            "memory usage: 534.1+ MB\n"
          ]
        }
      ],
      "source": [
        "c1.info()"
      ]
    },
    {
      "cell_type": "markdown",
      "id": "49bef12f",
      "metadata": {
        "id": "49bef12f"
      },
      "source": [
        "Because of the size of the dataframe, we decided to split it into 7 chunks. Each chunk has 7000000 of units and 10 variables (7 quantitative and 3 qualitative)"
      ]
    },
    {
      "cell_type": "code",
      "execution_count": null,
      "id": "0d54049f",
      "metadata": {
        "id": "0d54049f",
        "outputId": "512fbf56-0274-4f70-fb36-273a98471f14"
      },
      "outputs": [
        {
          "name": "stdout",
          "output_type": "stream",
          "text": [
            "sid                     0\n",
            "sid_profile             0\n",
            "post_id                 0\n",
            "profile_id            137\n",
            "location_id          8057\n",
            "cts                     0\n",
            "post_type               0\n",
            "description        583617\n",
            "numbr_likes             0\n",
            "number_comments         0\n",
            "dtype: int64\n",
            "sid                      0\n",
            "sid_profile              0\n",
            "post_id                  0\n",
            "profile_id           46056\n",
            "location_id        1427353\n",
            "cts                      0\n",
            "post_type                0\n",
            "description         612557\n",
            "numbr_likes              0\n",
            "number_comments          0\n",
            "dtype: int64\n",
            "sid                      0\n",
            "sid_profile              0\n",
            "post_id                  0\n",
            "profile_id         2491113\n",
            "location_id        3426971\n",
            "cts                   3332\n",
            "post_type                0\n",
            "description         540944\n",
            "numbr_likes             36\n",
            "number_comments         36\n",
            "dtype: int64\n",
            "sid                      0\n",
            "sid_profile              0\n",
            "post_id                  0\n",
            "profile_id           25805\n",
            "location_id        3557316\n",
            "cts                      0\n",
            "post_type                0\n",
            "description         721460\n",
            "numbr_likes              0\n",
            "number_comments          0\n",
            "dtype: int64\n",
            "sid                      0\n",
            "sid_profile              0\n",
            "post_id                  0\n",
            "profile_id           19794\n",
            "location_id        3060263\n",
            "cts                      0\n",
            "post_type                0\n",
            "description         767121\n",
            "numbr_likes              0\n",
            "number_comments          0\n",
            "dtype: int64\n",
            "sid                      0\n",
            "sid_profile              0\n",
            "post_id                  0\n",
            "profile_id             385\n",
            "location_id        1491133\n",
            "cts                      0\n",
            "post_type                0\n",
            "description         712079\n",
            "numbr_likes              0\n",
            "number_comments          0\n",
            "dtype: int64\n",
            "sid                    0\n",
            "sid_profile            0\n",
            "post_id                0\n",
            "profile_id             2\n",
            "location_id         1679\n",
            "cts                    0\n",
            "post_type              0\n",
            "description        57630\n",
            "numbr_likes            0\n",
            "number_comments        0\n",
            "dtype: int64\n"
          ]
        }
      ],
      "source": [
        "for chunk in chunks:\n",
        "    print (chunk.isnull().sum())\n"
      ]
    },
    {
      "cell_type": "code",
      "execution_count": null,
      "id": "cb10936b",
      "metadata": {
        "id": "cb10936b"
      },
      "outputs": [],
      "source": [
        "c1_2=c1.copy()\n",
        "c2_2=c2.copy()\n",
        "c3_2=c3.copy()\n",
        "c4_2=c4.copy()\n",
        "c5_2=c5.copy()\n",
        "c6_2=c6.copy()\n",
        "c7_2=c7.copy()"
      ]
    },
    {
      "cell_type": "code",
      "execution_count": null,
      "id": "dd0e3443",
      "metadata": {
        "id": "dd0e3443"
      },
      "outputs": [],
      "source": [
        "c1_2.description.fillna('', inplace=True)\n",
        "c1_2.profile_id.fillna(-1, inplace=True)\n",
        "c1_2.location_id.fillna(-1, inplace=True)"
      ]
    },
    {
      "cell_type": "code",
      "execution_count": null,
      "id": "834eee31",
      "metadata": {
        "id": "834eee31",
        "outputId": "76c17a06-7a0f-4406-e53a-4399b1609211"
      },
      "outputs": [
        {
          "data": {
            "text/plain": [
              "sid                0\n",
              "sid_profile        0\n",
              "post_id            0\n",
              "profile_id         0\n",
              "location_id        0\n",
              "cts                0\n",
              "post_type          0\n",
              "description        0\n",
              "numbr_likes        0\n",
              "number_comments    0\n",
              "dtype: int64"
            ]
          },
          "execution_count": 35,
          "metadata": {},
          "output_type": "execute_result"
        }
      ],
      "source": [
        "c1_2.isnull().sum()"
      ]
    },
    {
      "cell_type": "code",
      "execution_count": null,
      "id": "a4c82981",
      "metadata": {
        "id": "a4c82981"
      },
      "outputs": [],
      "source": [
        "c2_2.description.fillna('', inplace=True)\n",
        "c2_2.profile_id.fillna(-1, inplace=True)\n",
        "c2_2.location_id.fillna(-1, inplace=True)"
      ]
    },
    {
      "cell_type": "code",
      "execution_count": null,
      "id": "e456091b",
      "metadata": {
        "id": "e456091b"
      },
      "outputs": [],
      "source": [
        "c3_2.description.fillna('', inplace=True)\n",
        "c3_2.profile_id.fillna(-1, inplace=True)\n",
        "c3_2.location_id.fillna(-1, inplace=True)\n",
        "c3_2.cts.fillna('', inplace=True)"
      ]
    },
    {
      "cell_type": "code",
      "execution_count": null,
      "id": "af55169e",
      "metadata": {
        "id": "af55169e"
      },
      "outputs": [],
      "source": [
        "c3_2 = c3_2.dropna()"
      ]
    },
    {
      "cell_type": "code",
      "execution_count": null,
      "id": "96af09ca",
      "metadata": {
        "id": "96af09ca",
        "outputId": "221409d1-7ca8-4a50-c7b6-f085fd1a5204"
      },
      "outputs": [
        {
          "data": {
            "text/plain": [
              "sid                0\n",
              "sid_profile        0\n",
              "post_id            0\n",
              "profile_id         0\n",
              "location_id        0\n",
              "cts                0\n",
              "post_type          0\n",
              "description        0\n",
              "numbr_likes        0\n",
              "number_comments    0\n",
              "dtype: int64"
            ]
          },
          "execution_count": 42,
          "metadata": {},
          "output_type": "execute_result"
        }
      ],
      "source": [
        "c3_2.isnull().sum()"
      ]
    },
    {
      "cell_type": "code",
      "execution_count": null,
      "id": "87fd4470",
      "metadata": {
        "id": "87fd4470"
      },
      "outputs": [],
      "source": [
        "c4_2.description.fillna('', inplace=True)\n",
        "c4_2.profile_id.fillna(-1, inplace=True)\n",
        "c4_2.location_id.fillna(-1, inplace=True)"
      ]
    },
    {
      "cell_type": "code",
      "execution_count": null,
      "id": "ff70e59a",
      "metadata": {
        "id": "ff70e59a"
      },
      "outputs": [],
      "source": [
        "c5_2.description.fillna('', inplace=True)\n",
        "c5_2.profile_id.fillna(-1, inplace=True)\n",
        "c5_2.location_id.fillna(-1, inplace=True)"
      ]
    },
    {
      "cell_type": "code",
      "execution_count": null,
      "id": "a6c8653c",
      "metadata": {
        "id": "a6c8653c"
      },
      "outputs": [],
      "source": [
        "c6_2.description.fillna('', inplace=True)\n",
        "c6_2.profile_id.fillna(-1, inplace=True)\n",
        "c6_2.location_id.fillna(-1, inplace=True)"
      ]
    },
    {
      "cell_type": "code",
      "execution_count": null,
      "id": "68fa554f",
      "metadata": {
        "id": "68fa554f"
      },
      "outputs": [],
      "source": [
        "c7_2.description.fillna('', inplace=True)\n",
        "c7_2.profile_id.fillna(-1, inplace=True)\n",
        "c7_2.location_id.fillna(-1, inplace=True)"
      ]
    },
    {
      "cell_type": "code",
      "execution_count": null,
      "id": "d20f0fb5",
      "metadata": {
        "id": "d20f0fb5",
        "outputId": "d6c58051-d44c-4d7c-b793-6c3a320d2859"
      },
      "outputs": [
        {
          "name": "stdout",
          "output_type": "stream",
          "text": [
            "sid                0\n",
            "sid_profile        0\n",
            "post_id            0\n",
            "profile_id         0\n",
            "location_id        0\n",
            "cts                0\n",
            "post_type          0\n",
            "description        0\n",
            "numbr_likes        0\n",
            "number_comments    0\n",
            "dtype: int64\n",
            "sid                0\n",
            "sid_profile        0\n",
            "post_id            0\n",
            "profile_id         0\n",
            "location_id        0\n",
            "cts                0\n",
            "post_type          0\n",
            "description        0\n",
            "numbr_likes        0\n",
            "number_comments    0\n",
            "dtype: int64\n",
            "sid                0\n",
            "sid_profile        0\n",
            "post_id            0\n",
            "profile_id         0\n",
            "location_id        0\n",
            "cts                0\n",
            "post_type          0\n",
            "description        0\n",
            "numbr_likes        0\n",
            "number_comments    0\n",
            "dtype: int64\n",
            "sid                0\n",
            "sid_profile        0\n",
            "post_id            0\n",
            "profile_id         0\n",
            "location_id        0\n",
            "cts                0\n",
            "post_type          0\n",
            "description        0\n",
            "numbr_likes        0\n",
            "number_comments    0\n",
            "dtype: int64\n",
            "sid                0\n",
            "sid_profile        0\n",
            "post_id            0\n",
            "profile_id         0\n",
            "location_id        0\n",
            "cts                0\n",
            "post_type          0\n",
            "description        0\n",
            "numbr_likes        0\n",
            "number_comments    0\n",
            "dtype: int64\n",
            "sid                0\n",
            "sid_profile        0\n",
            "post_id            0\n",
            "profile_id         0\n",
            "location_id        0\n",
            "cts                0\n",
            "post_type          0\n",
            "description        0\n",
            "numbr_likes        0\n",
            "number_comments    0\n",
            "dtype: int64\n",
            "sid                0\n",
            "sid_profile        0\n",
            "post_id            0\n",
            "profile_id         0\n",
            "location_id        0\n",
            "cts                0\n",
            "post_type          0\n",
            "description        0\n",
            "numbr_likes        0\n",
            "number_comments    0\n",
            "dtype: int64\n"
          ]
        }
      ],
      "source": [
        "chunks_2=[c1_2, c2_2, c3_2, c4_2, c5_2, c6_2, c7_2]\n",
        "\n",
        "for chunk in chunks_2:\n",
        "    print(chunk.isnull().sum())"
      ]
    },
    {
      "cell_type": "markdown",
      "id": "f3739114",
      "metadata": {
        "id": "f3739114"
      },
      "source": [
        "We decided to replace description and cts null values with empty strings, and we repleced location_id and profile_id null values with -1. This is beacause we can recognize the profile by the variable sid_profile, that doesn't have null values, so it wouldn't make sense to delete the entire raws beacause of the absence of the profile_id, and also because there are too much absence of location_id values to delete all the raws with null values of that variable"
      ]
    },
    {
      "cell_type": "code",
      "execution_count": null,
      "id": "e5164252",
      "metadata": {
        "id": "e5164252",
        "outputId": "12d39689-d12f-4a11-cbbe-4926773b609a"
      },
      "outputs": [
        {
          "name": "stdout",
          "output_type": "stream",
          "text": [
            "number of outliers of lat variable: 653620\n",
            "max outlier value of lat variable: 3586546\n",
            "min outlier value of lat variable: 280\n"
          ]
        },
        {
          "data": {
            "text/plain": [
              "<AxesSubplot:>"
            ]
          },
          "execution_count": 50,
          "metadata": {},
          "output_type": "execute_result"
        },
        {
          "data": {
            "image/png": "[encoded data removed]",
            "text/plain": [
              "<Figure size 432x288 with 1 Axes>"
            ]
          },
          "metadata": {
            "needs_background": "light"
          },
          "output_type": "display_data"
        }
      ],
      "source": [
        "out_likes1 = find_outliers_IQR(c1_2['numbr_likes'])\n",
        "print('number of outliers of numbr_likes variable: '+ str(len(out_likes1)))\n",
        "print('max outlier value of numbr_likes variable: '+ str(out_likes1.max()))\n",
        "print('min outlier value of numbr_likes variable: '+ str(out_likes1.min()))\n",
        "\n",
        "c1_2.boxplot(column = ['numbr_likes'])"
      ]
    },
    {
      "cell_type": "code",
      "execution_count": null,
      "id": "c134ef7a",
      "metadata": {
        "id": "c134ef7a",
        "outputId": "4e934881-70d5-4d66-8d29-654c0b6e906d"
      },
      "outputs": [
        {
          "name": "stdout",
          "output_type": "stream",
          "text": [
            "number of outliers of number_comments variable: 706708\n",
            "max outlier value of number_comments variable: 180635\n",
            "min outlier value of number_comments variable: 13\n"
          ]
        },
        {
          "data": {
            "text/plain": [
              "<AxesSubplot:>"
            ]
          },
          "execution_count": 52,
          "metadata": {},
          "output_type": "execute_result"
        },
        {
          "data": {
            "image/png": "[encoded data removed]",
            "text/plain": [
              "<Figure size 432x288 with 1 Axes>"
            ]
          },
          "metadata": {
            "needs_background": "light"
          },
          "output_type": "display_data"
        }
      ],
      "source": [
        "out_comments1 = find_outliers_IQR(c1_2['number_comments'])\n",
        "print('number of outliers of number_comments variable: '+ str(len(out_comments1)))\n",
        "print('max outlier value of number_comments variable: '+ str(out_comments1.max()))\n",
        "print('min outlier value of number_comments variable: '+ str(out_comments1.min()))\n",
        "\n",
        "c1_2.boxplot(column = ['number_comments'])"
      ]
    },
    {
      "cell_type": "code",
      "execution_count": null,
      "id": "02a26872",
      "metadata": {
        "id": "02a26872",
        "outputId": "f71672ec-a0f2-49c7-8368-1f13d212eeeb"
      },
      "outputs": [
        {
          "name": "stdout",
          "output_type": "stream",
          "text": [
            "number of outliers of numbr_likes variable: 688858\n",
            "max outlier value of numbr_likes variable: 2616479\n",
            "min outlier value of numbr_likes variable: 278\n"
          ]
        },
        {
          "data": {
            "text/plain": [
              "<AxesSubplot:>"
            ]
          },
          "execution_count": 53,
          "metadata": {},
          "output_type": "execute_result"
        },
        {
          "data": {
            "image/png": "[encoded data removed]",
            "text/plain": [
              "<Figure size 432x288 with 1 Axes>"
            ]
          },
          "metadata": {
            "needs_background": "light"
          },
          "output_type": "display_data"
        }
      ],
      "source": [
        "out_likes2 = find_outliers_IQR(c2_2['numbr_likes'])\n",
        "print('number of outliers of numbr_likes variable: '+ str(len(out_likes2)))\n",
        "print('max outlier value of numbr_likes variable: '+ str(out_likes2.max()))\n",
        "print('min outlier value of numbr_likes variable: '+ str(out_likes2.min()))\n",
        "\n",
        "c2_2.boxplot(column = ['numbr_likes'])"
      ]
    },
    {
      "cell_type": "code",
      "execution_count": null,
      "id": "de1aa5b9",
      "metadata": {
        "id": "de1aa5b9",
        "outputId": "5e01ed14-badd-49df-8214-02c47ffc5726"
      },
      "outputs": [
        {
          "name": "stdout",
          "output_type": "stream",
          "text": [
            "number of outliers of number_comments variable: 706986\n",
            "max outlier value of number_comments variable: 313997\n",
            "min outlier value of number_comments variable: 13\n"
          ]
        },
        {
          "data": {
            "text/plain": [
              "<AxesSubplot:>"
            ]
          },
          "execution_count": 54,
          "metadata": {},
          "output_type": "execute_result"
        },
        {
          "data": {
            "image/png": "[encoded data removed]",
            "text/plain": [
              "<Figure size 432x288 with 1 Axes>"
            ]
          },
          "metadata": {
            "needs_background": "light"
          },
          "output_type": "display_data"
        }
      ],
      "source": [
        "out_comments2 = find_outliers_IQR(c2_2['number_comments'])\n",
        "print('number of outliers of number_comments variable: '+ str(len(out_comments2)))\n",
        "print('max outlier value of number_comments variable: '+ str(out_comments2.max()))\n",
        "print('min outlier value of number_comments variable: '+ str(out_comments2.min()))\n",
        "\n",
        "c2_2.boxplot(column = ['number_comments'])"
      ]
    },
    {
      "cell_type": "code",
      "execution_count": null,
      "id": "4e8163ff",
      "metadata": {
        "id": "4e8163ff",
        "outputId": "b5e036ca-495e-4bad-8fe6-dec6d0330eea"
      },
      "outputs": [
        {
          "name": "stdout",
          "output_type": "stream",
          "text": [
            "number of outliers of numbr_likes variable: 803045\n",
            "max outlier value of numbr_likes variable: 8822952.0\n",
            "min outlier value of numbr_likes variable: 291.0\n"
          ]
        },
        {
          "data": {
            "text/plain": [
              "<AxesSubplot:>"
            ]
          },
          "execution_count": 55,
          "metadata": {},
          "output_type": "execute_result"
        },
        {
          "data": {
            "image/png": "[encoded data removed]",
            "text/plain": [
              "<Figure size 432x288 with 1 Axes>"
            ]
          },
          "metadata": {
            "needs_background": "light"
          },
          "output_type": "display_data"
        }
      ],
      "source": [
        "out_likes3 = find_outliers_IQR(c3_2['numbr_likes'])\n",
        "print('number of outliers of numbr_likes variable: '+ str(len(out_likes3)))\n",
        "print('max outlier value of numbr_likes variable: '+ str(out_likes3.max()))\n",
        "print('min outlier value of numbr_likes variable: '+ str(out_likes3.min()))\n",
        "\n",
        "c3_2.boxplot(column = ['numbr_likes'])"
      ]
    },
    {
      "cell_type": "code",
      "execution_count": null,
      "id": "4a173ab8",
      "metadata": {
        "id": "4a173ab8",
        "outputId": "accfb251-8a31-4f49-9cbb-3041f86bc246"
      },
      "outputs": [
        {
          "name": "stdout",
          "output_type": "stream",
          "text": [
            "number of outliers of number_comments variable: 756755\n",
            "max outlier value of number_comments variable: 166198.0\n",
            "min outlier value of number_comments variable: 16.0\n"
          ]
        },
        {
          "data": {
            "text/plain": [
              "<AxesSubplot:>"
            ]
          },
          "execution_count": 56,
          "metadata": {},
          "output_type": "execute_result"
        },
        {
          "data": {
            "image/png": "[encoded data removed]",
            "text/plain": [
              "<Figure size 432x288 with 1 Axes>"
            ]
          },
          "metadata": {
            "needs_background": "light"
          },
          "output_type": "display_data"
        }
      ],
      "source": [
        "out_comments3 = find_outliers_IQR(c3_2['number_comments'])\n",
        "print('number of outliers of number_comments variable: '+ str(len(out_comments3)))\n",
        "print('max outlier value of number_comments variable: '+ str(out_comments3.max()))\n",
        "print('min outlier value of number_comments variable: '+ str(out_comments3.min()))\n",
        "\n",
        "c3_2.boxplot(column = ['number_comments'])"
      ]
    },
    {
      "cell_type": "code",
      "execution_count": null,
      "id": "74e8fcce",
      "metadata": {
        "id": "74e8fcce",
        "outputId": "238613e4-7029-4df2-b556-41c2cedc7e93"
      },
      "outputs": [
        {
          "name": "stdout",
          "output_type": "stream",
          "text": [
            "number of outliers of numbr_likes variable: 687531\n",
            "max outlier value of numbr_likes variable: 1918373\n",
            "min outlier value of numbr_likes variable: 213\n"
          ]
        },
        {
          "data": {
            "text/plain": [
              "<AxesSubplot:>"
            ]
          },
          "execution_count": 57,
          "metadata": {},
          "output_type": "execute_result"
        },
        {
          "data": {
            "image/png": "[encoded data removed]",
            "text/plain": [
              "<Figure size 432x288 with 1 Axes>"
            ]
          },
          "metadata": {
            "needs_background": "light"
          },
          "output_type": "display_data"
        }
      ],
      "source": [
        "out_likes4 = find_outliers_IQR(c4_2['numbr_likes'])\n",
        "print('number of outliers of numbr_likes variable: '+ str(len(out_likes4)))\n",
        "print('max outlier value of numbr_likes variable: '+ str(out_likes4.max()))\n",
        "print('min outlier value of numbr_likes variable: '+ str(out_likes4.min()))\n",
        "\n",
        "c4_2.boxplot(column = ['numbr_likes'])"
      ]
    },
    {
      "cell_type": "code",
      "execution_count": null,
      "id": "69bcd76b",
      "metadata": {
        "id": "69bcd76b",
        "outputId": "60794bc3-45c9-4298-9a35-d250ee02eeb0"
      },
      "outputs": [
        {
          "name": "stdout",
          "output_type": "stream",
          "text": [
            "number of outliers of number_comments variable: 640701\n",
            "max outlier value of number_comments variable: 173988\n",
            "min outlier value of number_comments variable: 13\n"
          ]
        },
        {
          "data": {
            "text/plain": [
              "<AxesSubplot:>"
            ]
          },
          "execution_count": 58,
          "metadata": {},
          "output_type": "execute_result"
        },
        {
          "data": {
            "image/png": "[encoded data removed]",
            "text/plain": [
              "<Figure size 432x288 with 1 Axes>"
            ]
          },
          "metadata": {
            "needs_background": "light"
          },
          "output_type": "display_data"
        }
      ],
      "source": [
        "out_comments4 = find_outliers_IQR(c4_2['number_comments'])\n",
        "print('number of outliers of number_comments variable: '+ str(len(out_comments4)))\n",
        "print('max outlier value of number_comments variable: '+ str(out_comments4.max()))\n",
        "print('min outlier value of number_comments variable: '+ str(out_comments4.min()))\n",
        "\n",
        "c4_2.boxplot(column = ['number_comments'])"
      ]
    },
    {
      "cell_type": "code",
      "execution_count": null,
      "id": "5d52008d",
      "metadata": {
        "id": "5d52008d",
        "outputId": "ad988818-c648-4c32-fcf1-2544c7d9de75"
      },
      "outputs": [
        {
          "name": "stdout",
          "output_type": "stream",
          "text": [
            "number of outliers of numbr_likes variable: 693231\n",
            "max outlier value of numbr_likes variable: 3340297\n",
            "min outlier value of numbr_likes variable: 220\n"
          ]
        },
        {
          "data": {
            "text/plain": [
              "<AxesSubplot:>"
            ]
          },
          "execution_count": 59,
          "metadata": {},
          "output_type": "execute_result"
        },
        {
          "data": {
            "image/png": "[encoded data removed]",
            "text/plain": [
              "<Figure size 432x288 with 1 Axes>"
            ]
          },
          "metadata": {
            "needs_background": "light"
          },
          "output_type": "display_data"
        }
      ],
      "source": [
        "out_likes5 = find_outliers_IQR(c5_2['numbr_likes'])\n",
        "print('number of outliers of numbr_likes variable: '+ str(len(out_likes5)))\n",
        "print('max outlier value of numbr_likes variable: '+ str(out_likes5.max()))\n",
        "print('min outlier value of numbr_likes variable: '+ str(out_likes5.min()))\n",
        "\n",
        "c5_2.boxplot(column = ['numbr_likes'])"
      ]
    },
    {
      "cell_type": "code",
      "execution_count": null,
      "id": "60ef1069",
      "metadata": {
        "id": "60ef1069",
        "outputId": "fddfaf3f-5135-49a6-b3e3-b71db875275d"
      },
      "outputs": [
        {
          "name": "stdout",
          "output_type": "stream",
          "text": [
            "number of outliers of number_comments variable: 625810\n",
            "max outlier value of number_comments variable: 257488\n",
            "min outlier value of number_comments variable: 13\n"
          ]
        },
        {
          "data": {
            "text/plain": [
              "<AxesSubplot:>"
            ]
          },
          "execution_count": 60,
          "metadata": {},
          "output_type": "execute_result"
        },
        {
          "data": {
            "image/png": "[encoded data removed]",
            "text/plain": [
              "<Figure size 432x288 with 1 Axes>"
            ]
          },
          "metadata": {
            "needs_background": "light"
          },
          "output_type": "display_data"
        }
      ],
      "source": [
        "out_comments5 = find_outliers_IQR(c5_2['number_comments'])\n",
        "print('number of outliers of number_comments variable: '+ str(len(out_comments5)))\n",
        "print('max outlier value of number_comments variable: '+ str(out_comments5.max()))\n",
        "print('min outlier value of number_comments variable: '+ str(out_comments5.min()))\n",
        "\n",
        "c5_2.boxplot(column = ['number_comments'])"
      ]
    },
    {
      "cell_type": "code",
      "execution_count": null,
      "id": "30771b70",
      "metadata": {
        "id": "30771b70",
        "outputId": "815e0591-90c4-42dc-ebdf-41aff3ee13d2"
      },
      "outputs": [
        {
          "name": "stdout",
          "output_type": "stream",
          "text": [
            "number of outliers of numbr_likes variable: 682464\n",
            "max outlier value of numbr_likes variable: 4264745\n",
            "min outlier value of numbr_likes variable: 256\n"
          ]
        },
        {
          "data": {
            "text/plain": [
              "<AxesSubplot:>"
            ]
          },
          "execution_count": 61,
          "metadata": {},
          "output_type": "execute_result"
        },
        {
          "data": {
            "image/png": "[encoded data removed]",
            "text/plain": [
              "<Figure size 432x288 with 1 Axes>"
            ]
          },
          "metadata": {
            "needs_background": "light"
          },
          "output_type": "display_data"
        }
      ],
      "source": [
        "out_likes6 = find_outliers_IQR(c6_2['numbr_likes'])\n",
        "print('number of outliers of numbr_likes variable: '+ str(len(out_likes6)))\n",
        "print('max outlier value of numbr_likes variable: '+ str(out_likes6.max()))\n",
        "print('min outlier value of numbr_likes variable: '+ str(out_likes6.min()))\n",
        "\n",
        "c6_2.boxplot(column = ['numbr_likes'])"
      ]
    },
    {
      "cell_type": "code",
      "execution_count": null,
      "id": "a1b73230",
      "metadata": {
        "id": "a1b73230",
        "outputId": "2a35bcb0-76bd-480c-e87d-cb90057607dd"
      },
      "outputs": [
        {
          "name": "stdout",
          "output_type": "stream",
          "text": [
            "number of outliers of number_comments variable: 653242\n",
            "max outlier value of number_comments variable: 488953\n",
            "min outlier value of number_comments variable: 13\n"
          ]
        },
        {
          "data": {
            "text/plain": [
              "<AxesSubplot:>"
            ]
          },
          "execution_count": 62,
          "metadata": {},
          "output_type": "execute_result"
        },
        {
          "data": {
            "image/png": "[encoded data removed]",
            "text/plain": [
              "<Figure size 432x288 with 1 Axes>"
            ]
          },
          "metadata": {
            "needs_background": "light"
          },
          "output_type": "display_data"
        }
      ],
      "source": [
        "out_comments6 = find_outliers_IQR(c6_2['number_comments'])\n",
        "print('number of outliers of number_comments variable: '+ str(len(out_comments6)))\n",
        "print('max outlier value of number_comments variable: '+ str(out_comments6.max()))\n",
        "print('min outlier value of number_comments variable: '+ str(out_comments6.min()))\n",
        "\n",
        "c6_2.boxplot(column = ['number_comments'])"
      ]
    },
    {
      "cell_type": "code",
      "execution_count": null,
      "id": "c7051f6c",
      "metadata": {
        "id": "c7051f6c",
        "outputId": "79452ad4-a6b0-420f-84f0-393311b153e5"
      },
      "outputs": [
        {
          "name": "stdout",
          "output_type": "stream",
          "text": [
            "number of outliers of numbr_likes variable: 69140\n",
            "max outlier value of numbr_likes variable: 1884010\n",
            "min outlier value of numbr_likes variable: 291\n"
          ]
        },
        {
          "data": {
            "text/plain": [
              "<AxesSubplot:>"
            ]
          },
          "execution_count": 63,
          "metadata": {},
          "output_type": "execute_result"
        },
        {
          "data": {
            "image/png": "[encoded data removed]",
            "text/plain": [
              "<Figure size 432x288 with 1 Axes>"
            ]
          },
          "metadata": {
            "needs_background": "light"
          },
          "output_type": "display_data"
        }
      ],
      "source": [
        "out_likes7 = find_outliers_IQR(c7_2['numbr_likes'])\n",
        "print('number of outliers of numbr_likes variable: '+ str(len(out_likes7)))\n",
        "print('max outlier value of numbr_likes variable: '+ str(out_likes7.max()))\n",
        "print('min outlier value of numbr_likes variable: '+ str(out_likes7.min()))\n",
        "\n",
        "c7_2.boxplot(column = ['numbr_likes'])"
      ]
    },
    {
      "cell_type": "code",
      "execution_count": null,
      "id": "6ba509f9",
      "metadata": {
        "id": "6ba509f9",
        "outputId": "1566442c-a127-4b2f-b917-584eab234d32"
      },
      "outputs": [
        {
          "name": "stdout",
          "output_type": "stream",
          "text": [
            "number of outliers of number_comments variable: 74013\n",
            "max outlier value of number_comments variable: 34243\n",
            "min outlier value of number_comments variable: 13\n"
          ]
        },
        {
          "data": {
            "text/plain": [
              "<AxesSubplot:>"
            ]
          },
          "execution_count": 64,
          "metadata": {},
          "output_type": "execute_result"
        },
        {
          "data": {
            "image/png": "[encoded data removed]",
            "text/plain": [
              "<Figure size 432x288 with 1 Axes>"
            ]
          },
          "metadata": {
            "needs_background": "light"
          },
          "output_type": "display_data"
        }
      ],
      "source": [
        "out_comments7 = find_outliers_IQR(c7_2['number_comments'])\n",
        "print('number of outliers of number_comments variable: '+ str(len(out_comments7)))\n",
        "print('max outlier value of number_comments variable: '+ str(out_comments7.max()))\n",
        "print('min outlier value of number_comments variable: '+ str(out_comments7.min()))\n",
        "\n",
        "c7_2.boxplot(column = ['number_comments'])"
      ]
    },
    {
      "cell_type": "markdown",
      "id": "84d04e39",
      "metadata": {
        "id": "84d04e39"
      },
      "source": [
        "The boxplots show us the presence of many outliers, but also in this case we decided to not remove them because there could be famous people in real life with so many likes and comments"
      ]
    },
    {
      "cell_type": "code",
      "execution_count": null,
      "id": "48586a81",
      "metadata": {
        "id": "48586a81",
        "outputId": "70d728fc-d1f2-4ada-be2f-a914df15c708"
      },
      "outputs": [
        {
          "data": {
            "text/html": [
              "<div>\n",
              "<style scoped>\n",
              "    .dataframe tbody tr th:only-of-type {\n",
              "        vertical-align: middle;\n",
              "    }\n",
              "\n",
              "    .dataframe tbody tr th {\n",
              "        vertical-align: top;\n",
              "    }\n",
              "\n",
              "    .dataframe thead th {\n",
              "        text-align: right;\n",
              "    }\n",
              "</style>\n",
              "<table border=\"1\" class=\"dataframe\">\n",
              "  <thead>\n",
              "    <tr style=\"text-align: right;\">\n",
              "      <th></th>\n",
              "      <th>sid</th>\n",
              "      <th>sid_profile</th>\n",
              "      <th>profile_id</th>\n",
              "      <th>location_id</th>\n",
              "      <th>post_type</th>\n",
              "      <th>numbr_likes</th>\n",
              "      <th>number_comments</th>\n",
              "    </tr>\n",
              "  </thead>\n",
              "  <tbody>\n",
              "    <tr>\n",
              "      <th>count</th>\n",
              "      <td>7.000000e+06</td>\n",
              "      <td>7.000000e+06</td>\n",
              "      <td>7.000000e+06</td>\n",
              "      <td>7.000000e+06</td>\n",
              "      <td>7.000000e+06</td>\n",
              "      <td>7.000000e+06</td>\n",
              "      <td>7.000000e+06</td>\n",
              "    </tr>\n",
              "    <tr>\n",
              "      <th>mean</th>\n",
              "      <td>3.159039e+07</td>\n",
              "      <td>2.262388e+05</td>\n",
              "      <td>3.182336e+09</td>\n",
              "      <td>2.982783e+14</td>\n",
              "      <td>1.061693e+00</td>\n",
              "      <td>2.832795e+02</td>\n",
              "      <td>7.066664e+00</td>\n",
              "    </tr>\n",
              "    <tr>\n",
              "      <th>std</th>\n",
              "      <td>3.168985e+06</td>\n",
              "      <td>7.938072e+05</td>\n",
              "      <td>5.902808e+10</td>\n",
              "      <td>5.669372e+14</td>\n",
              "      <td>2.406082e-01</td>\n",
              "      <td>5.455190e+03</td>\n",
              "      <td>1.561183e+02</td>\n",
              "    </tr>\n",
              "    <tr>\n",
              "      <th>min</th>\n",
              "      <td>6.025000e+03</td>\n",
              "      <td>-1.000000e+00</td>\n",
              "      <td>-1.000000e+00</td>\n",
              "      <td>-1.000000e+00</td>\n",
              "      <td>1.000000e+00</td>\n",
              "      <td>0.000000e+00</td>\n",
              "      <td>0.000000e+00</td>\n",
              "    </tr>\n",
              "    <tr>\n",
              "      <th>25%</th>\n",
              "      <td>2.997980e+07</td>\n",
              "      <td>-1.000000e+00</td>\n",
              "      <td>3.003542e+08</td>\n",
              "      <td>2.657396e+08</td>\n",
              "      <td>1.000000e+00</td>\n",
              "      <td>1.900000e+01</td>\n",
              "      <td>0.000000e+00</td>\n",
              "    </tr>\n",
              "    <tr>\n",
              "      <th>50%</th>\n",
              "      <td>3.182539e+07</td>\n",
              "      <td>-1.000000e+00</td>\n",
              "      <td>1.632911e+09</td>\n",
              "      <td>8.130249e+08</td>\n",
              "      <td>1.000000e+00</td>\n",
              "      <td>4.600000e+01</td>\n",
              "      <td>1.000000e+00</td>\n",
              "    </tr>\n",
              "    <tr>\n",
              "      <th>75%</th>\n",
              "      <td>3.375614e+07</td>\n",
              "      <td>-1.000000e+00</td>\n",
              "      <td>5.422646e+09</td>\n",
              "      <td>3.028755e+14</td>\n",
              "      <td>1.000000e+00</td>\n",
              "      <td>1.230000e+02</td>\n",
              "      <td>5.000000e+00</td>\n",
              "    </tr>\n",
              "    <tr>\n",
              "      <th>max</th>\n",
              "      <td>3.569769e+07</td>\n",
              "      <td>4.510784e+06</td>\n",
              "      <td>9.001014e+13</td>\n",
              "      <td>2.402148e+16</td>\n",
              "      <td>3.000000e+00</td>\n",
              "      <td>3.586546e+06</td>\n",
              "      <td>1.806350e+05</td>\n",
              "    </tr>\n",
              "  </tbody>\n",
              "</table>\n",
              "</div>"
            ],
            "text/plain": [
              "                sid   sid_profile    profile_id   location_id     post_type  \\\n",
              "count  7.000000e+06  7.000000e+06  7.000000e+06  7.000000e+06  7.000000e+06   \n",
              "mean   3.159039e+07  2.262388e+05  3.182336e+09  2.982783e+14  1.061693e+00   \n",
              "std    3.168985e+06  7.938072e+05  5.902808e+10  5.669372e+14  2.406082e-01   \n",
              "min    6.025000e+03 -1.000000e+00 -1.000000e+00 -1.000000e+00  1.000000e+00   \n",
              "25%    2.997980e+07 -1.000000e+00  3.003542e+08  2.657396e+08  1.000000e+00   \n",
              "50%    3.182539e+07 -1.000000e+00  1.632911e+09  8.130249e+08  1.000000e+00   \n",
              "75%    3.375614e+07 -1.000000e+00  5.422646e+09  3.028755e+14  1.000000e+00   \n",
              "max    3.569769e+07  4.510784e+06  9.001014e+13  2.402148e+16  3.000000e+00   \n",
              "\n",
              "        numbr_likes  number_comments  \n",
              "count  7.000000e+06     7.000000e+06  \n",
              "mean   2.832795e+02     7.066664e+00  \n",
              "std    5.455190e+03     1.561183e+02  \n",
              "min    0.000000e+00     0.000000e+00  \n",
              "25%    1.900000e+01     0.000000e+00  \n",
              "50%    4.600000e+01     1.000000e+00  \n",
              "75%    1.230000e+02     5.000000e+00  \n",
              "max    3.586546e+06     1.806350e+05  "
            ]
          },
          "execution_count": 69,
          "metadata": {},
          "output_type": "execute_result"
        }
      ],
      "source": [
        "c1_2.describe()"
      ]
    },
    {
      "cell_type": "code",
      "execution_count": null,
      "id": "80b4147a",
      "metadata": {
        "id": "80b4147a",
        "outputId": "4856c3a1-16e3-488f-af01-0822db58eec9"
      },
      "outputs": [
        {
          "data": {
            "text/html": [
              "<div>\n",
              "<style scoped>\n",
              "    .dataframe tbody tr th:only-of-type {\n",
              "        vertical-align: middle;\n",
              "    }\n",
              "\n",
              "    .dataframe tbody tr th {\n",
              "        vertical-align: top;\n",
              "    }\n",
              "\n",
              "    .dataframe thead th {\n",
              "        text-align: right;\n",
              "    }\n",
              "</style>\n",
              "<table border=\"1\" class=\"dataframe\">\n",
              "  <thead>\n",
              "    <tr style=\"text-align: right;\">\n",
              "      <th></th>\n",
              "      <th>sid</th>\n",
              "      <th>sid_profile</th>\n",
              "      <th>profile_id</th>\n",
              "      <th>location_id</th>\n",
              "      <th>post_type</th>\n",
              "      <th>numbr_likes</th>\n",
              "      <th>number_comments</th>\n",
              "    </tr>\n",
              "  </thead>\n",
              "  <tbody>\n",
              "    <tr>\n",
              "      <th>count</th>\n",
              "      <td>7.000000e+06</td>\n",
              "      <td>7.000000e+06</td>\n",
              "      <td>7.000000e+06</td>\n",
              "      <td>7.000000e+06</td>\n",
              "      <td>7.000000e+06</td>\n",
              "      <td>7.000000e+06</td>\n",
              "      <td>7.000000e+06</td>\n",
              "    </tr>\n",
              "    <tr>\n",
              "      <th>mean</th>\n",
              "      <td>3.516633e+07</td>\n",
              "      <td>2.788004e+06</td>\n",
              "      <td>2.983587e+09</td>\n",
              "      <td>2.008985e+14</td>\n",
              "      <td>1.024562e+00</td>\n",
              "      <td>3.030214e+02</td>\n",
              "      <td>7.660052e+00</td>\n",
              "    </tr>\n",
              "    <tr>\n",
              "      <th>std</th>\n",
              "      <td>7.999559e+06</td>\n",
              "      <td>1.727688e+06</td>\n",
              "      <td>3.456172e+09</td>\n",
              "      <td>4.875106e+14</td>\n",
              "      <td>1.547874e-01</td>\n",
              "      <td>4.980883e+03</td>\n",
              "      <td>2.339129e+02</td>\n",
              "    </tr>\n",
              "    <tr>\n",
              "      <th>min</th>\n",
              "      <td>1.227000e+04</td>\n",
              "      <td>-1.000000e+00</td>\n",
              "      <td>-1.000000e+00</td>\n",
              "      <td>-1.000000e+00</td>\n",
              "      <td>1.000000e+00</td>\n",
              "      <td>0.000000e+00</td>\n",
              "      <td>0.000000e+00</td>\n",
              "    </tr>\n",
              "    <tr>\n",
              "      <th>25%</th>\n",
              "      <td>3.604261e+07</td>\n",
              "      <td>-1.000000e+00</td>\n",
              "      <td>2.780754e+08</td>\n",
              "      <td>4.816956e+06</td>\n",
              "      <td>1.000000e+00</td>\n",
              "      <td>2.000000e+01</td>\n",
              "      <td>0.000000e+00</td>\n",
              "    </tr>\n",
              "    <tr>\n",
              "      <th>50%</th>\n",
              "      <td>3.780534e+07</td>\n",
              "      <td>3.740683e+06</td>\n",
              "      <td>1.501134e+09</td>\n",
              "      <td>2.679716e+08</td>\n",
              "      <td>1.000000e+00</td>\n",
              "      <td>4.800000e+01</td>\n",
              "      <td>1.000000e+00</td>\n",
              "    </tr>\n",
              "    <tr>\n",
              "      <th>75%</th>\n",
              "      <td>3.955551e+07</td>\n",
              "      <td>3.951653e+06</td>\n",
              "      <td>4.848598e+09</td>\n",
              "      <td>1.777008e+11</td>\n",
              "      <td>1.000000e+00</td>\n",
              "      <td>1.230000e+02</td>\n",
              "      <td>5.000000e+00</td>\n",
              "    </tr>\n",
              "    <tr>\n",
              "      <th>max</th>\n",
              "      <td>4.138832e+07</td>\n",
              "      <td>4.510783e+06</td>\n",
              "      <td>1.566695e+10</td>\n",
              "      <td>2.402148e+16</td>\n",
              "      <td>3.000000e+00</td>\n",
              "      <td>2.616479e+06</td>\n",
              "      <td>3.139970e+05</td>\n",
              "    </tr>\n",
              "  </tbody>\n",
              "</table>\n",
              "</div>"
            ],
            "text/plain": [
              "                sid   sid_profile    profile_id   location_id     post_type  \\\n",
              "count  7.000000e+06  7.000000e+06  7.000000e+06  7.000000e+06  7.000000e+06   \n",
              "mean   3.516633e+07  2.788004e+06  2.983587e+09  2.008985e+14  1.024562e+00   \n",
              "std    7.999559e+06  1.727688e+06  3.456172e+09  4.875106e+14  1.547874e-01   \n",
              "min    1.227000e+04 -1.000000e+00 -1.000000e+00 -1.000000e+00  1.000000e+00   \n",
              "25%    3.604261e+07 -1.000000e+00  2.780754e+08  4.816956e+06  1.000000e+00   \n",
              "50%    3.780534e+07  3.740683e+06  1.501134e+09  2.679716e+08  1.000000e+00   \n",
              "75%    3.955551e+07  3.951653e+06  4.848598e+09  1.777008e+11  1.000000e+00   \n",
              "max    4.138832e+07  4.510783e+06  1.566695e+10  2.402148e+16  3.000000e+00   \n",
              "\n",
              "        numbr_likes  number_comments  \n",
              "count  7.000000e+06     7.000000e+06  \n",
              "mean   3.030214e+02     7.660052e+00  \n",
              "std    4.980883e+03     2.339129e+02  \n",
              "min    0.000000e+00     0.000000e+00  \n",
              "25%    2.000000e+01     0.000000e+00  \n",
              "50%    4.800000e+01     1.000000e+00  \n",
              "75%    1.230000e+02     5.000000e+00  \n",
              "max    2.616479e+06     3.139970e+05  "
            ]
          },
          "execution_count": 70,
          "metadata": {},
          "output_type": "execute_result"
        }
      ],
      "source": [
        "c2_2.describe()"
      ]
    },
    {
      "cell_type": "code",
      "execution_count": null,
      "id": "d28c7daf",
      "metadata": {
        "id": "d28c7daf",
        "outputId": "ef8e4d28-aac6-456e-dbe3-b2f7739b8dbe"
      },
      "outputs": [
        {
          "data": {
            "text/html": [
              "<div>\n",
              "<style scoped>\n",
              "    .dataframe tbody tr th:only-of-type {\n",
              "        vertical-align: middle;\n",
              "    }\n",
              "\n",
              "    .dataframe tbody tr th {\n",
              "        vertical-align: top;\n",
              "    }\n",
              "\n",
              "    .dataframe thead th {\n",
              "        text-align: right;\n",
              "    }\n",
              "</style>\n",
              "<table border=\"1\" class=\"dataframe\">\n",
              "  <thead>\n",
              "    <tr style=\"text-align: right;\">\n",
              "      <th></th>\n",
              "      <th>sid</th>\n",
              "      <th>sid_profile</th>\n",
              "      <th>profile_id</th>\n",
              "      <th>location_id</th>\n",
              "      <th>post_type</th>\n",
              "      <th>numbr_likes</th>\n",
              "      <th>number_comments</th>\n",
              "    </tr>\n",
              "  </thead>\n",
              "  <tbody>\n",
              "    <tr>\n",
              "      <th>count</th>\n",
              "      <td>6.999964e+06</td>\n",
              "      <td>6.999964e+06</td>\n",
              "      <td>6.999964e+06</td>\n",
              "      <td>6.999964e+06</td>\n",
              "      <td>6.999964e+06</td>\n",
              "      <td>6.999964e+06</td>\n",
              "      <td>6.999964e+06</td>\n",
              "    </tr>\n",
              "    <tr>\n",
              "      <th>mean</th>\n",
              "      <td>1.495288e+07</td>\n",
              "      <td>1.733796e+06</td>\n",
              "      <td>1.645761e+09</td>\n",
              "      <td>9.455807e+13</td>\n",
              "      <td>1.015345e+00</td>\n",
              "      <td>3.398362e+02</td>\n",
              "      <td>1.016824e+01</td>\n",
              "    </tr>\n",
              "    <tr>\n",
              "      <th>std</th>\n",
              "      <td>1.795785e+07</td>\n",
              "      <td>1.861250e+06</td>\n",
              "      <td>2.771921e+09</td>\n",
              "      <td>3.490387e+14</td>\n",
              "      <td>1.636869e-01</td>\n",
              "      <td>8.164388e+03</td>\n",
              "      <td>1.791487e+02</td>\n",
              "    </tr>\n",
              "    <tr>\n",
              "      <th>min</th>\n",
              "      <td>5.169000e+03</td>\n",
              "      <td>-1.000000e+00</td>\n",
              "      <td>-1.000000e+00</td>\n",
              "      <td>-1.000000e+00</td>\n",
              "      <td>1.000000e+00</td>\n",
              "      <td>0.000000e+00</td>\n",
              "      <td>0.000000e+00</td>\n",
              "    </tr>\n",
              "    <tr>\n",
              "      <th>25%</th>\n",
              "      <td>1.810826e+06</td>\n",
              "      <td>2.278365e+05</td>\n",
              "      <td>-1.000000e+00</td>\n",
              "      <td>-1.000000e+00</td>\n",
              "      <td>1.000000e+00</td>\n",
              "      <td>2.500000e+01</td>\n",
              "      <td>0.000000e+00</td>\n",
              "    </tr>\n",
              "    <tr>\n",
              "      <th>50%</th>\n",
              "      <td>4.149278e+06</td>\n",
              "      <td>7.604015e+05</td>\n",
              "      <td>2.058168e+08</td>\n",
              "      <td>1.836630e+05</td>\n",
              "      <td>1.000000e+00</td>\n",
              "      <td>5.500000e+01</td>\n",
              "      <td>2.000000e+00</td>\n",
              "    </tr>\n",
              "    <tr>\n",
              "      <th>75%</th>\n",
              "      <td>4.158046e+07</td>\n",
              "      <td>4.294435e+06</td>\n",
              "      <td>2.001954e+09</td>\n",
              "      <td>2.513736e+08</td>\n",
              "      <td>1.000000e+00</td>\n",
              "      <td>1.310000e+02</td>\n",
              "      <td>6.000000e+00</td>\n",
              "    </tr>\n",
              "    <tr>\n",
              "      <th>max</th>\n",
              "      <td>4.333055e+07</td>\n",
              "      <td>4.510785e+06</td>\n",
              "      <td>1.566695e+10</td>\n",
              "      <td>2.402148e+16</td>\n",
              "      <td>3.000000e+00</td>\n",
              "      <td>8.822952e+06</td>\n",
              "      <td>1.661980e+05</td>\n",
              "    </tr>\n",
              "  </tbody>\n",
              "</table>\n",
              "</div>"
            ],
            "text/plain": [
              "                sid   sid_profile    profile_id   location_id     post_type  \\\n",
              "count  6.999964e+06  6.999964e+06  6.999964e+06  6.999964e+06  6.999964e+06   \n",
              "mean   1.495288e+07  1.733796e+06  1.645761e+09  9.455807e+13  1.015345e+00   \n",
              "std    1.795785e+07  1.861250e+06  2.771921e+09  3.490387e+14  1.636869e-01   \n",
              "min    5.169000e+03 -1.000000e+00 -1.000000e+00 -1.000000e+00  1.000000e+00   \n",
              "25%    1.810826e+06  2.278365e+05 -1.000000e+00 -1.000000e+00  1.000000e+00   \n",
              "50%    4.149278e+06  7.604015e+05  2.058168e+08  1.836630e+05  1.000000e+00   \n",
              "75%    4.158046e+07  4.294435e+06  2.001954e+09  2.513736e+08  1.000000e+00   \n",
              "max    4.333055e+07  4.510785e+06  1.566695e+10  2.402148e+16  3.000000e+00   \n",
              "\n",
              "        numbr_likes  number_comments  \n",
              "count  6.999964e+06     6.999964e+06  \n",
              "mean   3.398362e+02     1.016824e+01  \n",
              "std    8.164388e+03     1.791487e+02  \n",
              "min    0.000000e+00     0.000000e+00  \n",
              "25%    2.500000e+01     0.000000e+00  \n",
              "50%    5.500000e+01     2.000000e+00  \n",
              "75%    1.310000e+02     6.000000e+00  \n",
              "max    8.822952e+06     1.661980e+05  "
            ]
          },
          "execution_count": 71,
          "metadata": {},
          "output_type": "execute_result"
        }
      ],
      "source": [
        "c3_2.describe()"
      ]
    },
    {
      "cell_type": "code",
      "execution_count": null,
      "id": "74d4ec3e",
      "metadata": {
        "id": "74d4ec3e",
        "outputId": "6b7ff295-27fe-464d-d91d-4ee3262cb89b"
      },
      "outputs": [
        {
          "data": {
            "text/html": [
              "<div>\n",
              "<style scoped>\n",
              "    .dataframe tbody tr th:only-of-type {\n",
              "        vertical-align: middle;\n",
              "    }\n",
              "\n",
              "    .dataframe tbody tr th {\n",
              "        vertical-align: top;\n",
              "    }\n",
              "\n",
              "    .dataframe thead th {\n",
              "        text-align: right;\n",
              "    }\n",
              "</style>\n",
              "<table border=\"1\" class=\"dataframe\">\n",
              "  <thead>\n",
              "    <tr style=\"text-align: right;\">\n",
              "      <th></th>\n",
              "      <th>sid</th>\n",
              "      <th>sid_profile</th>\n",
              "      <th>profile_id</th>\n",
              "      <th>location_id</th>\n",
              "      <th>post_type</th>\n",
              "      <th>numbr_likes</th>\n",
              "      <th>number_comments</th>\n",
              "    </tr>\n",
              "  </thead>\n",
              "  <tbody>\n",
              "    <tr>\n",
              "      <th>count</th>\n",
              "      <td>7.000000e+06</td>\n",
              "      <td>7.000000e+06</td>\n",
              "      <td>7.000000e+06</td>\n",
              "      <td>7.000000e+06</td>\n",
              "      <td>7.000000e+06</td>\n",
              "      <td>7.000000e+06</td>\n",
              "      <td>7.000000e+06</td>\n",
              "    </tr>\n",
              "    <tr>\n",
              "      <th>mean</th>\n",
              "      <td>9.255333e+06</td>\n",
              "      <td>2.115172e+06</td>\n",
              "      <td>3.275889e+09</td>\n",
              "      <td>9.003716e+13</td>\n",
              "      <td>1.004657e+00</td>\n",
              "      <td>2.212250e+02</td>\n",
              "      <td>6.815135e+00</td>\n",
              "    </tr>\n",
              "    <tr>\n",
              "      <th>std</th>\n",
              "      <td>2.911635e+06</td>\n",
              "      <td>1.051054e+06</td>\n",
              "      <td>1.076330e+11</td>\n",
              "      <td>3.393374e+14</td>\n",
              "      <td>6.810094e-02</td>\n",
              "      <td>4.090350e+03</td>\n",
              "      <td>1.640735e+02</td>\n",
              "    </tr>\n",
              "    <tr>\n",
              "      <th>min</th>\n",
              "      <td>1.432800e+04</td>\n",
              "      <td>-1.000000e+00</td>\n",
              "      <td>-1.000000e+00</td>\n",
              "      <td>-1.000000e+00</td>\n",
              "      <td>1.000000e+00</td>\n",
              "      <td>0.000000e+00</td>\n",
              "      <td>0.000000e+00</td>\n",
              "    </tr>\n",
              "    <tr>\n",
              "      <th>25%</th>\n",
              "      <td>7.040096e+06</td>\n",
              "      <td>1.196849e+06</td>\n",
              "      <td>2.740531e+08</td>\n",
              "      <td>-1.000000e+00</td>\n",
              "      <td>1.000000e+00</td>\n",
              "      <td>2.000000e+01</td>\n",
              "      <td>0.000000e+00</td>\n",
              "    </tr>\n",
              "    <tr>\n",
              "      <th>50%</th>\n",
              "      <td>8.874062e+06</td>\n",
              "      <td>1.916004e+06</td>\n",
              "      <td>1.683679e+09</td>\n",
              "      <td>-1.000000e+00</td>\n",
              "      <td>1.000000e+00</td>\n",
              "      <td>4.400000e+01</td>\n",
              "      <td>2.000000e+00</td>\n",
              "    </tr>\n",
              "    <tr>\n",
              "      <th>75%</th>\n",
              "      <td>1.085581e+07</td>\n",
              "      <td>3.295823e+06</td>\n",
              "      <td>5.565361e+09</td>\n",
              "      <td>2.527547e+08</td>\n",
              "      <td>1.000000e+00</td>\n",
              "      <td>9.700000e+01</td>\n",
              "      <td>5.000000e+00</td>\n",
              "    </tr>\n",
              "    <tr>\n",
              "      <th>max</th>\n",
              "      <td>3.719490e+07</td>\n",
              "      <td>4.510223e+06</td>\n",
              "      <td>9.001013e+13</td>\n",
              "      <td>2.402148e+16</td>\n",
              "      <td>3.000000e+00</td>\n",
              "      <td>1.918373e+06</td>\n",
              "      <td>1.739880e+05</td>\n",
              "    </tr>\n",
              "  </tbody>\n",
              "</table>\n",
              "</div>"
            ],
            "text/plain": [
              "                sid   sid_profile    profile_id   location_id     post_type  \\\n",
              "count  7.000000e+06  7.000000e+06  7.000000e+06  7.000000e+06  7.000000e+06   \n",
              "mean   9.255333e+06  2.115172e+06  3.275889e+09  9.003716e+13  1.004657e+00   \n",
              "std    2.911635e+06  1.051054e+06  1.076330e+11  3.393374e+14  6.810094e-02   \n",
              "min    1.432800e+04 -1.000000e+00 -1.000000e+00 -1.000000e+00  1.000000e+00   \n",
              "25%    7.040096e+06  1.196849e+06  2.740531e+08 -1.000000e+00  1.000000e+00   \n",
              "50%    8.874062e+06  1.916004e+06  1.683679e+09 -1.000000e+00  1.000000e+00   \n",
              "75%    1.085581e+07  3.295823e+06  5.565361e+09  2.527547e+08  1.000000e+00   \n",
              "max    3.719490e+07  4.510223e+06  9.001013e+13  2.402148e+16  3.000000e+00   \n",
              "\n",
              "        numbr_likes  number_comments  \n",
              "count  7.000000e+06     7.000000e+06  \n",
              "mean   2.212250e+02     6.815135e+00  \n",
              "std    4.090350e+03     1.640735e+02  \n",
              "min    0.000000e+00     0.000000e+00  \n",
              "25%    2.000000e+01     0.000000e+00  \n",
              "50%    4.400000e+01     2.000000e+00  \n",
              "75%    9.700000e+01     5.000000e+00  \n",
              "max    1.918373e+06     1.739880e+05  "
            ]
          },
          "execution_count": 72,
          "metadata": {},
          "output_type": "execute_result"
        }
      ],
      "source": [
        "c4_2.describe()"
      ]
    },
    {
      "cell_type": "code",
      "execution_count": null,
      "id": "d583f989",
      "metadata": {
        "id": "d583f989",
        "outputId": "35f19416-3454-465f-862a-bf680cbd5b49"
      },
      "outputs": [
        {
          "data": {
            "text/html": [
              "<div>\n",
              "<style scoped>\n",
              "    .dataframe tbody tr th:only-of-type {\n",
              "        vertical-align: middle;\n",
              "    }\n",
              "\n",
              "    .dataframe tbody tr th {\n",
              "        vertical-align: top;\n",
              "    }\n",
              "\n",
              "    .dataframe thead th {\n",
              "        text-align: right;\n",
              "    }\n",
              "</style>\n",
              "<table border=\"1\" class=\"dataframe\">\n",
              "  <thead>\n",
              "    <tr style=\"text-align: right;\">\n",
              "      <th></th>\n",
              "      <th>sid</th>\n",
              "      <th>sid_profile</th>\n",
              "      <th>profile_id</th>\n",
              "      <th>location_id</th>\n",
              "      <th>post_type</th>\n",
              "      <th>numbr_likes</th>\n",
              "      <th>number_comments</th>\n",
              "    </tr>\n",
              "  </thead>\n",
              "  <tbody>\n",
              "    <tr>\n",
              "      <th>count</th>\n",
              "      <td>7.000000e+06</td>\n",
              "      <td>7.000000e+06</td>\n",
              "      <td>7.000000e+06</td>\n",
              "      <td>7.000000e+06</td>\n",
              "      <td>7.000000e+06</td>\n",
              "      <td>7.000000e+06</td>\n",
              "      <td>7.000000e+06</td>\n",
              "    </tr>\n",
              "    <tr>\n",
              "      <th>mean</th>\n",
              "      <td>1.638781e+07</td>\n",
              "      <td>1.757602e+06</td>\n",
              "      <td>3.202750e+09</td>\n",
              "      <td>1.368748e+14</td>\n",
              "      <td>1.020497e+00</td>\n",
              "      <td>2.780996e+02</td>\n",
              "      <td>7.251607e+00</td>\n",
              "    </tr>\n",
              "    <tr>\n",
              "      <th>std</th>\n",
              "      <td>2.592957e+06</td>\n",
              "      <td>1.236050e+06</td>\n",
              "      <td>3.360466e+09</td>\n",
              "      <td>4.129176e+14</td>\n",
              "      <td>1.417010e-01</td>\n",
              "      <td>7.367645e+03</td>\n",
              "      <td>2.135170e+02</td>\n",
              "    </tr>\n",
              "    <tr>\n",
              "      <th>min</th>\n",
              "      <td>7.323000e+03</td>\n",
              "      <td>-1.000000e+00</td>\n",
              "      <td>-1.000000e+00</td>\n",
              "      <td>-1.000000e+00</td>\n",
              "      <td>1.000000e+00</td>\n",
              "      <td>0.000000e+00</td>\n",
              "      <td>0.000000e+00</td>\n",
              "    </tr>\n",
              "    <tr>\n",
              "      <th>25%</th>\n",
              "      <td>1.431594e+07</td>\n",
              "      <td>-1.000000e+00</td>\n",
              "      <td>3.025716e+08</td>\n",
              "      <td>-1.000000e+00</td>\n",
              "      <td>1.000000e+00</td>\n",
              "      <td>1.900000e+01</td>\n",
              "      <td>0.000000e+00</td>\n",
              "    </tr>\n",
              "    <tr>\n",
              "      <th>50%</th>\n",
              "      <td>1.616394e+07</td>\n",
              "      <td>1.976424e+06</td>\n",
              "      <td>1.774703e+09</td>\n",
              "      <td>3.149976e+07</td>\n",
              "      <td>1.000000e+00</td>\n",
              "      <td>4.200000e+01</td>\n",
              "      <td>2.000000e+00</td>\n",
              "    </tr>\n",
              "    <tr>\n",
              "      <th>75%</th>\n",
              "      <td>1.872856e+07</td>\n",
              "      <td>2.558940e+06</td>\n",
              "      <td>5.687766e+09</td>\n",
              "      <td>5.776949e+08</td>\n",
              "      <td>1.000000e+00</td>\n",
              "      <td>9.900000e+01</td>\n",
              "      <td>5.000000e+00</td>\n",
              "    </tr>\n",
              "    <tr>\n",
              "      <th>max</th>\n",
              "      <td>2.063186e+07</td>\n",
              "      <td>4.510784e+06</td>\n",
              "      <td>1.392890e+10</td>\n",
              "      <td>2.402148e+16</td>\n",
              "      <td>3.000000e+00</td>\n",
              "      <td>3.340297e+06</td>\n",
              "      <td>2.574880e+05</td>\n",
              "    </tr>\n",
              "  </tbody>\n",
              "</table>\n",
              "</div>"
            ],
            "text/plain": [
              "                sid   sid_profile    profile_id   location_id     post_type  \\\n",
              "count  7.000000e+06  7.000000e+06  7.000000e+06  7.000000e+06  7.000000e+06   \n",
              "mean   1.638781e+07  1.757602e+06  3.202750e+09  1.368748e+14  1.020497e+00   \n",
              "std    2.592957e+06  1.236050e+06  3.360466e+09  4.129176e+14  1.417010e-01   \n",
              "min    7.323000e+03 -1.000000e+00 -1.000000e+00 -1.000000e+00  1.000000e+00   \n",
              "25%    1.431594e+07 -1.000000e+00  3.025716e+08 -1.000000e+00  1.000000e+00   \n",
              "50%    1.616394e+07  1.976424e+06  1.774703e+09  3.149976e+07  1.000000e+00   \n",
              "75%    1.872856e+07  2.558940e+06  5.687766e+09  5.776949e+08  1.000000e+00   \n",
              "max    2.063186e+07  4.510784e+06  1.392890e+10  2.402148e+16  3.000000e+00   \n",
              "\n",
              "        numbr_likes  number_comments  \n",
              "count  7.000000e+06     7.000000e+06  \n",
              "mean   2.780996e+02     7.251607e+00  \n",
              "std    7.367645e+03     2.135170e+02  \n",
              "min    0.000000e+00     0.000000e+00  \n",
              "25%    1.900000e+01     0.000000e+00  \n",
              "50%    4.200000e+01     2.000000e+00  \n",
              "75%    9.900000e+01     5.000000e+00  \n",
              "max    3.340297e+06     2.574880e+05  "
            ]
          },
          "execution_count": 73,
          "metadata": {},
          "output_type": "execute_result"
        }
      ],
      "source": [
        "c5_2.describe()"
      ]
    },
    {
      "cell_type": "code",
      "execution_count": null,
      "id": "813ccd2e",
      "metadata": {
        "id": "813ccd2e",
        "outputId": "a33ba6b8-0d7e-44ab-e0d9-d51a03187103"
      },
      "outputs": [
        {
          "data": {
            "text/html": [
              "<div>\n",
              "<style scoped>\n",
              "    .dataframe tbody tr th:only-of-type {\n",
              "        vertical-align: middle;\n",
              "    }\n",
              "\n",
              "    .dataframe tbody tr th {\n",
              "        vertical-align: top;\n",
              "    }\n",
              "\n",
              "    .dataframe thead th {\n",
              "        text-align: right;\n",
              "    }\n",
              "</style>\n",
              "<table border=\"1\" class=\"dataframe\">\n",
              "  <thead>\n",
              "    <tr style=\"text-align: right;\">\n",
              "      <th></th>\n",
              "      <th>sid</th>\n",
              "      <th>sid_profile</th>\n",
              "      <th>profile_id</th>\n",
              "      <th>location_id</th>\n",
              "      <th>post_type</th>\n",
              "      <th>numbr_likes</th>\n",
              "      <th>number_comments</th>\n",
              "    </tr>\n",
              "  </thead>\n",
              "  <tbody>\n",
              "    <tr>\n",
              "      <th>count</th>\n",
              "      <td>7.000000e+06</td>\n",
              "      <td>7.000000e+06</td>\n",
              "      <td>7.000000e+06</td>\n",
              "      <td>7.000000e+06</td>\n",
              "      <td>7.000000e+06</td>\n",
              "      <td>7.000000e+06</td>\n",
              "      <td>7.000000e+06</td>\n",
              "    </tr>\n",
              "    <tr>\n",
              "      <th>mean</th>\n",
              "      <td>2.370762e+07</td>\n",
              "      <td>1.039179e+06</td>\n",
              "      <td>3.268323e+09</td>\n",
              "      <td>2.147083e+14</td>\n",
              "      <td>1.041041e+00</td>\n",
              "      <td>2.695348e+02</td>\n",
              "      <td>6.618316e+00</td>\n",
              "    </tr>\n",
              "    <tr>\n",
              "      <th>std</th>\n",
              "      <td>2.963685e+06</td>\n",
              "      <td>1.412346e+06</td>\n",
              "      <td>5.901883e+10</td>\n",
              "      <td>4.988312e+14</td>\n",
              "      <td>1.983912e-01</td>\n",
              "      <td>5.738052e+03</td>\n",
              "      <td>2.127982e+02</td>\n",
              "    </tr>\n",
              "    <tr>\n",
              "      <th>min</th>\n",
              "      <td>5.183000e+03</td>\n",
              "      <td>-1.000000e+00</td>\n",
              "      <td>-1.000000e+00</td>\n",
              "      <td>-1.000000e+00</td>\n",
              "      <td>1.000000e+00</td>\n",
              "      <td>0.000000e+00</td>\n",
              "      <td>0.000000e+00</td>\n",
              "    </tr>\n",
              "    <tr>\n",
              "      <th>25%</th>\n",
              "      <td>2.214278e+07</td>\n",
              "      <td>-1.000000e+00</td>\n",
              "      <td>3.211795e+08</td>\n",
              "      <td>2.689298e+06</td>\n",
              "      <td>1.000000e+00</td>\n",
              "      <td>1.800000e+01</td>\n",
              "      <td>0.000000e+00</td>\n",
              "    </tr>\n",
              "    <tr>\n",
              "      <th>50%</th>\n",
              "      <td>2.395336e+07</td>\n",
              "      <td>-1.000000e+00</td>\n",
              "      <td>1.904221e+09</td>\n",
              "      <td>2.791091e+08</td>\n",
              "      <td>1.000000e+00</td>\n",
              "      <td>4.300000e+01</td>\n",
              "      <td>1.000000e+00</td>\n",
              "    </tr>\n",
              "    <tr>\n",
              "      <th>75%</th>\n",
              "      <td>2.577340e+07</td>\n",
              "      <td>2.793157e+06</td>\n",
              "      <td>5.670781e+09</td>\n",
              "      <td>1.378926e+14</td>\n",
              "      <td>1.000000e+00</td>\n",
              "      <td>1.130000e+02</td>\n",
              "      <td>5.000000e+00</td>\n",
              "    </tr>\n",
              "    <tr>\n",
              "      <th>max</th>\n",
              "      <td>2.763710e+07</td>\n",
              "      <td>4.510629e+06</td>\n",
              "      <td>9.001013e+13</td>\n",
              "      <td>1.015017e+16</td>\n",
              "      <td>3.000000e+00</td>\n",
              "      <td>4.264745e+06</td>\n",
              "      <td>4.889530e+05</td>\n",
              "    </tr>\n",
              "  </tbody>\n",
              "</table>\n",
              "</div>"
            ],
            "text/plain": [
              "                sid   sid_profile    profile_id   location_id     post_type  \\\n",
              "count  7.000000e+06  7.000000e+06  7.000000e+06  7.000000e+06  7.000000e+06   \n",
              "mean   2.370762e+07  1.039179e+06  3.268323e+09  2.147083e+14  1.041041e+00   \n",
              "std    2.963685e+06  1.412346e+06  5.901883e+10  4.988312e+14  1.983912e-01   \n",
              "min    5.183000e+03 -1.000000e+00 -1.000000e+00 -1.000000e+00  1.000000e+00   \n",
              "25%    2.214278e+07 -1.000000e+00  3.211795e+08  2.689298e+06  1.000000e+00   \n",
              "50%    2.395336e+07 -1.000000e+00  1.904221e+09  2.791091e+08  1.000000e+00   \n",
              "75%    2.577340e+07  2.793157e+06  5.670781e+09  1.378926e+14  1.000000e+00   \n",
              "max    2.763710e+07  4.510629e+06  9.001013e+13  1.015017e+16  3.000000e+00   \n",
              "\n",
              "        numbr_likes  number_comments  \n",
              "count  7.000000e+06     7.000000e+06  \n",
              "mean   2.695348e+02     6.618316e+00  \n",
              "std    5.738052e+03     2.127982e+02  \n",
              "min    0.000000e+00     0.000000e+00  \n",
              "25%    1.800000e+01     0.000000e+00  \n",
              "50%    4.300000e+01     1.000000e+00  \n",
              "75%    1.130000e+02     5.000000e+00  \n",
              "max    4.264745e+06     4.889530e+05  "
            ]
          },
          "execution_count": 74,
          "metadata": {},
          "output_type": "execute_result"
        }
      ],
      "source": [
        "c6_2.describe()"
      ]
    },
    {
      "cell_type": "code",
      "execution_count": null,
      "id": "99e621c1",
      "metadata": {
        "id": "99e621c1",
        "outputId": "c117f01f-1dd6-4429-9c00-839925803e84"
      },
      "outputs": [
        {
          "data": {
            "text/html": [
              "<div>\n",
              "<style scoped>\n",
              "    .dataframe tbody tr th:only-of-type {\n",
              "        vertical-align: middle;\n",
              "    }\n",
              "\n",
              "    .dataframe tbody tr th {\n",
              "        vertical-align: top;\n",
              "    }\n",
              "\n",
              "    .dataframe thead th {\n",
              "        text-align: right;\n",
              "    }\n",
              "</style>\n",
              "<table border=\"1\" class=\"dataframe\">\n",
              "  <thead>\n",
              "    <tr style=\"text-align: right;\">\n",
              "      <th></th>\n",
              "      <th>sid</th>\n",
              "      <th>sid_profile</th>\n",
              "      <th>profile_id</th>\n",
              "      <th>location_id</th>\n",
              "      <th>post_type</th>\n",
              "      <th>numbr_likes</th>\n",
              "      <th>number_comments</th>\n",
              "    </tr>\n",
              "  </thead>\n",
              "  <tbody>\n",
              "    <tr>\n",
              "      <th>count</th>\n",
              "      <td>7.101970e+05</td>\n",
              "      <td>7.101970e+05</td>\n",
              "      <td>7.101970e+05</td>\n",
              "      <td>7.101970e+05</td>\n",
              "      <td>710197.000000</td>\n",
              "      <td>7.101970e+05</td>\n",
              "      <td>710197.000000</td>\n",
              "    </tr>\n",
              "    <tr>\n",
              "      <th>mean</th>\n",
              "      <td>2.770487e+07</td>\n",
              "      <td>2.161962e+05</td>\n",
              "      <td>2.936467e+09</td>\n",
              "      <td>2.869291e+14</td>\n",
              "      <td>1.059250</td>\n",
              "      <td>3.428595e+02</td>\n",
              "      <td>7.514874</td>\n",
              "    </tr>\n",
              "    <tr>\n",
              "      <th>std</th>\n",
              "      <td>1.984326e+06</td>\n",
              "      <td>7.876297e+05</td>\n",
              "      <td>3.435125e+09</td>\n",
              "      <td>5.573537e+14</td>\n",
              "      <td>0.236092</td>\n",
              "      <td>6.038250e+03</td>\n",
              "      <td>99.296103</td>\n",
              "    </tr>\n",
              "    <tr>\n",
              "      <th>min</th>\n",
              "      <td>1.205140e+05</td>\n",
              "      <td>-1.000000e+00</td>\n",
              "      <td>-1.000000e+00</td>\n",
              "      <td>-1.000000e+00</td>\n",
              "      <td>1.000000</td>\n",
              "      <td>0.000000e+00</td>\n",
              "      <td>0.000000</td>\n",
              "    </tr>\n",
              "    <tr>\n",
              "      <th>25%</th>\n",
              "      <td>2.779596e+07</td>\n",
              "      <td>-1.000000e+00</td>\n",
              "      <td>2.746672e+08</td>\n",
              "      <td>2.557190e+08</td>\n",
              "      <td>1.000000</td>\n",
              "      <td>2.000000e+01</td>\n",
              "      <td>0.000000</td>\n",
              "    </tr>\n",
              "    <tr>\n",
              "      <th>50%</th>\n",
              "      <td>2.799300e+07</td>\n",
              "      <td>-1.000000e+00</td>\n",
              "      <td>1.492535e+09</td>\n",
              "      <td>7.270096e+08</td>\n",
              "      <td>1.000000</td>\n",
              "      <td>4.800000e+01</td>\n",
              "      <td>2.000000</td>\n",
              "    </tr>\n",
              "    <tr>\n",
              "      <th>75%</th>\n",
              "      <td>2.818228e+07</td>\n",
              "      <td>-1.000000e+00</td>\n",
              "      <td>4.681016e+09</td>\n",
              "      <td>2.884837e+14</td>\n",
              "      <td>1.000000</td>\n",
              "      <td>1.280000e+02</td>\n",
              "      <td>5.000000</td>\n",
              "    </tr>\n",
              "    <tr>\n",
              "      <th>max</th>\n",
              "      <td>2.841248e+07</td>\n",
              "      <td>4.510581e+06</td>\n",
              "      <td>1.423771e+10</td>\n",
              "      <td>1.015015e+16</td>\n",
              "      <td>2.000000</td>\n",
              "      <td>1.884010e+06</td>\n",
              "      <td>34243.000000</td>\n",
              "    </tr>\n",
              "  </tbody>\n",
              "</table>\n",
              "</div>"
            ],
            "text/plain": [
              "                sid   sid_profile    profile_id   location_id      post_type  \\\n",
              "count  7.101970e+05  7.101970e+05  7.101970e+05  7.101970e+05  710197.000000   \n",
              "mean   2.770487e+07  2.161962e+05  2.936467e+09  2.869291e+14       1.059250   \n",
              "std    1.984326e+06  7.876297e+05  3.435125e+09  5.573537e+14       0.236092   \n",
              "min    1.205140e+05 -1.000000e+00 -1.000000e+00 -1.000000e+00       1.000000   \n",
              "25%    2.779596e+07 -1.000000e+00  2.746672e+08  2.557190e+08       1.000000   \n",
              "50%    2.799300e+07 -1.000000e+00  1.492535e+09  7.270096e+08       1.000000   \n",
              "75%    2.818228e+07 -1.000000e+00  4.681016e+09  2.884837e+14       1.000000   \n",
              "max    2.841248e+07  4.510581e+06  1.423771e+10  1.015015e+16       2.000000   \n",
              "\n",
              "        numbr_likes  number_comments  \n",
              "count  7.101970e+05    710197.000000  \n",
              "mean   3.428595e+02         7.514874  \n",
              "std    6.038250e+03        99.296103  \n",
              "min    0.000000e+00         0.000000  \n",
              "25%    2.000000e+01         0.000000  \n",
              "50%    4.800000e+01         2.000000  \n",
              "75%    1.280000e+02         5.000000  \n",
              "max    1.884010e+06     34243.000000  "
            ]
          },
          "execution_count": 75,
          "metadata": {},
          "output_type": "execute_result"
        }
      ],
      "source": [
        "c7_2.describe()"
      ]
    },
    {
      "cell_type": "markdown",
      "id": "2eeec23b",
      "metadata": {
        "id": "2eeec23b"
      },
      "source": [
        "From the tables above we can observe some useful statistics about the quantitative variables. How we could expect, we can see from the median of the number of likes and of the number of comments that, generally, there are more likes than comments, also if in some chunks we obtain the inverted information by observing the means. This could be explain like before by the fact that the median is more consistent than the mean"
      ]
    },
    {
      "cell_type": "markdown",
      "id": "cd63c4b8",
      "metadata": {
        "id": "cd63c4b8"
      },
      "source": [
        "# RQ3"
      ]
    },
    {
      "cell_type": "code",
      "execution_count": null,
      "id": "aa619dc7",
      "metadata": {
        "id": "aa619dc7"
      },
      "outputs": [],
      "source": [
        "from datetime import datetime as dt\n",
        "from collections import Counter \n",
        "from tqdm import tqdm"
      ]
    },
    {
      "cell_type": "markdown",
      "id": "dcd1a604",
      "metadata": {
        "id": "dcd1a604"
      },
      "source": [
        "#### 1. What is the most common time in which users publish their posts?"
      ]
    },
    {
      "cell_type": "code",
      "execution_count": null,
      "id": "de9e53c6",
      "metadata": {
        "colab": {
          "base_uri": "https://localhost:8080/"
        },
        "id": "de9e53c6",
        "outputId": "c1bba41b-e099-4c0a-8baa-62d438e8f1b8"
      },
      "outputs": [
        {
          "name": "stderr",
          "output_type": "stream",
          "text": [
            "86it [04:46,  3.33s/it]\n"
          ]
        },
        {
          "name": "stdout",
          "output_type": "stream",
          "text": [
            "[('21:00:09', 928)]\n"
          ]
        }
      ],
      "source": [
        "l = []\n",
        "\n",
        "#let's divide the timestamps' column in chunks of size 500000 so that it's faster to read the 42million rows\n",
        "for chunk in tqdm(pd.read_csv('instagram_posts.zip', chunksize=500000, usecols=['cts'],  sep='\\t')): \n",
        "    pattern = '%Y-%m-%d %H:%M:%S'\n",
        "    data = pd.to_datetime(chunk['cts'], format=pattern).dt.time.dropna(axis = 0)   #transfroms the timestamps in datetime objects and drops NaT objects\n",
        "    for elem in data:   #iterates over the elements of a chunk (which are now in the format year-month-day hour:minute:second) and inserts them in a list of strings\n",
        "        l.append(str(elem))  \n",
        "        \n",
        "c = Counter(l)    #counter creates a dictionary where each key's a time and the corresponding value is the number of posts in that specific time \n",
        "print(c.most_common(1))    #returns the highest value which is the most common time "
      ]
    },
    {
      "cell_type": "markdown",
      "id": "ce9858e5",
      "metadata": {
        "id": "ce9858e5"
      },
      "source": [
        "#### 2. Create a function that receives a time intervals list as a parameter and returns a plot with the number of posts for each given interval."
      ]
    },
    {
      "cell_type": "code",
      "execution_count": null,
      "id": "cce0a560",
      "metadata": {
        "id": "cce0a560"
      },
      "outputs": [],
      "source": [
        "from matplotlib import figure\n",
        "\n",
        "def plot_n_posts(intervals):\n",
        "    my_dict = {interval: 0 for interval in intervals} # we will use this dictionary to collect the datas for the plot, namely the number of posts for each given interval\n",
        "    \n",
        "    for chunk in tqdm(pd.read_csv('instagram_posts.zip', chunksize=500000, usecols=['cts'],  sep='\\t')):\n",
        "        data = pd.to_datetime(chunk['cts'], format='%Y-%m-%d %H:%M:%S').dt.time.dropna(axis = 0) # transfroms the timestamps in datetime objects and drops NaT objects\n",
        "        data = Counter(data) # this counter dictionary is very useful because avoids to check the same hour more than once -since there are posts posted in the...\n",
        "                             # ...same exact moment-  without losing track of how many times it repeats in the dataset \n",
        "\n",
        "        for elem in data.keys(): \n",
        "            for interval in intervals:\n",
        "                start = dt.strptime(interval[0:8], '%H:%M:%S') # we convert to datetime objects the initial and the final time of the current interval, in order to check the...\n",
        "                end = dt.strptime(interval[9:18], '%H:%M:%S')  # ...interval a certain post's time belongs to\n",
        "                if (elem.hour > start.hour) and (elem.minute > start.minute) and (elem.second > start.second) and (elem.hour < end.hour) and (elem.minute < end.minute) and (elem.second < end.second):\n",
        "                    my_dict[interval] += data[elem] \n",
        "                    break\n",
        "        del chunk #just to keep the ram as clean as possible\n",
        "    \n",
        "    #plot\n",
        "    plt.figure(figsize=(18,6)) \n",
        "    plt.bar(list(my_dict.keys()), list(my_dict.values()), color='purple',width=0.4)\n",
        "    plt.xlabel(\"Time intervals\")\n",
        "    plt.ylabel(\"No. of posts\")\n",
        "    plt.title(\"Number of posts for each given interval\")\n",
        "    plt.show()\n",
        "    return "
      ]
    },
    {
      "cell_type": "markdown",
      "id": "ae876dc5",
      "metadata": {
        "id": "ae876dc5"
      },
      "source": [
        "#### 3. Use the function that you created in the previous literal to plot the number of posts between the following time intervals:"
      ]
    },
    {
      "cell_type": "code",
      "execution_count": null,
      "id": "0217b023",
      "metadata": {
        "id": "0217b023",
        "outputId": "776a235e-e83c-4afd-bd14-5a71351177fa"
      },
      "outputs": [
        {
          "name": "stderr",
          "output_type": "stream",
          "text": [
            "86it [12:12,  8.52s/it]\n"
          ]
        },
        {
          "data": {
            "image/png": "[encoded data removed]",
            "text/plain": [
              "<Figure size 1296x432 with 1 Axes>"
            ]
          },
          "metadata": {
            "needs_background": "light"
          },
          "output_type": "display_data"
        }
      ],
      "source": [
        "time_intervals = ['06:00:00-10:59:59', '11:00:00-13:59:59', '14:00:00-16:59:59', '17:00:00-19:59:59', '20:00:00-23:59:59', '00:00:00-02:59:59', '03:00:00-05:59:59']\n",
        "plot_n_posts(time_intervals)"
      ]
    },
    {
      "cell_type": "markdown",
      "id": "c73f6ff2",
      "metadata": {
        "id": "c73f6ff2"
      },
      "source": [
        "# RQ5"
      ]
    },
    {
      "cell_type": "code",
      "execution_count": 1,
      "id": "8a2e2444",
      "metadata": {
        "id": "8a2e2444"
      },
      "outputs": [],
      "source": [
        "import matplotlib.pyplot as plt\n",
        "from tqdm import tqdm"
      ]
    },
    {
      "cell_type": "markdown",
      "id": "018043c7",
      "metadata": {
        "id": "018043c7"
      },
      "source": [
        "####  1. Plot the top 10 most popular users in terms of followers and their number of posts."
      ]
    },
    {
      "cell_type": "code",
      "execution_count": 4,
      "id": "2f1ca30f",
      "metadata": {
        "colab": {
          "base_uri": "https://localhost:8080/",
          "height": 566
        },
        "id": "2f1ca30f",
        "outputId": "3a0cc092-3ad9-4cd1-fa68-cd6521d6006c"
      },
      "outputs": [
        {
          "output_type": "stream",
          "name": "stdout",
          "text": [
            "         profile_id     profile_name    followers  n_posts\n",
            "2880218    25025320        instagram  285457645.0   5760.0\n",
            "2582507     3416684  victoriassecret   65269440.0   7355.0\n",
            "3820939    20824486              nba   35339708.0  28816.0\n",
            "701965    187619120     louisvuitton   30689316.0   3352.0\n",
            "2414951  2125506698    buzzfeedtasty   30246783.0   2791.0\n",
            "2785241   496865116   andresiniesta8   29542143.0    990.0\n",
            "333193     23410080               hm   29176804.0   4566.0\n",
            "3934581    24239929  princessyahrini   29042823.0   4719.0\n",
            "1311970    50417061     danbilzerian   26476004.0   1311.0\n",
            "1703764   907025384      akshaykumar   26252169.0   1173.0\n"
          ]
        },
        {
          "output_type": "display_data",
          "data": {
            "text/plain": [
              "<Figure size 1008x432 with 1 Axes>"
            ],
            "image/png": "[encoded data removed]"
          },
          "metadata": {
            "needs_background": "light"
          }
        }
      ],
      "source": [
        "profiles = pd.read_csv(\"https://adm2022.s3.amazonaws.com/instagram_profiles.zip\", sep='\\t', usecols=['profile_id','followers', 'profile_name', 'n_posts'],dtype={'profile_id': 'string'})\n",
        "top10 = profiles.sort_values(by='followers', ascending=False).head(10) #we sort the profiles in descending order with respect to the followers and select the top 10 most followed \n",
        "del profiles  \n",
        "\n",
        "IDs =top10.profile_id #creates a series with the profile_id of the top ten users (for the future)\n",
        "\n",
        "print(top10[['profile_id', 'profile_name', 'followers', 'n_posts']])\n",
        "\n",
        "#plot\n",
        "plt.figure(figsize=(14,6)) \n",
        "plt.bar(list(top10['profile_name']), list(top10['n_posts']), color='purple', width=0.4)\n",
        "plt.ylabel(\"No. of posts\")\n",
        "plt.show()"
      ]
    },
    {
      "cell_type": "markdown",
      "id": "e3a09c46",
      "metadata": {
        "id": "e3a09c46"
      },
      "source": [
        "#### 2. Who is the most influential user?"
      ]
    },
    {
      "cell_type": "code",
      "execution_count": null,
      "id": "9cd8ba9b",
      "metadata": {
        "colab": {
          "base_uri": "https://localhost:8080/"
        },
        "id": "9cd8ba9b",
        "outputId": "8346df57-2e6d-48e0-abd6-14d183a0ec9d"
      },
      "outputs": [
        {
          "name": "stdout",
          "output_type": "stream",
          "text": [
            "25025320\n"
          ]
        }
      ],
      "source": [
        "# I consider the most influencial as the one who has a lot of followers but also has more interactions with the others (likes, comments)\n",
        "\n",
        "posts = pd.read_csv('https://adm2022.s3.amazonaws.com/instagram_posts.zip', sep='\\t', usecols=['profile_id', 'numbr_likes', 'number_comments'], dtype={'profile_id': 'string'})\n",
        "\n",
        "likes_sum = []\n",
        "comments_sum = []\n",
        "interactions = [] #it's a matrix such that the first column will contain the profile ids of the top 10 users and the second column will contain the sum of likes and...\n",
        "                  #... comments of the posts of each user\n",
        "\n",
        "for i in IDs:\n",
        "    likes_sum.append(posts[posts.profile_id == i].numbr_likes.sum())           #each element of the list is the sum of the likes received by a user  \n",
        "    comments_sum.append(posts[posts.profile_id == i].number_comments.sum())    #each element of the list is the sum of the comments received by a user  \n",
        "    interactions.append([i, 0])                               \n",
        "\n",
        "del posts\n",
        "\n",
        "for i in range(10):\n",
        "    interactions[i][1] = likes_sum[i] + comments_sum[i]\n",
        "\n",
        "interactions = sorted(interactions, key=lambda x: x[1], reverse = True) # we sort the matrix in descending order with respect to the second column, hence to the number of interactions\n",
        "print(interactions[0][0]) #we print the id of the user with more interactions"
      ]
    },
    {
      "cell_type": "markdown",
      "id": "531d5eb7",
      "metadata": {
        "id": "531d5eb7"
      },
      "source": [
        "#### 3. Have they posted anything with tagged locations? Extract the most frequent areas on their posts and plot the number of times each city has been visited."
      ]
    },
    {
      "cell_type": "code",
      "execution_count": null,
      "id": "35545c92",
      "metadata": {
        "colab": {
          "base_uri": "https://localhost:8080/",
          "height": 516
        },
        "id": "35545c92",
        "outputId": "6f59e7cc-fe40-450b-9fa7-c09b8895799a"
      },
      "outputs": [
        {
          "name": "stderr",
          "output_type": "stream",
          "text": [
            "86it [04:22,  3.05s/it]\n"
          ]
        },
        {
          "data": {
            "image/png": "[encoded data removed]",
            "text/plain": [
              "<Figure size 1440x576 with 1 Axes>"
            ]
          },
          "metadata": {
            "needs_background": "light"
          },
          "output_type": "display_data"
        }
      ],
      "source": [
        "from collections import Counter \n",
        "\n",
        "locations = pd.read_csv('https://adm2022.s3.amazonaws.com/instagram_locations.zip', sep='\\t', usecols=['id', 'name'], dtype={'id': 'string'})\n",
        "\n",
        "# since we will work with more than one dataset, we initialize an empy dataset to store info from different datasets in just one place\n",
        "empty = pd.DataFrame(columns = ['profile_id','location_id']) \n",
        "\n",
        "for chunk in tqdm(pd.read_csv('https://adm2022.s3.amazonaws.com/instagram_posts.zip', chunksize=500000, sep='\\t', usecols=['profile_id', 'location_id'], dtype={'profile_id': 'string', 'location_id': 'string'})):\n",
        "    # we merge the dataset instagram_posts and IDs to obtain a dataset that contains only info about the posts of the top10 users\n",
        "    merged = pd.merge(chunk.dropna(), IDs, how ='inner', on =['profile_id', 'profile_id']) \n",
        "    # and we store it in the empty dataframe\n",
        "    empty = pd.concat([empty, merged]) \n",
        "    \n",
        "c = Counter(list(empty['location_id'])) # we use this dictionary to count how many times a certain city has been visited \n",
        "\n",
        "top_places = c.most_common(10) # we select the 10 most frequent areas \n",
        "\n",
        "l = [elem[0] for elem in top_places]   # l is a list with the first element of every tuple in top_places, hence the location_id of the 10 most frequent areas\n",
        "m = [elem[1] for elem in top_places]   # m is a list with the second element of every tuple in top_places, hence the number of times a city has been visited\n",
        "\n",
        "# Now, in order to have a clearer plot we have to associate the name of the place to each location_id, so we create a new empty dataframe with just one column and fill it \n",
        "# with the info stored in l. Since l is a list and the command pd.concat works only with pd.DataFrame objects we have to convert l to a dataframe through the \n",
        "#command pd.DataFrame({'id':l})\n",
        "empty2 = pd.DataFrame(columns = ['id']) \n",
        "empty2 = pd.concat([empty2, pd.DataFrame({'id':l})]) \n",
        "\n",
        "# Now we can merge the dataset with the location ids of our places of interest with the dataset instagram_locations to find out the real names of the top 10 places for the plot\n",
        "top_places_names = pd.merge(empty2, locations, how = 'inner', on =['id', 'id'] )\n",
        "\n",
        "# Finally we can plot \n",
        "plt.figure(figsize=(20,8)) \n",
        "plt.bar(list(top_places_names['name']), m, color='purple',width=0.4)\n",
        "plt.ylabel(\"No. of visits\")\n",
        "plt.title(\"Number of times each city has been visited\")\n",
        "plt.show()"
      ]
    },
    {
      "cell_type": "markdown",
      "id": "a4fe74c1",
      "metadata": {
        "id": "a4fe74c1"
      },
      "source": [
        "#### 4. How many pictures-only posts have they published? How many reels? (only videos) and how many with both contents? Provide the number as percentages and interpret those figures."
      ]
    },
    {
      "cell_type": "code",
      "execution_count": null,
      "id": "291c19dc",
      "metadata": {
        "id": "291c19dc",
        "outputId": "15a0ebc6-561e-4baf-c6dd-22b39c06f5f6"
      },
      "outputs": [
        {
          "name": "stderr",
          "output_type": "stream",
          "text": [
            "86it [04:13,  2.95s/it]"
          ]
        },
        {
          "name": "stdout",
          "output_type": "stream",
          "text": [
            "Pictures only:  128\n",
            "Videos only:  13\n",
            "Both contents:  0\n"
          ]
        },
        {
          "name": "stderr",
          "output_type": "stream",
          "text": [
            "\n"
          ]
        },
        {
          "data": {
            "image/png": "[encoded data removed]",
            "text/plain": [
              "<Figure size 432x288 with 1 Axes>"
            ]
          },
          "metadata": {},
          "output_type": "display_data"
        }
      ],
      "source": [
        "from collections import Counter \n",
        "import numpy as np\n",
        "\n",
        "# The idea behind the first part of the code is just the same as the previous code\n",
        "empty = pd.DataFrame(columns = ['profile_id', 'post_type'])\n",
        "\n",
        "for chunk in tqdm(pd.read_csv('instagram_posts.zip', chunksize=500000, sep='\\t', usecols=['profile_id', 'post_type'], dtype={'profile_id': 'string', 'post_type': 'string'})):\n",
        "    merged = pd.merge(chunk.dropna(), IDs, how ='inner', on =['profile_id', 'profile_id'])\n",
        "    empty = pd.concat([empty, merged])\n",
        "    \n",
        "c = Counter(list(empty['post_type'])) # we use this dictionary to count how many posts with only photos, how many with only videos and how many with both contents \n",
        "tot = c['1'] + c['2'] + c['3']        \n",
        "percentages = np.array([(c['1'] / tot), (c['2'] / tot)]) #it's an array where the first component is the percentage of posts with only photos and the second\n",
        "                                                         #...is the percentage of posts with only video. There are no posts with both contents. \n",
        "print(\"Pictures only: \", c['1'])\n",
        "print(\"Videos only: \", c['2'])\n",
        "print(\"Both contents: \", c['3'])\n",
        "\n",
        "#plot\n",
        "plt.pie(percentages, labels = ['Pictures only', 'Videos only'], autopct='%1.1f%%')\n",
        "plt.title(\"Percentages\")\n",
        "plt.show() "
      ]
    },
    {
      "cell_type": "markdown",
      "id": "77a11ab2",
      "metadata": {
        "id": "77a11ab2"
      },
      "source": [
        "#### 5. How many \"likes\" and comments did posts with only pictures receive? How about videos and mixed posts? Try to provide the average numbers and confront them with their followers amount, explaining what you can say from that comparison."
      ]
    },
    {
      "cell_type": "code",
      "execution_count": 12,
      "id": "188a2053",
      "metadata": {
        "id": "188a2053",
        "outputId": "d5d8a783-f3ba-495a-bf5f-a27a7b21479f",
        "colab": {
          "base_uri": "https://localhost:8080/"
        }
      },
      "outputs": [
        {
          "output_type": "stream",
          "name": "stderr",
          "text": [
            "86it [04:34,  3.19s/it]\n"
          ]
        }
      ],
      "source": [
        "import numpy as np\n",
        "\n",
        "# The idea behind the first part of the code is just the same as the previous code\n",
        "empty = pd.DataFrame(columns = ['profile_id', 'post_type', 'numbr_likes', 'number_comments'])\n",
        "\n",
        "for chunk in tqdm(pd.read_csv('https://adm2022.s3.amazonaws.com/instagram_posts.zip', chunksize=500000, sep='\\t', usecols=['profile_id', 'post_type', 'numbr_likes', 'number_comments'], dtype={'profile_id': 'string', 'post_type': 'string'})):\n",
        "    merged = pd.merge(chunk.dropna(), top10[['profile_id', 'profile_name', 'followers']], how ='inner', on =['profile_id', 'profile_id'])\n",
        "    empty = pd.concat([empty, merged])\n",
        "    del chunk\n",
        "\n",
        "#Now we split the dataset in two different datasets, one with info about the posts with only photos and the other with info about the posts with only video \n",
        "df1 = empty[empty.post_type == '1']\n",
        "df2 = empty[empty.post_type == '2']\n",
        "\n",
        "#Now we compute the average number of likes and comments for the posts of the two dataset for each single profile (and that's why we use the groupby command)\n",
        "df1 = df1[['profile_name', 'numbr_likes', 'number_comments', 'followers']].groupby(['profile_name']).agg(np.average)\n",
        "df2 = df2[['profile_name', 'numbr_likes', 'number_comments', 'followers']].groupby(['profile_name']).agg(np.average) \n",
        "\n",
        "#We add to both the new datasets two columns, one with the average number of likes in regard to the followers and one with the average number of likes in regard to the followers\n",
        "df1['average_likes/followers'] = df1['numbr_likes']/df1['followers']\n",
        "df1['average_comments/followers'] = df1['number_comments']/df1['followers']\n",
        "\n",
        "df2['average_likes/followers'] = df2['numbr_likes']/df2['followers']\n",
        "df2['average_comments/followers'] = df2['number_comments']/df2['followers']"
      ]
    },
    {
      "cell_type": "code",
      "source": [
        "df1 "
      ],
      "metadata": {
        "colab": {
          "base_uri": "https://localhost:8080/",
          "height": 394
        },
        "id": "h944DOeh4BI1",
        "outputId": "653fa6a8-7a06-4b9f-bf81-3c376f0213ea"
      },
      "id": "h944DOeh4BI1",
      "execution_count": 13,
      "outputs": [
        {
          "output_type": "execute_result",
          "data": {
            "text/plain": [
              "                  numbr_likes  number_comments    followers  \\\n",
              "profile_name                                                  \n",
              "akshaykumar      1.027102e+06      6582.461538   26252169.0   \n",
              "andresiniesta8   4.730227e+05      2237.083333   29542143.0   \n",
              "buzzfeedtasty    1.008629e+05       963.153846   30246783.0   \n",
              "danbilzerian     8.631133e+05      8594.733333   26476004.0   \n",
              "hm               8.121350e+04       365.000000   29176804.0   \n",
              "instagram        9.059335e+05      6703.290323  285457645.0   \n",
              "louisvuitton     1.868570e+05       867.000000   30689316.0   \n",
              "nba              2.422357e+05      1087.846154   35339708.0   \n",
              "princessyahrini  1.418733e+05       757.434783   29042823.0   \n",
              "victoriassecret  2.307498e+05       438.400000   65269440.0   \n",
              "\n",
              "                 average_likes/followers  average_comments/followers  \n",
              "profile_name                                                          \n",
              "akshaykumar                     0.039124                    0.000251  \n",
              "andresiniesta8                  0.016012                    0.000076  \n",
              "buzzfeedtasty                   0.003335                    0.000032  \n",
              "danbilzerian                    0.032600                    0.000325  \n",
              "hm                              0.002783                    0.000013  \n",
              "instagram                       0.003174                    0.000023  \n",
              "louisvuitton                    0.006089                    0.000028  \n",
              "nba                             0.006854                    0.000031  \n",
              "princessyahrini                 0.004885                    0.000026  \n",
              "victoriassecret                 0.003535                    0.000007  "
            ],
            "text/html": [
              "\n",
              "  <div id=\"df-d2d67818-152e-446c-886d-eb00421b9684\">\n",
              "    <div class=\"colab-df-container\">\n",
              "      <div>\n",
              "<style scoped>\n",
              "    .dataframe tbody tr th:only-of-type {\n",
              "        vertical-align: middle;\n",
              "    }\n",
              "\n",
              "    .dataframe tbody tr th {\n",
              "        vertical-align: top;\n",
              "    }\n",
              "\n",
              "    .dataframe thead th {\n",
              "        text-align: right;\n",
              "    }\n",
              "</style>\n",
              "<table border=\"1\" class=\"dataframe\">\n",
              "  <thead>\n",
              "    <tr style=\"text-align: right;\">\n",
              "      <th></th>\n",
              "      <th>numbr_likes</th>\n",
              "      <th>number_comments</th>\n",
              "      <th>followers</th>\n",
              "      <th>average_likes/followers</th>\n",
              "      <th>average_comments/followers</th>\n",
              "    </tr>\n",
              "    <tr>\n",
              "      <th>profile_name</th>\n",
              "      <th></th>\n",
              "      <th></th>\n",
              "      <th></th>\n",
              "      <th></th>\n",
              "      <th></th>\n",
              "    </tr>\n",
              "  </thead>\n",
              "  <tbody>\n",
              "    <tr>\n",
              "      <th>akshaykumar</th>\n",
              "      <td>1.027102e+06</td>\n",
              "      <td>6582.461538</td>\n",
              "      <td>26252169.0</td>\n",
              "      <td>0.039124</td>\n",
              "      <td>0.000251</td>\n",
              "    </tr>\n",
              "    <tr>\n",
              "      <th>andresiniesta8</th>\n",
              "      <td>4.730227e+05</td>\n",
              "      <td>2237.083333</td>\n",
              "      <td>29542143.0</td>\n",
              "      <td>0.016012</td>\n",
              "      <td>0.000076</td>\n",
              "    </tr>\n",
              "    <tr>\n",
              "      <th>buzzfeedtasty</th>\n",
              "      <td>1.008629e+05</td>\n",
              "      <td>963.153846</td>\n",
              "      <td>30246783.0</td>\n",
              "      <td>0.003335</td>\n",
              "      <td>0.000032</td>\n",
              "    </tr>\n",
              "    <tr>\n",
              "      <th>danbilzerian</th>\n",
              "      <td>8.631133e+05</td>\n",
              "      <td>8594.733333</td>\n",
              "      <td>26476004.0</td>\n",
              "      <td>0.032600</td>\n",
              "      <td>0.000325</td>\n",
              "    </tr>\n",
              "    <tr>\n",
              "      <th>hm</th>\n",
              "      <td>8.121350e+04</td>\n",
              "      <td>365.000000</td>\n",
              "      <td>29176804.0</td>\n",
              "      <td>0.002783</td>\n",
              "      <td>0.000013</td>\n",
              "    </tr>\n",
              "    <tr>\n",
              "      <th>instagram</th>\n",
              "      <td>9.059335e+05</td>\n",
              "      <td>6703.290323</td>\n",
              "      <td>285457645.0</td>\n",
              "      <td>0.003174</td>\n",
              "      <td>0.000023</td>\n",
              "    </tr>\n",
              "    <tr>\n",
              "      <th>louisvuitton</th>\n",
              "      <td>1.868570e+05</td>\n",
              "      <td>867.000000</td>\n",
              "      <td>30689316.0</td>\n",
              "      <td>0.006089</td>\n",
              "      <td>0.000028</td>\n",
              "    </tr>\n",
              "    <tr>\n",
              "      <th>nba</th>\n",
              "      <td>2.422357e+05</td>\n",
              "      <td>1087.846154</td>\n",
              "      <td>35339708.0</td>\n",
              "      <td>0.006854</td>\n",
              "      <td>0.000031</td>\n",
              "    </tr>\n",
              "    <tr>\n",
              "      <th>princessyahrini</th>\n",
              "      <td>1.418733e+05</td>\n",
              "      <td>757.434783</td>\n",
              "      <td>29042823.0</td>\n",
              "      <td>0.004885</td>\n",
              "      <td>0.000026</td>\n",
              "    </tr>\n",
              "    <tr>\n",
              "      <th>victoriassecret</th>\n",
              "      <td>2.307498e+05</td>\n",
              "      <td>438.400000</td>\n",
              "      <td>65269440.0</td>\n",
              "      <td>0.003535</td>\n",
              "      <td>0.000007</td>\n",
              "    </tr>\n",
              "  </tbody>\n",
              "</table>\n",
              "</div>\n",
              "      <button class=\"colab-df-convert\" onclick=\"convertToInteractive('df-d2d67818-152e-446c-886d-eb00421b9684')\"\n",
              "              title=\"Convert this dataframe to an interactive table.\"\n",
              "              style=\"display:none;\">\n",
              "        \n",
              "  <svg xmlns=\"http://www.w3.org/2000/svg\" height=\"24px\"viewBox=\"0 0 24 24\"\n",
              "       width=\"24px\">\n",
              "    <path d=\"M0 0h24v24H0V0z\" fill=\"none\"/>\n",
              "    <path d=\"M18.56 5.44l.94 2.06.94-2.06 2.06-.94-2.06-.94-.94-2.06-.94 2.06-2.06.94zm-11 1L8.5 8.5l.94-2.06 2.06-.94-2.06-.94L8.5 2.5l-.94 2.06-2.06.94zm10 10l.94 2.06.94-2.06 2.06-.94-2.06-.94-.94-2.06-.94 2.06-2.06.94z\"/><path d=\"M17.41 7.96l-1.37-1.37c-.4-.4-.92-.59-1.43-.59-.52 0-1.04.2-1.43.59L10.3 9.45l-7.72 7.72c-.78.78-.78 2.05 0 2.83L4 21.41c.39.39.9.59 1.41.59.51 0 1.02-.2 1.41-.59l7.78-7.78 2.81-2.81c.8-.78.8-2.07 0-2.86zM5.41 20L4 18.59l7.72-7.72 1.47 1.35L5.41 20z\"/>\n",
              "  </svg>\n",
              "      </button>\n",
              "      \n",
              "  <style>\n",
              "    .colab-df-container {\n",
              "      display:flex;\n",
              "      flex-wrap:wrap;\n",
              "      gap: 12px;\n",
              "    }\n",
              "\n",
              "    .colab-df-convert {\n",
              "      background-color: #E8F0FE;\n",
              "      border: none;\n",
              "      border-radius: 50%;\n",
              "      cursor: pointer;\n",
              "      display: none;\n",
              "      fill: #1967D2;\n",
              "      height: 32px;\n",
              "      padding: 0 0 0 0;\n",
              "      width: 32px;\n",
              "    }\n",
              "\n",
              "    .colab-df-convert:hover {\n",
              "      background-color: #E2EBFA;\n",
              "      box-shadow: 0px 1px 2px rgba(60, 64, 67, 0.3), 0px 1px 3px 1px rgba(60, 64, 67, 0.15);\n",
              "      fill: #174EA6;\n",
              "    }\n",
              "\n",
              "    [theme=dark] .colab-df-convert {\n",
              "      background-color: #3B4455;\n",
              "      fill: #D2E3FC;\n",
              "    }\n",
              "\n",
              "    [theme=dark] .colab-df-convert:hover {\n",
              "      background-color: #434B5C;\n",
              "      box-shadow: 0px 1px 3px 1px rgba(0, 0, 0, 0.15);\n",
              "      filter: drop-shadow(0px 1px 2px rgba(0, 0, 0, 0.3));\n",
              "      fill: #FFFFFF;\n",
              "    }\n",
              "  </style>\n",
              "\n",
              "      <script>\n",
              "        const buttonEl =\n",
              "          document.querySelector('#df-d2d67818-152e-446c-886d-eb00421b9684 button.colab-df-convert');\n",
              "        buttonEl.style.display =\n",
              "          google.colab.kernel.accessAllowed ? 'block' : 'none';\n",
              "\n",
              "        async function convertToInteractive(key) {\n",
              "          const element = document.querySelector('#df-d2d67818-152e-446c-886d-eb00421b9684');\n",
              "          const dataTable =\n",
              "            await google.colab.kernel.invokeFunction('convertToInteractive',\n",
              "                                                     [key], {});\n",
              "          if (!dataTable) return;\n",
              "\n",
              "          const docLinkHtml = 'Like what you see? Visit the ' +\n",
              "            '<a target=\"_blank\" href=https://colab.research.google.com/notebooks/data_table.ipynb>data table notebook</a>'\n",
              "            + ' to learn more about interactive tables.';\n",
              "          element.innerHTML = '';\n",
              "          dataTable['output_type'] = 'display_data';\n",
              "          await google.colab.output.renderOutput(dataTable, element);\n",
              "          const docLink = document.createElement('div');\n",
              "          docLink.innerHTML = docLinkHtml;\n",
              "          element.appendChild(docLink);\n",
              "        }\n",
              "      </script>\n",
              "    </div>\n",
              "  </div>\n",
              "  "
            ]
          },
          "metadata": {},
          "execution_count": 13
        }
      ]
    },
    {
      "cell_type": "code",
      "source": [
        "df2"
      ],
      "metadata": {
        "colab": {
          "base_uri": "https://localhost:8080/",
          "height": 206
        },
        "id": "lEO3JYYn4BVg",
        "outputId": "555012f8-bc6d-4888-f41c-d3848c8310d8"
      },
      "id": "lEO3JYYn4BVg",
      "execution_count": 9,
      "outputs": [
        {
          "output_type": "execute_result",
          "data": {
            "text/plain": [
              "                   numbr_likes  number_comments    followers  \\\n",
              "profile_name                                                   \n",
              "instagram        593409.666667      5749.333333  285457645.0   \n",
              "nba              207295.600000      1026.800000   35339708.0   \n",
              "princessyahrini   41763.666667       903.333333   29042823.0   \n",
              "victoriassecret  261408.000000       583.000000   65269440.0   \n",
              "\n",
              "                 average_likes/followers  average_comments/followers  \n",
              "profile_name                                                          \n",
              "instagram                       0.002079                    0.000020  \n",
              "nba                             0.005866                    0.000029  \n",
              "princessyahrini                 0.001438                    0.000031  \n",
              "victoriassecret                 0.004005                    0.000009  "
            ],
            "text/html": [
              "\n",
              "  <div id=\"df-98e50a9b-323d-4b69-bb95-131f63168a42\">\n",
              "    <div class=\"colab-df-container\">\n",
              "      <div>\n",
              "<style scoped>\n",
              "    .dataframe tbody tr th:only-of-type {\n",
              "        vertical-align: middle;\n",
              "    }\n",
              "\n",
              "    .dataframe tbody tr th {\n",
              "        vertical-align: top;\n",
              "    }\n",
              "\n",
              "    .dataframe thead th {\n",
              "        text-align: right;\n",
              "    }\n",
              "</style>\n",
              "<table border=\"1\" class=\"dataframe\">\n",
              "  <thead>\n",
              "    <tr style=\"text-align: right;\">\n",
              "      <th></th>\n",
              "      <th>numbr_likes</th>\n",
              "      <th>number_comments</th>\n",
              "      <th>followers</th>\n",
              "      <th>average_likes/followers</th>\n",
              "      <th>average_comments/followers</th>\n",
              "    </tr>\n",
              "    <tr>\n",
              "      <th>profile_name</th>\n",
              "      <th></th>\n",
              "      <th></th>\n",
              "      <th></th>\n",
              "      <th></th>\n",
              "      <th></th>\n",
              "    </tr>\n",
              "  </thead>\n",
              "  <tbody>\n",
              "    <tr>\n",
              "      <th>instagram</th>\n",
              "      <td>593409.666667</td>\n",
              "      <td>5749.333333</td>\n",
              "      <td>285457645.0</td>\n",
              "      <td>0.002079</td>\n",
              "      <td>0.000020</td>\n",
              "    </tr>\n",
              "    <tr>\n",
              "      <th>nba</th>\n",
              "      <td>207295.600000</td>\n",
              "      <td>1026.800000</td>\n",
              "      <td>35339708.0</td>\n",
              "      <td>0.005866</td>\n",
              "      <td>0.000029</td>\n",
              "    </tr>\n",
              "    <tr>\n",
              "      <th>princessyahrini</th>\n",
              "      <td>41763.666667</td>\n",
              "      <td>903.333333</td>\n",
              "      <td>29042823.0</td>\n",
              "      <td>0.001438</td>\n",
              "      <td>0.000031</td>\n",
              "    </tr>\n",
              "    <tr>\n",
              "      <th>victoriassecret</th>\n",
              "      <td>261408.000000</td>\n",
              "      <td>583.000000</td>\n",
              "      <td>65269440.0</td>\n",
              "      <td>0.004005</td>\n",
              "      <td>0.000009</td>\n",
              "    </tr>\n",
              "  </tbody>\n",
              "</table>\n",
              "</div>\n",
              "      <button class=\"colab-df-convert\" onclick=\"convertToInteractive('df-98e50a9b-323d-4b69-bb95-131f63168a42')\"\n",
              "              title=\"Convert this dataframe to an interactive table.\"\n",
              "              style=\"display:none;\">\n",
              "        \n",
              "  <svg xmlns=\"http://www.w3.org/2000/svg\" height=\"24px\"viewBox=\"0 0 24 24\"\n",
              "       width=\"24px\">\n",
              "    <path d=\"M0 0h24v24H0V0z\" fill=\"none\"/>\n",
              "    <path d=\"M18.56 5.44l.94 2.06.94-2.06 2.06-.94-2.06-.94-.94-2.06-.94 2.06-2.06.94zm-11 1L8.5 8.5l.94-2.06 2.06-.94-2.06-.94L8.5 2.5l-.94 2.06-2.06.94zm10 10l.94 2.06.94-2.06 2.06-.94-2.06-.94-.94-2.06-.94 2.06-2.06.94z\"/><path d=\"M17.41 7.96l-1.37-1.37c-.4-.4-.92-.59-1.43-.59-.52 0-1.04.2-1.43.59L10.3 9.45l-7.72 7.72c-.78.78-.78 2.05 0 2.83L4 21.41c.39.39.9.59 1.41.59.51 0 1.02-.2 1.41-.59l7.78-7.78 2.81-2.81c.8-.78.8-2.07 0-2.86zM5.41 20L4 18.59l7.72-7.72 1.47 1.35L5.41 20z\"/>\n",
              "  </svg>\n",
              "      </button>\n",
              "      \n",
              "  <style>\n",
              "    .colab-df-container {\n",
              "      display:flex;\n",
              "      flex-wrap:wrap;\n",
              "      gap: 12px;\n",
              "    }\n",
              "\n",
              "    .colab-df-convert {\n",
              "      background-color: #E8F0FE;\n",
              "      border: none;\n",
              "      border-radius: 50%;\n",
              "      cursor: pointer;\n",
              "      display: none;\n",
              "      fill: #1967D2;\n",
              "      height: 32px;\n",
              "      padding: 0 0 0 0;\n",
              "      width: 32px;\n",
              "    }\n",
              "\n",
              "    .colab-df-convert:hover {\n",
              "      background-color: #E2EBFA;\n",
              "      box-shadow: 0px 1px 2px rgba(60, 64, 67, 0.3), 0px 1px 3px 1px rgba(60, 64, 67, 0.15);\n",
              "      fill: #174EA6;\n",
              "    }\n",
              "\n",
              "    [theme=dark] .colab-df-convert {\n",
              "      background-color: #3B4455;\n",
              "      fill: #D2E3FC;\n",
              "    }\n",
              "\n",
              "    [theme=dark] .colab-df-convert:hover {\n",
              "      background-color: #434B5C;\n",
              "      box-shadow: 0px 1px 3px 1px rgba(0, 0, 0, 0.15);\n",
              "      filter: drop-shadow(0px 1px 2px rgba(0, 0, 0, 0.3));\n",
              "      fill: #FFFFFF;\n",
              "    }\n",
              "  </style>\n",
              "\n",
              "      <script>\n",
              "        const buttonEl =\n",
              "          document.querySelector('#df-98e50a9b-323d-4b69-bb95-131f63168a42 button.colab-df-convert');\n",
              "        buttonEl.style.display =\n",
              "          google.colab.kernel.accessAllowed ? 'block' : 'none';\n",
              "\n",
              "        async function convertToInteractive(key) {\n",
              "          const element = document.querySelector('#df-98e50a9b-323d-4b69-bb95-131f63168a42');\n",
              "          const dataTable =\n",
              "            await google.colab.kernel.invokeFunction('convertToInteractive',\n",
              "                                                     [key], {});\n",
              "          if (!dataTable) return;\n",
              "\n",
              "          const docLinkHtml = 'Like what you see? Visit the ' +\n",
              "            '<a target=\"_blank\" href=https://colab.research.google.com/notebooks/data_table.ipynb>data table notebook</a>'\n",
              "            + ' to learn more about interactive tables.';\n",
              "          element.innerHTML = '';\n",
              "          dataTable['output_type'] = 'display_data';\n",
              "          await google.colab.output.renderOutput(dataTable, element);\n",
              "          const docLink = document.createElement('div');\n",
              "          docLink.innerHTML = docLinkHtml;\n",
              "          element.appendChild(docLink);\n",
              "        }\n",
              "      </script>\n",
              "    </div>\n",
              "  </div>\n",
              "  "
            ]
          },
          "metadata": {},
          "execution_count": 9
        }
      ]
    },
    {
      "cell_type": "markdown",
      "source": [
        "I would say that there's a huge difference between the percentage of likes and comments over the total amount of followers. Users are more likely to like a post (regardless of the content of the post) than to comment it."
      ],
      "metadata": {
        "id": "YpaiLLSN-itb"
      },
      "id": "YpaiLLSN-itb"
    },
    {
      "cell_type": "markdown",
      "id": "92d38c86",
      "metadata": {
        "id": "92d38c86"
      },
      "source": [
        "# RQ7"
      ]
    },
    {
      "cell_type": "markdown",
      "id": "880c81aa",
      "metadata": {
        "id": "880c81aa"
      },
      "source": [
        "#### 1. What's the probability that a post receives more than 20% \"likes\" of the number of followers a user has?"
      ]
    },
    {
      "cell_type": "code",
      "execution_count": null,
      "id": "d543d727-44e2-4989-9d2f-d3620b3da45c",
      "metadata": {
        "id": "d543d727-44e2-4989-9d2f-d3620b3da45c"
      },
      "outputs": [],
      "source": [
        "import pandas as pd"
      ]
    },
    {
      "cell_type": "code",
      "execution_count": null,
      "id": "b79c1610",
      "metadata": {
        "id": "b79c1610"
      },
      "outputs": [],
      "source": [
        "data_profiles_id_followers = pd.read_csv('~/instagram_profiles.zip', delimiter='\\t', usecols= ['profile_id','followers'])"
      ]
    },
    {
      "cell_type": "code",
      "execution_count": null,
      "id": "b5931d46",
      "metadata": {
        "id": "b5931d46"
      },
      "outputs": [],
      "source": [
        "data_profiles_id_followers.dropna(subset=['profile_id'], inplace=True)"
      ]
    },
    {
      "cell_type": "code",
      "execution_count": null,
      "id": "afcc5848",
      "metadata": {
        "id": "afcc5848"
      },
      "outputs": [],
      "source": [
        "data_posts_id_likes = pd.read_csv('~/instagram_posts.zip', delimiter='\\t', usecols= ['profile_id','numbr_likes'])"
      ]
    },
    {
      "cell_type": "code",
      "execution_count": null,
      "id": "b15acfdb",
      "metadata": {
        "id": "b15acfdb"
      },
      "outputs": [],
      "source": [
        "data_posts_id_likes.dropna(subset=['profile_id'], inplace=True)"
      ]
    },
    {
      "cell_type": "markdown",
      "id": "312c9473",
      "metadata": {
        "id": "312c9473"
      },
      "source": [
        "We import the pandas library and the dataframe, in particular the variables we need"
      ]
    },
    {
      "cell_type": "code",
      "execution_count": null,
      "id": "19d7071f",
      "metadata": {
        "id": "19d7071f",
        "outputId": "134c0b93-de68-446d-8fe0-ee6b3bc3556f"
      },
      "outputs": [
        {
          "data": {
            "text/html": [
              "<div>\n",
              "<style scoped>\n",
              "    .dataframe tbody tr th:only-of-type {\n",
              "        vertical-align: middle;\n",
              "    }\n",
              "\n",
              "    .dataframe tbody tr th {\n",
              "        vertical-align: top;\n",
              "    }\n",
              "\n",
              "    .dataframe thead th {\n",
              "        text-align: right;\n",
              "    }\n",
              "</style>\n",
              "<table border=\"1\" class=\"dataframe\">\n",
              "  <thead>\n",
              "    <tr style=\"text-align: right;\">\n",
              "      <th></th>\n",
              "      <th>profile_id</th>\n",
              "      <th>numbr_likes</th>\n",
              "    </tr>\n",
              "  </thead>\n",
              "  <tbody>\n",
              "    <tr>\n",
              "      <th>0</th>\n",
              "      <td>2.237948e+09</td>\n",
              "      <td>80.0</td>\n",
              "    </tr>\n",
              "    <tr>\n",
              "      <th>1</th>\n",
              "      <td>5.579335e+09</td>\n",
              "      <td>25.0</td>\n",
              "    </tr>\n",
              "    <tr>\n",
              "      <th>2</th>\n",
              "      <td>3.134296e+08</td>\n",
              "      <td>9.0</td>\n",
              "    </tr>\n",
              "    <tr>\n",
              "      <th>3</th>\n",
              "      <td>1.837593e+09</td>\n",
              "      <td>4.0</td>\n",
              "    </tr>\n",
              "    <tr>\n",
              "      <th>4</th>\n",
              "      <td>1.131527e+09</td>\n",
              "      <td>8.0</td>\n",
              "    </tr>\n",
              "  </tbody>\n",
              "</table>\n",
              "</div>"
            ],
            "text/plain": [
              "     profile_id  numbr_likes\n",
              "0  2.237948e+09         80.0\n",
              "1  5.579335e+09         25.0\n",
              "2  3.134296e+08          9.0\n",
              "3  1.837593e+09          4.0\n",
              "4  1.131527e+09          8.0"
            ]
          },
          "execution_count": 8,
          "metadata": {},
          "output_type": "execute_result"
        }
      ],
      "source": [
        "data_posts_id_likes.head()"
      ]
    },
    {
      "cell_type": "code",
      "execution_count": null,
      "id": "7d8b6d8e",
      "metadata": {
        "id": "7d8b6d8e",
        "outputId": "fc95a365-52eb-4372-918b-51f917286afb"
      },
      "outputs": [
        {
          "data": {
            "text/html": [
              "<div>\n",
              "<style scoped>\n",
              "    .dataframe tbody tr th:only-of-type {\n",
              "        vertical-align: middle;\n",
              "    }\n",
              "\n",
              "    .dataframe tbody tr th {\n",
              "        vertical-align: top;\n",
              "    }\n",
              "\n",
              "    .dataframe thead th {\n",
              "        text-align: right;\n",
              "    }\n",
              "</style>\n",
              "<table border=\"1\" class=\"dataframe\">\n",
              "  <thead>\n",
              "    <tr style=\"text-align: right;\">\n",
              "      <th></th>\n",
              "      <th>profile_id</th>\n",
              "      <th>followers</th>\n",
              "    </tr>\n",
              "  </thead>\n",
              "  <tbody>\n",
              "    <tr>\n",
              "      <th>0</th>\n",
              "      <td>4.721050e+09</td>\n",
              "      <td>146.0</td>\n",
              "    </tr>\n",
              "    <tr>\n",
              "      <th>1</th>\n",
              "      <td>5.905830e+08</td>\n",
              "      <td>1145.0</td>\n",
              "    </tr>\n",
              "    <tr>\n",
              "      <th>2</th>\n",
              "      <td>1.074147e+09</td>\n",
              "      <td>324.0</td>\n",
              "    </tr>\n",
              "    <tr>\n",
              "      <th>3</th>\n",
              "      <td>1.472039e+09</td>\n",
              "      <td>NaN</td>\n",
              "    </tr>\n",
              "    <tr>\n",
              "      <th>4</th>\n",
              "      <td>3.531421e+09</td>\n",
              "      <td>NaN</td>\n",
              "    </tr>\n",
              "  </tbody>\n",
              "</table>\n",
              "</div>"
            ],
            "text/plain": [
              "     profile_id  followers\n",
              "0  4.721050e+09      146.0\n",
              "1  5.905830e+08     1145.0\n",
              "2  1.074147e+09      324.0\n",
              "3  1.472039e+09        NaN\n",
              "4  3.531421e+09        NaN"
            ]
          },
          "execution_count": 9,
          "metadata": {},
          "output_type": "execute_result"
        }
      ],
      "source": [
        "data_profiles_id_followers.head()"
      ]
    },
    {
      "cell_type": "code",
      "execution_count": null,
      "id": "9379b88a",
      "metadata": {
        "id": "9379b88a",
        "outputId": "40af89b0-c345-4b23-cb5e-d5f7bc0a7559"
      },
      "outputs": [
        {
          "name": "stdout",
          "output_type": "stream",
          "text": [
            "            profile_id  numbr_likes  followers\n",
            "0         2.237948e+09         80.0     1204.0\n",
            "1         2.237948e+09         86.0     1204.0\n",
            "2         2.237948e+09        168.0     1204.0\n",
            "3         2.237948e+09        102.0     1204.0\n",
            "4         2.237948e+09        145.0     1204.0\n",
            "...                ...          ...        ...\n",
            "25145628  4.187127e+09         57.0        NaN\n",
            "25145629  8.409702e+09         12.0      177.0\n",
            "25145630  2.786018e+07        135.0        NaN\n",
            "25145631  5.376965e+08      44688.0        NaN\n",
            "25145632  1.247126e+09        223.0        NaN\n",
            "\n",
            "[25145633 rows x 3 columns]\n"
          ]
        }
      ],
      "source": [
        "likes_followers=pd.merge(data_posts_id_likes, data_profiles_id_followers)\n",
        "print(likes_followers)"
      ]
    },
    {
      "cell_type": "code",
      "execution_count": null,
      "id": "8102ebb2",
      "metadata": {
        "id": "8102ebb2",
        "outputId": "bdce183c-695a-467c-c4ac-4b25b9fc2ae8"
      },
      "outputs": [
        {
          "data": {
            "text/html": [
              "<div>\n",
              "<style scoped>\n",
              "    .dataframe tbody tr th:only-of-type {\n",
              "        vertical-align: middle;\n",
              "    }\n",
              "\n",
              "    .dataframe tbody tr th {\n",
              "        vertical-align: top;\n",
              "    }\n",
              "\n",
              "    .dataframe thead th {\n",
              "        text-align: right;\n",
              "    }\n",
              "</style>\n",
              "<table border=\"1\" class=\"dataframe\">\n",
              "  <thead>\n",
              "    <tr style=\"text-align: right;\">\n",
              "      <th></th>\n",
              "      <th>profile_id</th>\n",
              "      <th>numbr_likes</th>\n",
              "      <th>followers</th>\n",
              "    </tr>\n",
              "  </thead>\n",
              "  <tbody>\n",
              "    <tr>\n",
              "      <th>0</th>\n",
              "      <td>2.237948e+09</td>\n",
              "      <td>80.0</td>\n",
              "      <td>1204.0</td>\n",
              "    </tr>\n",
              "    <tr>\n",
              "      <th>1</th>\n",
              "      <td>2.237948e+09</td>\n",
              "      <td>86.0</td>\n",
              "      <td>1204.0</td>\n",
              "    </tr>\n",
              "    <tr>\n",
              "      <th>2</th>\n",
              "      <td>2.237948e+09</td>\n",
              "      <td>168.0</td>\n",
              "      <td>1204.0</td>\n",
              "    </tr>\n",
              "    <tr>\n",
              "      <th>3</th>\n",
              "      <td>2.237948e+09</td>\n",
              "      <td>102.0</td>\n",
              "      <td>1204.0</td>\n",
              "    </tr>\n",
              "    <tr>\n",
              "      <th>4</th>\n",
              "      <td>2.237948e+09</td>\n",
              "      <td>145.0</td>\n",
              "      <td>1204.0</td>\n",
              "    </tr>\n",
              "  </tbody>\n",
              "</table>\n",
              "</div>"
            ],
            "text/plain": [
              "     profile_id  numbr_likes  followers\n",
              "0  2.237948e+09         80.0     1204.0\n",
              "1  2.237948e+09         86.0     1204.0\n",
              "2  2.237948e+09        168.0     1204.0\n",
              "3  2.237948e+09        102.0     1204.0\n",
              "4  2.237948e+09        145.0     1204.0"
            ]
          },
          "execution_count": 11,
          "metadata": {},
          "output_type": "execute_result"
        }
      ],
      "source": [
        "likes_followers.head()"
      ]
    },
    {
      "cell_type": "code",
      "execution_count": null,
      "id": "169a87ec",
      "metadata": {
        "id": "169a87ec",
        "outputId": "5b110e2d-542f-4099-e8e6-398a00e4d944"
      },
      "outputs": [
        {
          "data": {
            "text/html": [
              "<div>\n",
              "<style scoped>\n",
              "    .dataframe tbody tr th:only-of-type {\n",
              "        vertical-align: middle;\n",
              "    }\n",
              "\n",
              "    .dataframe tbody tr th {\n",
              "        vertical-align: top;\n",
              "    }\n",
              "\n",
              "    .dataframe thead th {\n",
              "        text-align: right;\n",
              "    }\n",
              "</style>\n",
              "<table border=\"1\" class=\"dataframe\">\n",
              "  <thead>\n",
              "    <tr style=\"text-align: right;\">\n",
              "      <th></th>\n",
              "      <th>profile_id</th>\n",
              "      <th>numbr_likes</th>\n",
              "      <th>followers</th>\n",
              "      <th>more than 20%</th>\n",
              "    </tr>\n",
              "  </thead>\n",
              "  <tbody>\n",
              "    <tr>\n",
              "      <th>0</th>\n",
              "      <td>2.237948e+09</td>\n",
              "      <td>80.0</td>\n",
              "      <td>1204.0</td>\n",
              "      <td>False</td>\n",
              "    </tr>\n",
              "    <tr>\n",
              "      <th>1</th>\n",
              "      <td>2.237948e+09</td>\n",
              "      <td>86.0</td>\n",
              "      <td>1204.0</td>\n",
              "      <td>False</td>\n",
              "    </tr>\n",
              "    <tr>\n",
              "      <th>2</th>\n",
              "      <td>2.237948e+09</td>\n",
              "      <td>168.0</td>\n",
              "      <td>1204.0</td>\n",
              "      <td>False</td>\n",
              "    </tr>\n",
              "    <tr>\n",
              "      <th>3</th>\n",
              "      <td>2.237948e+09</td>\n",
              "      <td>102.0</td>\n",
              "      <td>1204.0</td>\n",
              "      <td>False</td>\n",
              "    </tr>\n",
              "    <tr>\n",
              "      <th>4</th>\n",
              "      <td>2.237948e+09</td>\n",
              "      <td>145.0</td>\n",
              "      <td>1204.0</td>\n",
              "      <td>False</td>\n",
              "    </tr>\n",
              "  </tbody>\n",
              "</table>\n",
              "</div>"
            ],
            "text/plain": [
              "     profile_id  numbr_likes  followers  more than 20%\n",
              "0  2.237948e+09         80.0     1204.0          False\n",
              "1  2.237948e+09         86.0     1204.0          False\n",
              "2  2.237948e+09        168.0     1204.0          False\n",
              "3  2.237948e+09        102.0     1204.0          False\n",
              "4  2.237948e+09        145.0     1204.0          False"
            ]
          },
          "execution_count": 12,
          "metadata": {},
          "output_type": "execute_result"
        }
      ],
      "source": [
        "likes_followers['more than 20%'] = likes_followers['numbr_likes'] / likes_followers['followers'] >= 0.2\n",
        "likes_followers.head()"
      ]
    },
    {
      "cell_type": "markdown",
      "id": "3b1f4490",
      "metadata": {
        "id": "3b1f4490"
      },
      "source": [
        "We then merge the two dataframes using the profile_id vriable as merging key and we create a new variable that tells us for each post if it has recieved more likes than 20% of the number of followers of the user that published the post (True), or not (False)"
      ]
    },
    {
      "cell_type": "code",
      "execution_count": null,
      "id": "214dff4c",
      "metadata": {
        "id": "214dff4c",
        "outputId": "2cdb4af5-9797-4010-ee37-ec257822df6b"
      },
      "outputs": [
        {
          "name": "stdout",
          "output_type": "stream",
          "text": [
            "False    0.844075\n",
            "True     0.155925\n",
            "Name: more than 20%, dtype: float64\n"
          ]
        }
      ],
      "source": [
        "print(likes_followers[\"more than 20%\"].value_counts(normalize=True))"
      ]
    },
    {
      "cell_type": "markdown",
      "id": "441e9d0f",
      "metadata": {
        "id": "441e9d0f"
      },
      "source": [
        "Using the value_counts command we obtain the relative frequency of the new \"more than 20%\" variable, that represents the requeried probability"
      ]
    },
    {
      "cell_type": "markdown",
      "id": "70589479",
      "metadata": {
        "id": "70589479"
      },
      "source": [
        "#### 2. Do users usually return to locations? Extract the probability that a user returns to a site after having posted it in the past. Does that probability make sense to you? Explain why or why not.\n"
      ]
    },
    {
      "cell_type": "code",
      "execution_count": null,
      "id": "89b0a5e1",
      "metadata": {
        "id": "89b0a5e1"
      },
      "outputs": [],
      "source": [
        "data_posts_id_loc = pd.read_csv('~/instagram_posts.zip', delimiter='\\t', usecols= ['profile_id','location_id'])"
      ]
    },
    {
      "cell_type": "code",
      "execution_count": null,
      "id": "e5e58fae",
      "metadata": {
        "id": "e5e58fae"
      },
      "outputs": [],
      "source": [
        "data_posts_id_loc.dropna( subset=['profile_id', 'location_id'], inplace=True)"
      ]
    },
    {
      "cell_type": "code",
      "execution_count": null,
      "id": "efd42ca0",
      "metadata": {
        "id": "efd42ca0"
      },
      "outputs": [],
      "source": [
        "group=data_posts_id_loc.groupby('profile_id')"
      ]
    },
    {
      "cell_type": "code",
      "execution_count": null,
      "id": "471d3e4c",
      "metadata": {
        "id": "471d3e4c",
        "outputId": "80c845dc-2afe-4a59-8167-ba9e69f12c94"
      },
      "outputs": [
        {
          "data": {
            "text/plain": [
              "pandas.core.groupby.generic.DataFrameGroupBy"
            ]
          },
          "execution_count": 18,
          "metadata": {},
          "output_type": "execute_result"
        }
      ],
      "source": [
        "type(group)"
      ]
    },
    {
      "cell_type": "markdown",
      "id": "6b99e578",
      "metadata": {
        "id": "6b99e578"
      },
      "source": [
        "We import the dataframes we need, in particular the variables we need. Then we group by the profile id, so that we have the informations for each profile about the location where the posts' pictures have been taken"
      ]
    },
    {
      "cell_type": "code",
      "execution_count": null,
      "id": "3db05888",
      "metadata": {
        "id": "3db05888"
      },
      "outputs": [],
      "source": [
        "l=[]\n",
        "for prof,loc in group:\n",
        "    for j in loc.location_id.value_counts():\n",
        "        l.append(j>1)"
      ]
    },
    {
      "cell_type": "code",
      "execution_count": null,
      "id": "3f75a6d1",
      "metadata": {
        "id": "3f75a6d1",
        "outputId": "04311b06-e0b7-475c-b1d0-a75e7fef6417"
      },
      "outputs": [
        {
          "data": {
            "text/plain": [
              "list"
            ]
          },
          "execution_count": 20,
          "metadata": {},
          "output_type": "execute_result"
        }
      ],
      "source": [
        "type(l)"
      ]
    },
    {
      "cell_type": "markdown",
      "id": "24b8179c",
      "metadata": {
        "id": "24b8179c"
      },
      "source": [
        "Then we create a list that tells us if a user returned to a site after having posted it in the past (True), or not (False)"
      ]
    },
    {
      "cell_type": "code",
      "execution_count": null,
      "id": "ec59232c",
      "metadata": {
        "id": "ec59232c",
        "outputId": "fc77cc70-b667-4989-8f76-13dd763d25ea"
      },
      "outputs": [
        {
          "data": {
            "text/plain": [
              "False    0.85959\n",
              "True     0.14041\n",
              "dtype: float64"
            ]
          },
          "execution_count": 21,
          "metadata": {},
          "output_type": "execute_result"
        }
      ],
      "source": [
        "count=pd.Series(l)\n",
        "count.value_counts(normalize=True)"
      ]
    },
    {
      "cell_type": "markdown",
      "id": "44b305b2",
      "metadata": {
        "id": "44b305b2"
      },
      "source": [
        "In the end we change the type of the list in a serie, so that we can use the value_counts command and obtein the required probability."
      ]
    },
    {
      "cell_type": "markdown",
      "id": "0f0c8c2a",
      "metadata": {
        "id": "0f0c8c2a"
      },
      "source": [
        "This probability doesn't make sense because we would have to consider different situations, for exemple we have to consider if the user takes more than one picture in the same place in the same day, or the situation of a user that is on vacation in a place for some days and he creates more posts there. In fact, the method used to calculate the previously percentage would consider these situations like different user's visits of that location"
      ]
    },
    {
      "cell_type": "markdown",
      "id": "9cef8467",
      "metadata": {
        "id": "9cef8467"
      },
      "source": [
        "# RQ8"
      ]
    },
    {
      "cell_type": "markdown",
      "id": "bd0fc66f",
      "metadata": {
        "id": "bd0fc66f"
      },
      "source": [
        "#### 1. Does more “likes” also mean more comments? Plot a scatter plot of “likes” vs comments for posts."
      ]
    },
    {
      "cell_type": "code",
      "execution_count": null,
      "id": "0c47908a",
      "metadata": {
        "id": "0c47908a"
      },
      "outputs": [],
      "source": [
        "data_posts_likes_comments = pd.read_csv('~/instagram_posts.zip', delimiter='\\t', usecols= ['sid','numbr_likes','number_comments'])"
      ]
    },
    {
      "cell_type": "code",
      "execution_count": null,
      "id": "d38f7631",
      "metadata": {
        "id": "d38f7631",
        "outputId": "040f46a7-6ef4-4f7a-d7ec-f0b9d7a0207d"
      },
      "outputs": [
        {
          "data": {
            "text/plain": [
              "<AxesSubplot:xlabel='numbr_likes', ylabel='number_comments'>"
            ]
          },
          "execution_count": 23,
          "metadata": {},
          "output_type": "execute_result"
        },
        {
          "data": {
            "image/png": "[encoded data removed]",
            "text/plain": [
              "<Figure size 432x288 with 1 Axes>"
            ]
          },
          "metadata": {
            "needs_background": "light"
          },
          "output_type": "display_data"
        }
      ],
      "source": [
        "data_posts_likes_comments.plot(x='numbr_likes', y='number_comments', kind='scatter')"
      ]
    },
    {
      "cell_type": "markdown",
      "id": "88b39fcd",
      "metadata": {
        "id": "88b39fcd"
      },
      "source": [
        "From the scatterplot we can see that there is no linear relationship between the number of likes and the number of comments. There are many cases of high number of likes and few comments, and also some cases of posts with many comments and not so many likes. Generally speaking we can see, how we can expect, that there is a prevalence of posts with more likes than coments"
      ]
    },
    {
      "cell_type": "markdown",
      "id": "8b16b380",
      "metadata": {
        "id": "8b16b380"
      },
      "source": [
        "#### 2. Can you find any significant relationship between the time a user publishes a post and the number of comments and “likes”? Use an appropriate statistical test or technique and support your choice."
      ]
    },
    {
      "cell_type": "markdown",
      "source": [
        "The following work as I wished but I still attached and commented it explaining what I wanted to do"
      ],
      "metadata": {
        "id": "vBsRge-fF92i"
      },
      "id": "vBsRge-fF92i"
    },
    {
      "cell_type": "code",
      "source": [
        "data_posts_likes_comments = pd.read_csv('~/instagram_posts.zip', delimiter='\\t', usecols= ['sid','numbr_likes','number_comments','cts'])"
      ],
      "metadata": {
        "id": "E9hbxhclEh3O"
      },
      "id": "E9hbxhclEh3O",
      "execution_count": null,
      "outputs": []
    },
    {
      "cell_type": "code",
      "source": [
        "inter=['00:00:00-00:59:59', '01:00:00-01:59:59', '02:00:00-02:59:59', '03:00:00-03:59:59', '04:00:00-04:59:59', '05:00:00-05:59:59', '06:00:00-06:59:59','07:00:00-07:59:59', '08:00:00-08:59:59', '09:00:00-09:59:59', '10:00:00-10:59:59', '11:00:00-11:59:59', '12:00:00-12:59:59', '13:00:00-13:59:59','14:00:00-14:59:59', '15:00:00-15:59:59', '16:00:00-16:59:59', '17:00:00-17:59:59', '18:00:00-18:59:59', '19:00:00-19:59:59', '20:00:00-20:59:59', '21:00:00-21:59:59', '22:00:00-22:59:59', '23:00:00-23:59:59']"
      ],
      "metadata": {
        "id": "2lCKc4EqEwsO"
      },
      "id": "2lCKc4EqEwsO",
      "execution_count": null,
      "outputs": []
    },
    {
      "cell_type": "code",
      "source": [
        "def plot_n_likes(intervals):\n",
        "    comments = {interval: 0 for interval in intervals} # we will use this dictionary to collect the datas for the plot, namely the number of posts for each given interval\n",
        "    likes = {interval: 0 for interval in intervals} \n",
        "    \n",
        "    for chunk in tqdm(pd.read_csv('instagram_posts.zip', chunksize=500000, usecols=['cts','post_id','numbr_likes','number_comments'],  sep='\\t')): \n",
        "        for elem in chunk['cts']: \n",
        "            temp = elem\n",
        "            elem = pd.to_datetime(elem, format='%Y-%m-%d %H:%M:%S')\n",
        "            if elem != pd.NaT:\n",
        "                for interval in intervals:\n",
        "                    start = dt.strptime(interval[0:8], '%H:%M:%S') # we convert to datetime objects the initial and the final time of every interval in order to check the...\n",
        "                    end = dt.strptime(interval[9:18], '%H:%M:%S')  # ...interval a certain post's time belongs to\n",
        "                    if (elem.hour > start.hour) and (elem.minute > start.minute) and (elem.second > start.second) and (elem.hour < end.hour) and (elem.minute < end.minute) and (elem.second < end.second):\n",
        "                        likes[interval] += chunk.loc[chunk.cts == temp, 'numbr_likes']\n",
        "                        comments[interval] += chunk.loc[chunk.cts == temp, 'number_comments']\n",
        "                        break\n",
        "            else:\n",
        "                break\n",
        "        del chunk\n",
        "    \n",
        "    #plot\n",
        "    plt.figure(figsize=(18,6)) \n",
        "    plt.boxplot(list(likes.keys()), list(likes.values()), color='red',width=0.4)\n",
        "    plt.xlabel(\"Time intervals\")\n",
        "    plt.ylabel(\"No. of likes\")\n",
        "    plt.title(\"Number of likes for each given interval\")\n",
        "    plt.show()\n",
        "    \n",
        "     plt.figure(figsize=(18,6)) \n",
        "    plt.boxplot(list(comments.keys()), list(comments.values()), color='red',width=0.4)\n",
        "    plt.xlabel(\"Time intervals\")\n",
        "    plt.ylabel(\"No. of comments\")\n",
        "    plt.title(\"Number of comments for each given interval\")\n",
        "    plt.show()\n",
        "    return "
      ],
      "metadata": {
        "id": "AZTC-8O-FBcP"
      },
      "id": "AZTC-8O-FBcP",
      "execution_count": null,
      "outputs": []
    },
    {
      "cell_type": "code",
      "source": [
        "plot_n_likes(inter)"
      ],
      "metadata": {
        "id": "cdrtoqgwFCW3"
      },
      "id": "cdrtoqgwFCW3",
      "execution_count": null,
      "outputs": []
    },
    {
      "cell_type": "markdown",
      "source": [
        "One first way to study the relationship between the time a user publishes a post and the number of comments and likes could be the boxplot. We can represent two boxplots, one for likes and one for comments, with the different time intervals on the x axis, to see how values change in different times."
      ],
      "metadata": {
        "id": "2-pr9VMsFp8s"
      },
      "id": "2-pr9VMsFp8s"
    },
    {
      "cell_type": "markdown",
      "source": [
        "We could also create a table grouped by the time intervals, having on the other columns the average of likes and the average of comments, and we could also use an Anova test to study the null hypothesis of having the same average for the different time intervals"
      ],
      "metadata": {
        "id": "GpTZIf-lFqBy"
      },
      "id": "GpTZIf-lFqBy"
    },
    {
      "cell_type": "markdown",
      "source": [
        "We can expect a reletionship between time and number of comments and likes"
      ],
      "metadata": {
        "id": "BgUSodIyFqM1"
      },
      "id": "BgUSodIyFqM1"
    },
    {
      "cell_type": "markdown",
      "id": "4582cd39-e4a2-4bdc-a220-c4c51cd66a74",
      "metadata": {
        "id": "4582cd39-e4a2-4bdc-a220-c4c51cd66a74"
      },
      "source": [
        "#### 3. What’s the distribution of followers? Plot the empirical distribution of followers amongst all users and extract the mean, mode, and quantiles. Interpret those figures."
      ]
    },
    {
      "cell_type": "code",
      "execution_count": null,
      "id": "2665a015",
      "metadata": {
        "id": "2665a015"
      },
      "outputs": [],
      "source": [
        "followers = pd.read_csv('~/instagram_profiles.zip', delimiter='\\t', usecols=['followers'])"
      ]
    },
    {
      "cell_type": "code",
      "execution_count": null,
      "id": "78cf57c8",
      "metadata": {
        "id": "78cf57c8",
        "outputId": "b194dd72-7835-4d30-cec7-6476983f284b"
      },
      "outputs": [
        {
          "data": {
            "text/plain": [
              "<AxesSubplot:title={'center':'Histogram of followers'}, ylabel='Frequency'>"
            ]
          },
          "execution_count": 25,
          "metadata": {},
          "output_type": "execute_result"
        },
        {
          "data": {
            "image/png": "[encoded data removed]",
            "text/plain": [
              "<Figure size 432x288 with 1 Axes>"
            ]
          },
          "metadata": {
            "needs_background": "light"
          },
          "output_type": "display_data"
        }
      ],
      "source": [
        "followers.plot.hist(range=[0,5000], edgecolor='black', color='lightgreen', legend=True, title='Histogram of followers')"
      ]
    },
    {
      "cell_type": "markdown",
      "id": "879796c4-e266-4cdb-9d9b-dbf530a646a8",
      "metadata": {
        "id": "879796c4-e266-4cdb-9d9b-dbf530a646a8"
      },
      "source": [
        "We took a range of 5000 followers to have a distribution not so much influenced by outliers and more representative of real life. How we could expect, there are more profiles with not so much followers and less profiles with a big number of followers (represented by the tail of the histogram). Outliers are representative of the fact that in real life there are few people (for example famous ones) that have more followers than the sum of the followers of the others, and if we included them we would obtein a distribution crushed on a single column"
      ]
    },
    {
      "cell_type": "code",
      "execution_count": null,
      "id": "d33ec6c5",
      "metadata": {
        "id": "d33ec6c5"
      },
      "outputs": [],
      "source": [
        "def ecdf(x):\n",
        "    x = x / np.sum(x)\n",
        "    return np.cumsum(x)\n",
        "\n",
        "ef=ecdf(followers)"
      ]
    },
    {
      "cell_type": "code",
      "execution_count": null,
      "id": "2c79c008",
      "metadata": {
        "id": "2c79c008",
        "outputId": "d88d08ab-512f-422b-bd68-5c4955b2c13d"
      },
      "outputs": [
        {
          "data": {
            "image/png": "[encoded data removed]",
            "text/plain": [
              "<Figure size 432x288 with 1 Axes>"
            ]
          },
          "metadata": {
            "needs_background": "light"
          },
          "output_type": "display_data"
        }
      ],
      "source": [
        "ef.plot(title='Empirical Distribution of followers')\n",
        "plt.grid()"
      ]
    },
    {
      "cell_type": "markdown",
      "id": "32127f4e-4e7c-430e-bb75-05ce5aab2f5f",
      "metadata": {
        "id": "32127f4e-4e7c-430e-bb75-05ce5aab2f5f"
      },
      "source": [
        "The empirical distribution of the followers represents the distribution function of the sample and in this case it is defined as the number of followers less or equal than a specified value divided the number of profiles in the dataframe. We know that is an increasing monotonous function and it converges to one"
      ]
    },
    {
      "cell_type": "code",
      "execution_count": null,
      "id": "21fd5379",
      "metadata": {
        "id": "21fd5379",
        "outputId": "a2744042-dc80-4c2a-a9f0-e9282f56ba20"
      },
      "outputs": [
        {
          "data": {
            "text/html": [
              "<div>\n",
              "<style scoped>\n",
              "    .dataframe tbody tr th:only-of-type {\n",
              "        vertical-align: middle;\n",
              "    }\n",
              "\n",
              "    .dataframe tbody tr th {\n",
              "        vertical-align: top;\n",
              "    }\n",
              "\n",
              "    .dataframe thead th {\n",
              "        text-align: right;\n",
              "    }\n",
              "</style>\n",
              "<table border=\"1\" class=\"dataframe\">\n",
              "  <thead>\n",
              "    <tr style=\"text-align: right;\">\n",
              "      <th></th>\n",
              "      <th>followers</th>\n",
              "    </tr>\n",
              "  </thead>\n",
              "  <tbody>\n",
              "    <tr>\n",
              "      <th>count</th>\n",
              "      <td>3.452771e+06</td>\n",
              "    </tr>\n",
              "    <tr>\n",
              "      <th>mean</th>\n",
              "      <td>4.739899e+03</td>\n",
              "    </tr>\n",
              "    <tr>\n",
              "      <th>std</th>\n",
              "      <td>1.939087e+05</td>\n",
              "    </tr>\n",
              "    <tr>\n",
              "      <th>min</th>\n",
              "      <td>0.000000e+00</td>\n",
              "    </tr>\n",
              "    <tr>\n",
              "      <th>25%</th>\n",
              "      <td>1.590000e+02</td>\n",
              "    </tr>\n",
              "    <tr>\n",
              "      <th>50%</th>\n",
              "      <td>4.060000e+02</td>\n",
              "    </tr>\n",
              "    <tr>\n",
              "      <th>75%</th>\n",
              "      <td>9.740000e+02</td>\n",
              "    </tr>\n",
              "    <tr>\n",
              "      <th>max</th>\n",
              "      <td>2.854576e+08</td>\n",
              "    </tr>\n",
              "  </tbody>\n",
              "</table>\n",
              "</div>"
            ],
            "text/plain": [
              "          followers\n",
              "count  3.452771e+06\n",
              "mean   4.739899e+03\n",
              "std    1.939087e+05\n",
              "min    0.000000e+00\n",
              "25%    1.590000e+02\n",
              "50%    4.060000e+02\n",
              "75%    9.740000e+02\n",
              "max    2.854576e+08"
            ]
          },
          "execution_count": 30,
          "metadata": {},
          "output_type": "execute_result"
        }
      ],
      "source": [
        "followers.describe()"
      ]
    },
    {
      "cell_type": "markdown",
      "id": "aa926421-5652-4bcf-8f6b-e2adaa31574e",
      "metadata": {
        "id": "aa926421-5652-4bcf-8f6b-e2adaa31574e"
      },
      "source": [
        "With the describe command we can obtein the mean and the quantiles of the followers. Quantiles represent the cut points which devide the sample into equal-sized subgroups"
      ]
    },
    {
      "cell_type": "code",
      "execution_count": null,
      "id": "428dfdf2",
      "metadata": {
        "id": "428dfdf2",
        "outputId": "3eb735d5-6a72-4fcd-aa36-e6430f0216fd"
      },
      "outputs": [
        {
          "data": {
            "text/plain": [
              "followers  \n",
              "0.0            22115\n",
              "1.0             9071\n",
              "50.0            6557\n",
              "49.0            6465\n",
              "51.0            6382\n",
              "               ...  \n",
              "58630.0            1\n",
              "58632.0            1\n",
              "58635.0            1\n",
              "58637.0            1\n",
              "285457645.0        1\n",
              "Length: 68935, dtype: int64"
            ]
          },
          "execution_count": 31,
          "metadata": {},
          "output_type": "execute_result"
        }
      ],
      "source": [
        "followers.value_counts()"
      ]
    },
    {
      "cell_type": "code",
      "execution_count": null,
      "id": "1ae8edb7",
      "metadata": {
        "id": "1ae8edb7",
        "outputId": "c5e8d292-8ec1-4752-ab6e-cd56b6e670c2"
      },
      "outputs": [
        {
          "data": {
            "text/html": [
              "<div>\n",
              "<style scoped>\n",
              "    .dataframe tbody tr th:only-of-type {\n",
              "        vertical-align: middle;\n",
              "    }\n",
              "\n",
              "    .dataframe tbody tr th {\n",
              "        vertical-align: top;\n",
              "    }\n",
              "\n",
              "    .dataframe thead th {\n",
              "        text-align: right;\n",
              "    }\n",
              "</style>\n",
              "<table border=\"1\" class=\"dataframe\">\n",
              "  <thead>\n",
              "    <tr style=\"text-align: right;\">\n",
              "      <th></th>\n",
              "      <th>followers</th>\n",
              "    </tr>\n",
              "  </thead>\n",
              "  <tbody>\n",
              "    <tr>\n",
              "      <th>0</th>\n",
              "      <td>0.0</td>\n",
              "    </tr>\n",
              "  </tbody>\n",
              "</table>\n",
              "</div>"
            ],
            "text/plain": [
              "   followers\n",
              "0        0.0"
            ]
          },
          "execution_count": 32,
          "metadata": {},
          "output_type": "execute_result"
        }
      ],
      "source": [
        "followers.mode()"
      ]
    },
    {
      "cell_type": "markdown",
      "id": "e51bc6a5-6a0d-440c-866b-5e797bdaec1c",
      "metadata": {
        "id": "e51bc6a5-6a0d-440c-866b-5e797bdaec1c"
      },
      "source": [
        "The mode represents the value that appears most frequently in a distribution, so, in our case, in the most of the cases people have zero followers"
      ]
    },
    {
      "cell_type": "markdown",
      "id": "03c50e9c",
      "metadata": {
        "id": "03c50e9c"
      },
      "source": [
        "#### 4. What are histograms, bar plots, scatterplots and pie charts used for?"
      ]
    },
    {
      "cell_type": "markdown",
      "id": "d9aae793",
      "metadata": {
        "id": "d9aae793"
      },
      "source": [
        "Histograms, barplots, scatterplots and pie charts are graphic methods used to represent the distribution of variables. We can represent a quantitative continuous variable with an histogram, so that we have the classes on the x axis and the frequence or the density on the y axis. Moreover, we can study the variable distribution by observing the shape of the histogram. An other way to represent continuous variables is using the scatterplot. The scatterplot represent the manifestation of two variables as points, so we can study the relationship between them. Barplots, instead, are used to represent qualitative or discrete variables, so we have a bar for each variable's realization and her heigth is determinated by the frequency of that realization. Also pie charts are used for qualitative variable, so that each slice of the circle represent the percentage of the categories."
      ]
    },
    {
      "cell_type": "markdown",
      "id": "b7e3f103",
      "metadata": {
        "id": "b7e3f103"
      },
      "source": [
        "#### 5. What insights can you extract from a Box Plot?"
      ]
    },
    {
      "cell_type": "markdown",
      "id": "508771af-2e10-41ab-abd7-211293031c21",
      "metadata": {
        "id": "508771af-2e10-41ab-abd7-211293031c21"
      },
      "source": [
        "The box plot is a graphic method used to represent the most important features of a quantitative variable. We can observe the skewness and the quartiles of the distribution, but it also shows us the minimum and the miximum values"
      ]
    }
  ],
  "metadata": {
    "colab": {
      "collapsed_sections": [],
      "provenance": []
    },
    "kernelspec": {
      "display_name": "Python 3 (ipykernel)",
      "language": "python",
      "name": "python3"
    },
    "language_info": {
      "codemirror_mode": {
        "name": "ipython",
        "version": 3
      },
      "file_extension": ".py",
      "mimetype": "text/x-python",
      "name": "python",
      "nbconvert_exporter": "python",
      "pygments_lexer": "ipython3",
      "version": "3.9.12"
    }
  },
  "nbformat": 4,
  "nbformat_minor": 5
}